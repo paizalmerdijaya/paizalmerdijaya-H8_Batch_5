{
 "cells": [
  {
   "cell_type": "markdown",
   "id": "d2a0b221-7112-471f-82cc-3080ec57c7c4",
   "metadata": {},
   "source": [
    "# Python Function"
   ]
  },
  {
   "cell_type": "code",
   "execution_count": 1,
   "id": "8d8e0d2e-bb10-4736-bf63-16f2dba6143d",
   "metadata": {
    "tags": []
   },
   "outputs": [
    {
     "name": "stdout",
     "output_type": "stream",
     "text": [
      "Return the sum of a 'start' value (default: 0) plus an iterable of numbers\n",
      "\n",
      "When the iterable is empty, return the start value.\n",
      "This function is intended specifically for use with numeric values and may\n",
      "reject non-numeric types.\n"
     ]
    }
   ],
   "source": [
    "print(sum.__doc__)"
   ]
  },
  {
   "cell_type": "markdown",
   "id": "0d1f9923-ba9b-4388-bc6a-fd34867d50a7",
   "metadata": {},
   "source": [
    "## Defining Function"
   ]
  },
  {
   "cell_type": "code",
   "execution_count": 2,
   "id": "f3b8fd99-b226-430b-9464-1191003eb730",
   "metadata": {
    "tags": []
   },
   "outputs": [],
   "source": [
    "def my_function(p, l):\n",
    "    '''\n",
    "    Funtion untuk menghitung luas\n",
    "    '''\n",
    "    print(p*l)"
   ]
  },
  {
   "cell_type": "code",
   "execution_count": 3,
   "id": "20ab3c70-9119-4cbb-92e7-88ee47d3f9e1",
   "metadata": {
    "tags": []
   },
   "outputs": [
    {
     "name": "stdout",
     "output_type": "stream",
     "text": [
      "8\n"
     ]
    }
   ],
   "source": [
    "my_function(4,2)"
   ]
  },
  {
   "cell_type": "code",
   "execution_count": 4,
   "id": "079275a1-6fa4-4895-a9ba-b7f1f19a9202",
   "metadata": {
    "tags": []
   },
   "outputs": [],
   "source": [
    "def printme(str):\n",
    "    '''\n",
    "    This print a passed string into this function\n",
    "    '''\n",
    "    print(str)\n",
    "    return"
   ]
  },
  {
   "cell_type": "markdown",
   "id": "88449d44-cf3e-41c4-b9bb-9c81b5bcbf38",
   "metadata": {},
   "source": [
    "## Calling a Function"
   ]
  },
  {
   "cell_type": "code",
   "execution_count": 5,
   "id": "f6509889-f3d5-4865-a722-dbecd82474a2",
   "metadata": {
    "tags": []
   },
   "outputs": [
    {
     "name": "stdout",
     "output_type": "stream",
     "text": [
      "doodleedoo\n"
     ]
    }
   ],
   "source": [
    "printme('doodleedoo')"
   ]
  },
  {
   "cell_type": "code",
   "execution_count": 6,
   "id": "c4d980e8-eeaa-4926-816e-75d1f033206a",
   "metadata": {
    "tags": []
   },
   "outputs": [
    {
     "name": "stdout",
     "output_type": "stream",
     "text": [
      "coba print lagi\n"
     ]
    }
   ],
   "source": [
    "printme('coba print lagi')"
   ]
  },
  {
   "cell_type": "markdown",
   "id": "49f8712f-d8e7-4223-8569-985cd6abe853",
   "metadata": {},
   "source": [
    "## Pass by reference vs value"
   ]
  },
  {
   "cell_type": "code",
   "execution_count": 7,
   "id": "c0a323b7-1ab9-4237-9c52-cacb4ec102f9",
   "metadata": {
    "tags": []
   },
   "outputs": [],
   "source": [
    "def changeMe(mylist):\n",
    "    '''\n",
    "    This changes a passed list into this function\n",
    "    '''\n",
    "    mylist.append([1, 2, 3, 4])\n",
    "    print('values inside the function: ', mylist)\n",
    "    return"
   ]
  },
  {
   "cell_type": "code",
   "execution_count": 8,
   "id": "16bf4c8e-3672-4b32-890b-c1404e110511",
   "metadata": {
    "tags": []
   },
   "outputs": [
    {
     "name": "stdout",
     "output_type": "stream",
     "text": [
      "values inside the function:  [10, 20, 30, [1, 2, 3, 4]]\n",
      "values inside the function:  [10, 20, 30, [1, 2, 3, 4]]\n"
     ]
    }
   ],
   "source": [
    "mylist = [10, 20, 30]\n",
    "changeMe(mylist)\n",
    "print('values inside the function: ', mylist)"
   ]
  },
  {
   "cell_type": "code",
   "execution_count": 9,
   "id": "3ddca188-dd08-4bd6-9b06-c61f1fab6474",
   "metadata": {
    "tags": []
   },
   "outputs": [],
   "source": [
    "def change_me(mylist):\n",
    "    '''\n",
    "    This changes a passed list into this function\n",
    "    '''\n",
    "    mylist = [1, 2, 3, 4]\n",
    "    print('values inside the function: ', mylist)\n",
    "    return"
   ]
  },
  {
   "cell_type": "code",
   "execution_count": 10,
   "id": "ad9997a2-675e-4ac3-934c-a311a07976b2",
   "metadata": {
    "tags": []
   },
   "outputs": [
    {
     "name": "stdout",
     "output_type": "stream",
     "text": [
      "values inside the function:  [1, 2, 3, 4]\n",
      "values inside the function:  [10, 20, 30]\n"
     ]
    }
   ],
   "source": [
    "mylist = [10, 20, 30]\n",
    "change_me(mylist)\n",
    "print('values inside the function: ', mylist)"
   ]
  },
  {
   "cell_type": "markdown",
   "id": "a60b5eec-45ec-4fd4-9dc3-6e7502414f87",
   "metadata": {},
   "source": [
    "## Function Arguments"
   ]
  },
  {
   "cell_type": "code",
   "execution_count": 11,
   "id": "23ef597d-a7f3-44fd-9a25-63fdb64f8bbf",
   "metadata": {
    "tags": []
   },
   "outputs": [],
   "source": [
    "# Required Arguments\n",
    "def printme(str):\n",
    "    '''\n",
    "    This print a passed string into this function\n",
    "    '''\n",
    "    print(str)\n",
    "    return"
   ]
  },
  {
   "cell_type": "code",
   "execution_count": 12,
   "id": "8a749a7d-2b74-4ec5-a4d9-b88ed0428188",
   "metadata": {
    "tags": []
   },
   "outputs": [
    {
     "ename": "TypeError",
     "evalue": "printme() missing 1 required positional argument: 'str'",
     "output_type": "error",
     "traceback": [
      "\u001b[1;31m---------------------------------------------------------------------------\u001b[0m",
      "\u001b[1;31mTypeError\u001b[0m                                 Traceback (most recent call last)",
      "Cell \u001b[1;32mIn[12], line 1\u001b[0m\n\u001b[1;32m----> 1\u001b[0m printme()\n",
      "\u001b[1;31mTypeError\u001b[0m: printme() missing 1 required positional argument: 'str'"
     ]
    }
   ],
   "source": [
    "printme()"
   ]
  },
  {
   "cell_type": "code",
   "execution_count": 13,
   "id": "51fb0574-e03b-4b6a-9186-a86a69981a8d",
   "metadata": {
    "tags": []
   },
   "outputs": [],
   "source": [
    "# Keyword Arguments\n",
    "def printInfo(name, age):\n",
    "    '''\n",
    "    This Print Name and Age\n",
    "    '''\n",
    "    print('Name :', name)\n",
    "    print('Age :', age)\n",
    "    return"
   ]
  },
  {
   "cell_type": "code",
   "execution_count": 14,
   "id": "d93758e2-780c-40fe-8d9f-24a84c8d8415",
   "metadata": {
    "tags": []
   },
   "outputs": [
    {
     "name": "stdout",
     "output_type": "stream",
     "text": [
      "Name : Hacktiv8\n",
      "Age : 4\n"
     ]
    }
   ],
   "source": [
    "printInfo(age=4, name='Hacktiv8')"
   ]
  },
  {
   "cell_type": "code",
   "execution_count": 15,
   "id": "55595334-a726-4fd4-83e3-d6efd63346bf",
   "metadata": {
    "tags": []
   },
   "outputs": [],
   "source": [
    "# Default Arguments\n",
    "def printInfo(name, age=30):\n",
    "    '''\n",
    "    This Print Name and Age\n",
    "    '''\n",
    "    print('Name :', name)\n",
    "    print('Age :', age)\n",
    "    return"
   ]
  },
  {
   "cell_type": "code",
   "execution_count": 16,
   "id": "cd4ad319-f6bd-4708-99bf-5217c97e91a7",
   "metadata": {
    "tags": []
   },
   "outputs": [
    {
     "name": "stdout",
     "output_type": "stream",
     "text": [
      "Name : Hacktiv8\n",
      "Age : 12\n",
      "Name : Fulan\n",
      "Age : 30\n"
     ]
    }
   ],
   "source": [
    "printInfo('Hacktiv8', 12)\n",
    "printInfo('Fulan')"
   ]
  },
  {
   "cell_type": "code",
   "execution_count": 17,
   "id": "ff824a28-35f2-4e7c-930b-d740dcabe895",
   "metadata": {
    "tags": []
   },
   "outputs": [],
   "source": [
    "# Variable-length Arguments"
   ]
  },
  {
   "cell_type": "code",
   "execution_count": 18,
   "id": "af5d0b9b-a408-43df-ab36-55a8386482d5",
   "metadata": {
    "tags": []
   },
   "outputs": [],
   "source": [
    "def print_info(arg1, *vartuple):\n",
    "    '''\n",
    "    this prints a variable passed arguments\n",
    "    '''\n",
    "    print('Output is :')\n",
    "    # print(arg1)\n",
    "    for val in vartuple:\n",
    "        print(val)\n",
    "    return"
   ]
  },
  {
   "cell_type": "code",
   "execution_count": 19,
   "id": "75989119-59ad-4402-8432-d248caaba463",
   "metadata": {
    "tags": []
   },
   "outputs": [
    {
     "name": "stdout",
     "output_type": "stream",
     "text": [
      "Output is :\n"
     ]
    }
   ],
   "source": [
    "print_info(10)"
   ]
  },
  {
   "cell_type": "code",
   "execution_count": 20,
   "id": "ec592d17-f0da-46db-868d-49650a52c6de",
   "metadata": {
    "tags": []
   },
   "outputs": [
    {
     "name": "stdout",
     "output_type": "stream",
     "text": [
      "Output is :\n",
      "3.2\n",
      "a\n",
      "True\n"
     ]
    }
   ],
   "source": [
    "print_info(70, 3.2, 'a', True)"
   ]
  },
  {
   "cell_type": "markdown",
   "id": "d510959f-9a2c-4857-8bd6-bfd68e96106c",
   "metadata": {},
   "source": [
    "## Anonymous Function"
   ]
  },
  {
   "cell_type": "code",
   "execution_count": 21,
   "id": "4c17fae9-6ece-45ea-899a-8af359d58c4a",
   "metadata": {
    "tags": []
   },
   "outputs": [],
   "source": [
    "sum_1 = lambda arg1, arg2: arg1 + arg2\n",
    "\n",
    "def sum_2(arg1, arg2):\n",
    "    return arg1 + arg2"
   ]
  },
  {
   "cell_type": "code",
   "execution_count": 22,
   "id": "b0531ca1-a843-4149-9e4d-20eab5945e9b",
   "metadata": {
    "tags": []
   },
   "outputs": [
    {
     "name": "stdout",
     "output_type": "stream",
     "text": [
      "2 + 3 from sum_1 :  5\n",
      "2 + 3 from sum_2 :  5\n"
     ]
    }
   ],
   "source": [
    "print('2 + 3 from sum_1 : ', sum_1(2,3))\n",
    "print('2 + 3 from sum_2 : ', sum_2(2,3))"
   ]
  },
  {
   "cell_type": "markdown",
   "id": "72c7c5a4-2d50-42bf-acd1-43f922d689e8",
   "metadata": {},
   "source": [
    "## Return Statement"
   ]
  },
  {
   "cell_type": "code",
   "execution_count": 23,
   "id": "a190748f-dffd-4788-b28e-bb4bc9c7d963",
   "metadata": {
    "tags": []
   },
   "outputs": [],
   "source": [
    "def sum(arg1, arg2):\n",
    "    '''\n",
    "    Add both paramaters and return them.\n",
    "    '''\n",
    "    total = arg1 + arg2\n",
    "    total2 = total + arg1\n",
    "    print('Inside the Function :', total)\n",
    "    return total2"
   ]
  },
  {
   "cell_type": "code",
   "execution_count": 24,
   "id": "c7d1c96d-4aef-4bf9-8f73-e5323b14f78f",
   "metadata": {
    "tags": []
   },
   "outputs": [
    {
     "name": "stdout",
     "output_type": "stream",
     "text": [
      "Inside the Function : 30\n",
      "Outside the Function : 40\n"
     ]
    }
   ],
   "source": [
    "total = sum(10, 20)\n",
    "print('Outside the Function :', total)"
   ]
  },
  {
   "cell_type": "markdown",
   "id": "43508100-d89f-4533-a665-d6b17fae52af",
   "metadata": {},
   "source": [
    "## Scope of Variable"
   ]
  },
  {
   "cell_type": "code",
   "execution_count": 25,
   "id": "fbfefbc6-d47f-4918-87b9-66f6c51515dc",
   "metadata": {
    "tags": []
   },
   "outputs": [
    {
     "name": "stdout",
     "output_type": "stream",
     "text": [
      "Inside the function local total : 30\n",
      "Outside the function global total : 0\n"
     ]
    }
   ],
   "source": [
    "# Global vs. Local Variable\n",
    "\n",
    "total = 0\n",
    "\n",
    "def sum(arg1, arg2):\n",
    "    total = arg1 + arg2\n",
    "    print('Inside the function local total :', total)\n",
    "    return total\n",
    "\n",
    "sum(10,20)\n",
    "print('Outside the function global total :', total)"
   ]
  },
  {
   "cell_type": "code",
   "execution_count": null,
   "id": "7fe432b0-db0e-4183-ab00-c4864dc9e582",
   "metadata": {
    "tags": []
   },
   "outputs": [],
   "source": [
    "jumlah_kucing = 20\n",
    "\n",
    "def jumlah_hewan():\n",
    "    jumlah_anjing = 30\n",
    "    return jumlah_kucing + jumlah_anjing\n",
    "\n",
    "def jumlah_kucing2():\n",
    "    return jumlah_kucing + jumlah_kucing\n",
    "\n",
    "print(jumlah_hewan())\n",
    "print(jumlah_kucing2())"
   ]
  },
  {
   "cell_type": "code",
   "execution_count": null,
   "id": "4ba563df-4826-4618-be53-2aa46ecaf6bc",
   "metadata": {
    "tags": []
   },
   "outputs": [],
   "source": [
    "list_ = [3, 2, 1]"
   ]
  },
  {
   "cell_type": "code",
   "execution_count": null,
   "id": "652f8079-c3e1-41dd-9892-cefce2744faa",
   "metadata": {
    "tags": []
   },
   "outputs": [],
   "source": [
    "list_.append(4)"
   ]
  },
  {
   "cell_type": "code",
   "execution_count": null,
   "id": "c36acc65-635b-4b9c-858d-e5b836e561ab",
   "metadata": {
    "tags": []
   },
   "outputs": [],
   "source": [
    "list_"
   ]
  },
  {
   "cell_type": "markdown",
   "id": "69b04adf-be1a-4bde-8b22-3ff84ea2af41",
   "metadata": {},
   "source": [
    "# Python Module : Overview"
   ]
  },
  {
   "cell_type": "code",
   "execution_count": null,
   "id": "620854ea-6da6-4d9b-a35f-a1265050790e",
   "metadata": {
    "tags": []
   },
   "outputs": [],
   "source": [
    "import mod"
   ]
  },
  {
   "cell_type": "code",
   "execution_count": null,
   "id": "6351e14b-dd69-46fb-996a-30249ddf6cc1",
   "metadata": {
    "tags": []
   },
   "outputs": [],
   "source": [
    "mod.s"
   ]
  },
  {
   "cell_type": "code",
   "execution_count": null,
   "id": "92b3fda1-8f03-4ca9-86ac-276e43ad6edd",
   "metadata": {
    "tags": []
   },
   "outputs": [],
   "source": [
    "for val in mod.a:\n",
    "    print(val)"
   ]
  },
  {
   "cell_type": "code",
   "execution_count": null,
   "id": "9443ae44-8461-4373-a761-bfafd0fda9dd",
   "metadata": {
    "tags": []
   },
   "outputs": [],
   "source": [
    "mod.foo(['foo', 'bar', 'baz', 'qux'])"
   ]
  },
  {
   "cell_type": "code",
   "execution_count": null,
   "id": "3042c4c1-f4ff-4fba-afcf-eeb7a7756489",
   "metadata": {
    "tags": []
   },
   "outputs": [],
   "source": [
    "x = mod.Foo()"
   ]
  },
  {
   "cell_type": "code",
   "execution_count": null,
   "id": "c714b1c4-a512-4cbc-9155-b4057e65bc0e",
   "metadata": {
    "tags": []
   },
   "outputs": [],
   "source": [
    "print(x)\n",
    "print(type(x))"
   ]
  },
  {
   "cell_type": "markdown",
   "id": "1ed00a88-bdf6-472d-9489-40c5cf05b981",
   "metadata": {},
   "source": [
    "## Module search path"
   ]
  },
  {
   "cell_type": "code",
   "execution_count": null,
   "id": "e4202441-ea81-4062-bee0-ae694e3d71bd",
   "metadata": {
    "tags": []
   },
   "outputs": [],
   "source": [
    "import sys\n",
    "sys.path"
   ]
  },
  {
   "cell_type": "code",
   "execution_count": null,
   "id": "6a644e90-c59b-4634-9b19-3bd92c53b90a",
   "metadata": {
    "tags": []
   },
   "outputs": [],
   "source": [
    "mod.__file__"
   ]
  },
  {
   "cell_type": "code",
   "execution_count": null,
   "id": "07f315eb-ffdc-4044-8087-d4314707686d",
   "metadata": {
    "tags": []
   },
   "outputs": [],
   "source": [
    "import numpy as np\n",
    "np.__file__"
   ]
  },
  {
   "cell_type": "code",
   "execution_count": null,
   "id": "e6adccc3-e1c3-4056-bc8a-c02007578b56",
   "metadata": {
    "tags": []
   },
   "outputs": [],
   "source": [
    "from IPython.display import display, HTML\n",
    "from pprint import pformat\n",
    "def boxprint(*args):\n",
    "    for arg in args:\n",
    "        display(HTML('<pre style=\"white-space: pre !important;\">{}</pre>'.format(pformat(arg))))"
   ]
  },
  {
   "cell_type": "code",
   "execution_count": null,
   "id": "628e4aaa-63b1-456d-9443-09a626e5f1fb",
   "metadata": {
    "tags": []
   },
   "outputs": [],
   "source": [
    "print(np.array.__doc__)"
   ]
  },
  {
   "cell_type": "markdown",
   "id": "7fe9e8e6-dfe1-4043-8eaf-b8ab498c1e33",
   "metadata": {},
   "source": [
    "## The import statement"
   ]
  },
  {
   "cell_type": "code",
   "execution_count": null,
   "id": "de8f4eac-cb38-498d-bc24-ec274ac248b6",
   "metadata": {
    "tags": []
   },
   "outputs": [],
   "source": [
    "import mod"
   ]
  },
  {
   "cell_type": "code",
   "execution_count": null,
   "id": "7694761d-4954-4a50-9c66-2d524dbe2fb1",
   "metadata": {
    "tags": []
   },
   "outputs": [],
   "source": [
    "mod"
   ]
  },
  {
   "cell_type": "code",
   "execution_count": null,
   "id": "03e2f8d0-cb09-4bdc-b7fd-3e8bb45c4a51",
   "metadata": {
    "tags": []
   },
   "outputs": [],
   "source": [
    "s"
   ]
  },
  {
   "cell_type": "code",
   "execution_count": null,
   "id": "a19a4567-2dc9-4c15-a55a-8c8be2072928",
   "metadata": {
    "tags": []
   },
   "outputs": [],
   "source": [
    "foo('quux')"
   ]
  },
  {
   "cell_type": "code",
   "execution_count": null,
   "id": "cc75e104-e261-4350-b1bb-fb718539cb31",
   "metadata": {
    "tags": []
   },
   "outputs": [],
   "source": [
    "mod.s"
   ]
  },
  {
   "cell_type": "code",
   "execution_count": null,
   "id": "d459136d-a627-4401-8e99-89f7bd4c00c3",
   "metadata": {
    "tags": []
   },
   "outputs": [],
   "source": [
    "mod.foo('quux')"
   ]
  },
  {
   "cell_type": "code",
   "execution_count": null,
   "id": "ba37f525-46c8-4d92-b3f4-4590d53d6adc",
   "metadata": {
    "tags": []
   },
   "outputs": [],
   "source": [
    "from mod import s, foo"
   ]
  },
  {
   "cell_type": "code",
   "execution_count": null,
   "id": "27d979d9-122d-4be3-b2ed-1fc72d2be570",
   "metadata": {
    "tags": []
   },
   "outputs": [],
   "source": [
    "s"
   ]
  },
  {
   "cell_type": "code",
   "execution_count": null,
   "id": "2b8c1ace-6323-4ba3-98e0-4f2b492c9aff",
   "metadata": {
    "tags": []
   },
   "outputs": [],
   "source": [
    "foo('test')"
   ]
  },
  {
   "cell_type": "code",
   "execution_count": null,
   "id": "59ee2e25-2d5c-4b70-af7d-5110ede77a9f",
   "metadata": {
    "tags": []
   },
   "outputs": [],
   "source": [
    "from mod import *"
   ]
  },
  {
   "cell_type": "code",
   "execution_count": null,
   "id": "70b8f009-9791-4977-bfbd-a0d2924b72a2",
   "metadata": {
    "tags": []
   },
   "outputs": [],
   "source": [
    "Foo()"
   ]
  },
  {
   "cell_type": "code",
   "execution_count": null,
   "id": "c0bd2793-210f-4554-9b66-838c347536db",
   "metadata": {},
   "outputs": [],
   "source": [
    "import numpy as np"
   ]
  },
  {
   "cell_type": "code",
   "execution_count": null,
   "id": "2dcd8b36-553a-4cb6-995b-4c8c0a37f9e6",
   "metadata": {
    "tags": []
   },
   "outputs": [],
   "source": [
    "arr = np.array([1,12,2])"
   ]
  },
  {
   "cell_type": "code",
   "execution_count": null,
   "id": "3ddfa591-bb4b-4678-b738-db69d4ef7066",
   "metadata": {
    "tags": []
   },
   "outputs": [],
   "source": [
    "import pandas as pd\n",
    "import matplotlib.pyplot as plt"
   ]
  },
  {
   "cell_type": "code",
   "execution_count": null,
   "id": "fe295bda-1911-4877-b1df-d728989d0751",
   "metadata": {
    "tags": []
   },
   "outputs": [],
   "source": [
    "def bar():\n",
    "    from mod import foo\n",
    "    foo('test')"
   ]
  },
  {
   "cell_type": "code",
   "execution_count": null,
   "id": "729caee8-bcae-4eae-867a-4093bd9f72fc",
   "metadata": {
    "tags": []
   },
   "outputs": [],
   "source": [
    "bar()"
   ]
  },
  {
   "cell_type": "code",
   "execution_count": null,
   "id": "a87c6b57-2efa-4f12-89a2-560b12f1d2a6",
   "metadata": {
    "tags": []
   },
   "outputs": [],
   "source": [
    "try:\n",
    "    import baz\n",
    "\n",
    "except ImportError:\n",
    "    print('Module not found')"
   ]
  },
  {
   "cell_type": "code",
   "execution_count": null,
   "id": "4a5b9d72-b02b-42b5-b348-8b76e9fdce54",
   "metadata": {
    "tags": []
   },
   "outputs": [],
   "source": [
    "try:\n",
    "    from mod import baz\n",
    "except ImportError:\n",
    "    print('Object not found in module')"
   ]
  },
  {
   "cell_type": "code",
   "execution_count": null,
   "id": "fbc1f65a-e5e0-4f5f-b1d6-778a86173c42",
   "metadata": {
    "tags": []
   },
   "outputs": [],
   "source": [
    "dir()"
   ]
  },
  {
   "cell_type": "code",
   "execution_count": null,
   "id": "f95702d0-0efb-4715-a224-a0e54f07aaa4",
   "metadata": {
    "tags": []
   },
   "outputs": [],
   "source": [
    "qux = [1,2,3,4,5]"
   ]
  },
  {
   "cell_type": "code",
   "execution_count": null,
   "id": "67cebadc-4295-46b9-91ef-5f3daa46fb83",
   "metadata": {
    "tags": []
   },
   "outputs": [],
   "source": [
    "dir()"
   ]
  }
 ],
 "metadata": {
  "kernelspec": {
   "display_name": "Python 3 (ipykernel)",
   "language": "python",
   "name": "python3"
  },
  "language_info": {
   "codemirror_mode": {
    "name": "ipython",
    "version": 3
   },
   "file_extension": ".py",
   "mimetype": "text/x-python",
   "name": "python",
   "nbconvert_exporter": "python",
   "pygments_lexer": "ipython3",
   "version": "3.11.4"
  }
 },
 "nbformat": 4,
 "nbformat_minor": 5
}
