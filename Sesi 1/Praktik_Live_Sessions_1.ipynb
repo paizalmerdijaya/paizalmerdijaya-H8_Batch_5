{
  "nbformat": 4,
  "nbformat_minor": 0,
  "metadata": {
    "colab": {
      "provenance": []
    },
    "kernelspec": {
      "name": "python3",
      "display_name": "Python 3"
    },
    "language_info": {
      "name": "python"
    }
  },
  "cells": [
    {
      "cell_type": "markdown",
      "source": [
        "**Integers**"
      ],
      "metadata": {
        "id": "u_a4IQQe5FT1"
      }
    },
    {
      "cell_type": "code",
      "source": [
        "print(12345 + 1)"
      ],
      "metadata": {
        "colab": {
          "base_uri": "https://localhost:8080/"
        },
        "id": "3TEf14B_5KJp",
        "outputId": "bfd797d3-c4f0-4293-e340-d8ccc70a2a03"
      },
      "execution_count": 1,
      "outputs": [
        {
          "output_type": "stream",
          "name": "stdout",
          "text": [
            "12346\n"
          ]
        }
      ]
    },
    {
      "cell_type": "code",
      "source": [
        "print(10)\n",
        "print(type(10))"
      ],
      "metadata": {
        "colab": {
          "base_uri": "https://localhost:8080/"
        },
        "id": "ShbBRPml5ZCc",
        "outputId": "dbb1b268-66b4-43a8-e3e4-520636bc577d"
      },
      "execution_count": 2,
      "outputs": [
        {
          "output_type": "stream",
          "name": "stdout",
          "text": [
            "10\n",
            "<class 'int'>\n"
          ]
        }
      ]
    },
    {
      "cell_type": "markdown",
      "source": [
        "**Floating pont** **Number** **teks tebal**"
      ],
      "metadata": {
        "id": "pmBzqh5u5oBZ"
      }
    },
    {
      "cell_type": "code",
      "source": [
        "print(4.2)\n",
        "print(type(4.2))\n",
        "\n",
        "print(4.)\n",
        "\n",
        "print(.2)\n",
        "\n",
        "print(.4e7)\n",
        "\n",
        "print(4.2e-4)"
      ],
      "metadata": {
        "colab": {
          "base_uri": "https://localhost:8080/"
        },
        "id": "KlF_THF15sC_",
        "outputId": "e3fe115d-c19d-401b-e66c-1258a85949eb"
      },
      "execution_count": 3,
      "outputs": [
        {
          "output_type": "stream",
          "name": "stdout",
          "text": [
            "4.2\n",
            "<class 'float'>\n",
            "4.0\n",
            "0.2\n",
            "4000000.0\n",
            "0.00042\n"
          ]
        }
      ]
    },
    {
      "cell_type": "markdown",
      "source": [
        "**String**"
      ],
      "metadata": {
        "id": "grxKE-j36Tiw"
      }
    },
    {
      "cell_type": "code",
      "source": [
        "print(\"Hactive8\")\n",
        "\n",
        "print(type(\"Hactive8\"))"
      ],
      "metadata": {
        "colab": {
          "base_uri": "https://localhost:8080/"
        },
        "id": "QD9BBfsB6VX4",
        "outputId": "05fd3042-70c5-44f3-ae5f-9c1ba12747d9"
      },
      "execution_count": 4,
      "outputs": [
        {
          "output_type": "stream",
          "name": "stdout",
          "text": [
            "Hactive8\n",
            "<class 'str'>\n"
          ]
        }
      ]
    },
    {
      "cell_type": "code",
      "source": [
        "print('')"
      ],
      "metadata": {
        "colab": {
          "base_uri": "https://localhost:8080/"
        },
        "id": "302H0g3g7w5J",
        "outputId": "f41d8934-588b-4b80-bba4-392f660d606c"
      },
      "execution_count": 5,
      "outputs": [
        {
          "output_type": "stream",
          "name": "stdout",
          "text": [
            "\n"
          ]
        }
      ]
    },
    {
      "cell_type": "code",
      "source": [
        "print(\"ini konten dengan single quote(') katakter.\")\n",
        "\n",
        "print('ini konten dengan double quote (\") karakter.')"
      ],
      "metadata": {
        "colab": {
          "base_uri": "https://localhost:8080/"
        },
        "id": "_e3dNHCZ7zqh",
        "outputId": "fd4c6679-f575-4372-8517-c92479cda1a2"
      },
      "execution_count": 6,
      "outputs": [
        {
          "output_type": "stream",
          "name": "stdout",
          "text": [
            "ini konten dengan single quote(') katakter.\n",
            "ini konten dengan double quote (\") karakter.\n"
          ]
        }
      ]
    },
    {
      "cell_type": "markdown",
      "source": [
        "**Bolean type, Bolean context, and \"truthines\"**"
      ],
      "metadata": {
        "id": "TrwBy0TJIsJW"
      }
    },
    {
      "cell_type": "code",
      "source": [
        "print(type(True))\n",
        "\n",
        "print(type(False))"
      ],
      "metadata": {
        "colab": {
          "base_uri": "https://localhost:8080/"
        },
        "id": "HBhGyiiaI1dr",
        "outputId": "4b568349-4a0e-4194-a162-329c9ae6a33a"
      },
      "execution_count": 9,
      "outputs": [
        {
          "output_type": "stream",
          "name": "stdout",
          "text": [
            "<class 'bool'>\n",
            "<class 'bool'>\n"
          ]
        }
      ]
    },
    {
      "cell_type": "markdown",
      "source": [
        "**Variabel Assigment**"
      ],
      "metadata": {
        "id": "Eg9vB9azJXob"
      }
    },
    {
      "cell_type": "code",
      "source": [
        "n = 300\n",
        "print(n)"
      ],
      "metadata": {
        "colab": {
          "base_uri": "https://localhost:8080/"
        },
        "id": "UHSYSnA8JbaN",
        "outputId": "2f32203f-2784-4415-bccd-63901f80a731"
      },
      "execution_count": 12,
      "outputs": [
        {
          "output_type": "stream",
          "name": "stdout",
          "text": [
            "300\n"
          ]
        }
      ]
    },
    {
      "cell_type": "code",
      "source": [
        "n"
      ],
      "metadata": {
        "colab": {
          "base_uri": "https://localhost:8080/"
        },
        "id": "HIvN5GLaJo1D",
        "outputId": "05934826-dd46-4ef4-db48-a28df314b214"
      },
      "execution_count": 13,
      "outputs": [
        {
          "output_type": "execute_result",
          "data": {
            "text/plain": [
              "300"
            ]
          },
          "metadata": {},
          "execution_count": 13
        }
      ]
    },
    {
      "cell_type": "code",
      "source": [
        "n = 1000\n",
        "print(n)"
      ],
      "metadata": {
        "colab": {
          "base_uri": "https://localhost:8080/"
        },
        "id": "mlqFsd91JgiT",
        "outputId": "c5cd3b6c-3ad6-429b-d1c2-cbb68d311938"
      },
      "execution_count": 14,
      "outputs": [
        {
          "output_type": "stream",
          "name": "stdout",
          "text": [
            "1000\n"
          ]
        }
      ]
    },
    {
      "cell_type": "code",
      "source": [
        "a = b = c = 3000\n",
        "print (a,b,c)"
      ],
      "metadata": {
        "colab": {
          "base_uri": "https://localhost:8080/"
        },
        "id": "FD7hs1nFJ0-8",
        "outputId": "ef97c607-b92e-4bcb-d178-1bad1ba0676e"
      },
      "execution_count": 15,
      "outputs": [
        {
          "output_type": "stream",
          "name": "stdout",
          "text": [
            "3000 3000 3000\n"
          ]
        }
      ]
    },
    {
      "cell_type": "markdown",
      "source": [
        "**Variabel Type in Phyton**"
      ],
      "metadata": {
        "id": "LenJrnuiKDyL"
      }
    },
    {
      "cell_type": "code",
      "source": [
        "var = 23.5\n",
        "print(var)\n",
        "\n",
        "var = \"now i'm a string\"\n",
        "\n",
        "print(var)"
      ],
      "metadata": {
        "colab": {
          "base_uri": "https://localhost:8080/"
        },
        "id": "29KxjqmjKG9l",
        "outputId": "e99634bf-f329-4e06-bafe-89bf8c341adb"
      },
      "execution_count": 16,
      "outputs": [
        {
          "output_type": "stream",
          "name": "stdout",
          "text": [
            "23.5\n",
            "now i'm a string\n"
          ]
        }
      ]
    },
    {
      "cell_type": "markdown",
      "source": [
        "**Variabel Name**"
      ],
      "metadata": {
        "id": "YzkUxZRzUu2E"
      }
    },
    {
      "cell_type": "code",
      "source": [
        "name = \"Hacktive8\"\n",
        "age = 54\n",
        "has_laptops = True\n",
        "print(name, age, has_laptops)"
      ],
      "metadata": {
        "colab": {
          "base_uri": "https://localhost:8080/"
        },
        "id": "klLljgMRUxWF",
        "outputId": "a16cfdd2-73e3-48f0-92b6-f525fbe566fe"
      },
      "execution_count": 19,
      "outputs": [
        {
          "output_type": "stream",
          "name": "stdout",
          "text": [
            "Hacktive8 54 True\n"
          ]
        }
      ]
    },
    {
      "cell_type": "markdown",
      "source": [
        "**Operator and Expression in Phyton**"
      ],
      "metadata": {
        "id": "Sxhr5D8EYTw_"
      }
    },
    {
      "cell_type": "code",
      "source": [
        "a = 10\n",
        "b = 20\n",
        "\n",
        "print(a+b)"
      ],
      "metadata": {
        "colab": {
          "base_uri": "https://localhost:8080/"
        },
        "id": "3Ki-KVdcYYN1",
        "outputId": "f96361fb-60c7-41b2-88e0-9774d35b9b80"
      },
      "execution_count": 20,
      "outputs": [
        {
          "output_type": "stream",
          "name": "stdout",
          "text": [
            "30\n"
          ]
        }
      ]
    },
    {
      "cell_type": "code",
      "source": [
        "print(a+b+a-b)"
      ],
      "metadata": {
        "colab": {
          "base_uri": "https://localhost:8080/"
        },
        "id": "E-E7pU_TYkKu",
        "outputId": "523a8052-230d-42af-b921-a3022abe2e11"
      },
      "execution_count": 21,
      "outputs": [
        {
          "output_type": "stream",
          "name": "stdout",
          "text": [
            "20\n"
          ]
        }
      ]
    },
    {
      "cell_type": "markdown",
      "source": [
        "**Aritmatic Operation**"
      ],
      "metadata": {
        "id": "YmfcgbcBZWwp"
      }
    },
    {
      "cell_type": "code",
      "source": [
        "print(a/b)\n",
        "print(a%b)\n",
        "print(a*b)\n",
        "print(a**b)"
      ],
      "metadata": {
        "colab": {
          "base_uri": "https://localhost:8080/"
        },
        "id": "08qT9R0CYyt-",
        "outputId": "5842ccf6-24c0-4352-d45b-4ef335475784"
      },
      "execution_count": 22,
      "outputs": [
        {
          "output_type": "stream",
          "name": "stdout",
          "text": [
            "0.5\n",
            "10\n",
            "200\n",
            "100000000000000000000\n"
          ]
        }
      ]
    },
    {
      "cell_type": "markdown",
      "source": [
        "**Comparison Operator**"
      ],
      "metadata": {
        "id": "7wv02YqGZa1J"
      }
    },
    {
      "cell_type": "code",
      "source": [
        "a = 10\n",
        "b = 20\n",
        "\n",
        "print(a==b)\n",
        "print(a!=b)\n",
        "print(a<=b)\n",
        "print(a>=b)\n",
        "\n",
        "a = 30\n",
        "b = 30\n",
        "\n",
        "print(a==b)\n",
        "print(a!=b)\n",
        "print(a<=b)\n",
        "print(a>=b)"
      ],
      "metadata": {
        "colab": {
          "base_uri": "https://localhost:8080/"
        },
        "id": "FUYiEvBzZMn4",
        "outputId": "608e23c8-de6d-49be-e867-5a14fb1ae09d"
      },
      "execution_count": 23,
      "outputs": [
        {
          "output_type": "stream",
          "name": "stdout",
          "text": [
            "False\n",
            "True\n",
            "True\n",
            "False\n",
            "True\n",
            "False\n",
            "True\n",
            "True\n"
          ]
        }
      ]
    },
    {
      "cell_type": "markdown",
      "source": [
        "**String**"
      ],
      "metadata": {
        "id": "oM6NhbMbbvNY"
      }
    },
    {
      "cell_type": "code",
      "source": [
        "s ='foo'\n",
        "t ='bar'\n",
        "u ='baz'\n",
        "\n",
        "print(s+t)\n",
        "print(s+t+u)\n",
        "print('Hactive8'+'PTP')"
      ],
      "metadata": {
        "colab": {
          "base_uri": "https://localhost:8080/"
        },
        "id": "b6pA9HYsbyBj",
        "outputId": "4440eec5-b565-44bd-9226-f3383b6b20ca"
      },
      "execution_count": 24,
      "outputs": [
        {
          "output_type": "stream",
          "name": "stdout",
          "text": [
            "foobar\n",
            "foobarbaz\n",
            "Hactive8PTP\n"
          ]
        }
      ]
    },
    {
      "cell_type": "code",
      "source": [
        "s*4"
      ],
      "metadata": {
        "colab": {
          "base_uri": "https://localhost:8080/",
          "height": 35
        },
        "id": "7S2wx_IzhgcV",
        "outputId": "eac0b042-3297-4587-e314-37b5fa3bd538"
      },
      "execution_count": 25,
      "outputs": [
        {
          "output_type": "execute_result",
          "data": {
            "text/plain": [
              "'foofoofoofoo'"
            ],
            "application/vnd.google.colaboratory.intrinsic+json": {
              "type": "string"
            }
          },
          "metadata": {},
          "execution_count": 25
        }
      ]
    },
    {
      "cell_type": "code",
      "source": [
        "print(s in 'that food for us')\n",
        "print(s in 'that from for us')"
      ],
      "metadata": {
        "colab": {
          "base_uri": "https://localhost:8080/"
        },
        "id": "togYsDSHhqYh",
        "outputId": "ac6a46ce-66d7-449a-a3c9-95965e76a45f"
      },
      "execution_count": 26,
      "outputs": [
        {
          "output_type": "stream",
          "name": "stdout",
          "text": [
            "True\n",
            "False\n"
          ]
        }
      ]
    },
    {
      "cell_type": "code",
      "source": [
        "s = 'HackTIV8'\n",
        "\n",
        "# Capitalize\n",
        "print(s.capitalize())\n",
        "\n",
        "# Lower\n",
        "print(s.lower())\n",
        "\n",
        "# Swapcase\n",
        "print(s.swapcase())\n",
        "\n",
        "# Title\n",
        "print(s.title())\n",
        "\n",
        "# Uppercase\n",
        "print(s.upper())\n"
      ],
      "metadata": {
        "colab": {
          "base_uri": "https://localhost:8080/"
        },
        "id": "A7772jHNm0Fa",
        "outputId": "8625b860-211f-44b1-b182-f8b694dd7d29"
      },
      "execution_count": 29,
      "outputs": [
        {
          "output_type": "stream",
          "name": "stdout",
          "text": [
            "Hacktiv8\n",
            "hacktiv8\n",
            "hACKtiv8\n",
            "Hacktiv8\n",
            "HACKTIV8\n"
          ]
        }
      ]
    },
    {
      "cell_type": "markdown",
      "source": [
        "**Phyton List**"
      ],
      "metadata": {
        "id": "0HK5hKYBn9bh"
      }
    },
    {
      "cell_type": "code",
      "source": [
        "a = ['foo','bar','baz','qux']\n",
        "a"
      ],
      "metadata": {
        "colab": {
          "base_uri": "https://localhost:8080/"
        },
        "id": "716_57DOn_Zo",
        "outputId": "afd21e5f-5678-4deb-fc95-a29cf5e63885"
      },
      "execution_count": 30,
      "outputs": [
        {
          "output_type": "execute_result",
          "data": {
            "text/plain": [
              "['foo', 'bar', 'baz', 'qux']"
            ]
          },
          "metadata": {},
          "execution_count": 30
        }
      ]
    },
    {
      "cell_type": "markdown",
      "source": [
        "**List Are Ordered**"
      ],
      "metadata": {
        "id": "1HEWA2NsoNth"
      }
    },
    {
      "cell_type": "code",
      "source": [
        "a = ['foo','bar','baz','qux']\n",
        "b = ['baz','qux','bar','foo']\n",
        "\n",
        "a == b"
      ],
      "metadata": {
        "colab": {
          "base_uri": "https://localhost:8080/"
        },
        "id": "_VRt_8ZVoRQo",
        "outputId": "27b399a0-6587-42ce-e3ba-61e1d88bc947"
      },
      "execution_count": 31,
      "outputs": [
        {
          "output_type": "execute_result",
          "data": {
            "text/plain": [
              "False"
            ]
          },
          "metadata": {},
          "execution_count": 31
        }
      ]
    },
    {
      "cell_type": "markdown",
      "source": [
        "**Lists Can Contain Arbitrary Objects**"
      ],
      "metadata": {
        "id": "C6Yxuef5pAWg"
      }
    },
    {
      "cell_type": "code",
      "source": [
        "a = [21.42, 'foobar', 3, 4, 'bark', False, 3.14159]\n",
        "print(a)\n"
      ],
      "metadata": {
        "colab": {
          "base_uri": "https://localhost:8080/"
        },
        "id": "xrspD60RpODA",
        "outputId": "8007961c-8bd6-4073-9857-238675df9c1c"
      },
      "execution_count": 32,
      "outputs": [
        {
          "output_type": "stream",
          "name": "stdout",
          "text": [
            "[21.42, 'foobar', 3, 4, 'bark', False, 3.14159]\n"
          ]
        }
      ]
    },
    {
      "cell_type": "markdown",
      "source": [
        "**List Elements Can Be Accessed by Index**"
      ],
      "metadata": {
        "id": "kMaqGvQLpXQh"
      }
    },
    {
      "cell_type": "code",
      "source": [
        "a = ['foo', 'bar', 'baz', 'qux', 'quux', 'corge']"
      ],
      "metadata": {
        "id": "tj8tQKwMpYDp"
      },
      "execution_count": 34,
      "outputs": []
    },
    {
      "cell_type": "code",
      "source": [
        "print(a[0])\n",
        "print(a[5])"
      ],
      "metadata": {
        "colab": {
          "base_uri": "https://localhost:8080/"
        },
        "id": "lsqVAHDUpg95",
        "outputId": "2f21b2d9-3302-4816-b1a7-743878d5d263"
      },
      "execution_count": 35,
      "outputs": [
        {
          "output_type": "stream",
          "name": "stdout",
          "text": [
            "foo\n",
            "corge\n"
          ]
        }
      ]
    },
    {
      "cell_type": "code",
      "source": [
        "print(a[-1])\n",
        "print(a[-6])"
      ],
      "metadata": {
        "colab": {
          "base_uri": "https://localhost:8080/"
        },
        "id": "oPcVokHEppoZ",
        "outputId": "b74a1cef-24cf-40e0-b9dc-beebf7973148"
      },
      "execution_count": 39,
      "outputs": [
        {
          "output_type": "stream",
          "name": "stdout",
          "text": [
            "corge\n",
            "foo\n"
          ]
        }
      ]
    },
    {
      "cell_type": "code",
      "source": [
        "a = ['foo', 'bar', 'baz', 'qux', 'quux', 'corge']\n",
        "a[2:5]"
      ],
      "metadata": {
        "colab": {
          "base_uri": "https://localhost:8080/"
        },
        "id": "hkgZM9X-qTYy",
        "outputId": "463c739b-ba62-42f9-8bf7-31928aa4568e"
      },
      "execution_count": 40,
      "outputs": [
        {
          "output_type": "execute_result",
          "data": {
            "text/plain": [
              "['baz', 'qux', 'quux']"
            ]
          },
          "metadata": {},
          "execution_count": 40
        }
      ]
    },
    {
      "cell_type": "code",
      "source": [
        "# The concatenation (+) and replication (*) operators:\n",
        "print(a)\n",
        "print(a + ['grault', 'garply'])\n",
        "print(a * 2)\n"
      ],
      "metadata": {
        "colab": {
          "base_uri": "https://localhost:8080/"
        },
        "id": "Ta9zVFRYqXMq",
        "outputId": "63d24846-2390-4923-85d2-8faaa28a1acd"
      },
      "execution_count": 41,
      "outputs": [
        {
          "output_type": "stream",
          "name": "stdout",
          "text": [
            "['foo', 'bar', 'baz', 'qux', 'quux', 'corge']\n",
            "['foo', 'bar', 'baz', 'qux', 'quux', 'corge', 'grault', 'garply']\n",
            "['foo', 'bar', 'baz', 'qux', 'quux', 'corge', 'foo', 'bar', 'baz', 'qux', 'quux', 'corge']\n"
          ]
        }
      ]
    },
    {
      "cell_type": "code",
      "source": [
        "# len(), min(), max()\n",
        "print(a)\n",
        "print(len(a))\n",
        "print(min(a))\n",
        "print(max(a))"
      ],
      "metadata": {
        "colab": {
          "base_uri": "https://localhost:8080/"
        },
        "id": "PZdzskC_qcCS",
        "outputId": "16fda830-e74b-4ecc-920f-1ef048fb4460"
      },
      "execution_count": 42,
      "outputs": [
        {
          "output_type": "stream",
          "name": "stdout",
          "text": [
            "['foo', 'bar', 'baz', 'qux', 'quux', 'corge']\n",
            "6\n",
            "bar\n",
            "qux\n"
          ]
        }
      ]
    },
    {
      "cell_type": "markdown",
      "source": [
        "**Modifying Multiple List Values**"
      ],
      "metadata": {
        "id": "P2azo42WrcoK"
      }
    },
    {
      "cell_type": "code",
      "source": [
        "a = ['foo', 'bar', 'baz', 'qux', 'quux', 'corge']\n",
        "print(a[1:4])\n",
        "a[1:4] = [1.1, 2.2, 3.3, 4.4, 5.5]\n",
        "print(a)"
      ],
      "metadata": {
        "colab": {
          "base_uri": "https://localhost:8080/"
        },
        "id": "oo3hMTbGrdi6",
        "outputId": "04c56902-2dd2-4544-8384-20ec050ac2a5"
      },
      "execution_count": 43,
      "outputs": [
        {
          "output_type": "stream",
          "name": "stdout",
          "text": [
            "['bar', 'baz', 'qux']\n",
            "['foo', 1.1, 2.2, 3.3, 4.4, 5.5, 'quux', 'corge']\n"
          ]
        }
      ]
    },
    {
      "cell_type": "markdown",
      "source": [
        "**Python Tuples**\n",
        "Python menyediakan tipe lain dari kumpulan objek yang berurutan, disebut tuple.\n",
        "Defining and Using Tuples\n",
        "Tuples identik dengan list dalam segala hal, kecuali untuk properti berikut:\n",
        "Tuples didefinisikan dengan mengapit elemen dalam tanda kurung (()) daripada tanda kurung siku ([]).\n",
        "Tuples tidak bisa diubah. Berikut adalah contoh singkat yang menunjukkan pendeklarasian tuple,\n",
        "pengindeksan, dan slicing:"
      ],
      "metadata": {
        "id": "SZe-b8KHrpAT"
      }
    },
    {
      "cell_type": "code",
      "source": [
        "t = ('foo', 'bar', 'baz', 'qux', 'quux', 'corge')\n",
        "print(t)"
      ],
      "metadata": {
        "colab": {
          "base_uri": "https://localhost:8080/"
        },
        "id": "OzloZWJzrp9q",
        "outputId": "426df4ef-9289-4f53-d459-0ad6274a84a9"
      },
      "execution_count": 44,
      "outputs": [
        {
          "output_type": "stream",
          "name": "stdout",
          "text": [
            "('foo', 'bar', 'baz', 'qux', 'quux', 'corge')\n"
          ]
        }
      ]
    },
    {
      "cell_type": "code",
      "source": [
        "print(t[0])\n",
        "print(t[-1])"
      ],
      "metadata": {
        "colab": {
          "base_uri": "https://localhost:8080/"
        },
        "id": "X6n0WwqLr0K6",
        "outputId": "209a8f95-f7d7-455c-d970-3d46ca7069c6"
      },
      "execution_count": 45,
      "outputs": [
        {
          "output_type": "stream",
          "name": "stdout",
          "text": [
            "foo\n",
            "corge\n"
          ]
        }
      ]
    },
    {
      "cell_type": "code",
      "source": [
        "# packing and unpacking\n",
        "(s1, s2, s3, s4) = ('foo', 'bar', 'baz', 'qux')\n",
        "s1"
      ],
      "metadata": {
        "colab": {
          "base_uri": "https://localhost:8080/",
          "height": 35
        },
        "id": "n_G-DMZnsNSi",
        "outputId": "c6a8ede6-b801-4507-f5b6-6779aef5e16f"
      },
      "execution_count": 46,
      "outputs": [
        {
          "output_type": "execute_result",
          "data": {
            "text/plain": [
              "'foo'"
            ],
            "application/vnd.google.colaboratory.intrinsic+json": {
              "type": "string"
            }
          },
          "metadata": {},
          "execution_count": 46
        }
      ]
    },
    {
      "cell_type": "markdown",
      "source": [
        "**Python Dictionary**"
      ],
      "metadata": {
        "id": "rNZG-xT3sXZ7"
      }
    },
    {
      "cell_type": "markdown",
      "source": [
        "Defining a Dictionary"
      ],
      "metadata": {
        "id": "zU0dZ7YmsyyL"
      }
    },
    {
      "cell_type": "code",
      "source": [
        "MLB_team = {\n",
        " 'Colorado': 'Rockies',\n",
        " 'Boston': 'Red Sox',\n",
        " 'Minnesota': 'Twins',\n",
        " 'Milwaukee': 'Brewers',\n",
        " 'Seattle': 'Mariners'\n",
        "}\n"
      ],
      "metadata": {
        "id": "RjHR-5gtsznz"
      },
      "execution_count": 47,
      "outputs": []
    },
    {
      "cell_type": "code",
      "source": [
        "print(MLB_team['Minnesota'])\n",
        "print(MLB_team['Colorado'])\n",
        "# error\n",
        "# MLB_team['Toronto']"
      ],
      "metadata": {
        "colab": {
          "base_uri": "https://localhost:8080/"
        },
        "id": "EXELwZl2s_op",
        "outputId": "babdd149-eb0d-4e16-f20a-d33f191ef389"
      },
      "execution_count": 48,
      "outputs": [
        {
          "output_type": "stream",
          "name": "stdout",
          "text": [
            "Twins\n",
            "Rockies\n"
          ]
        }
      ]
    },
    {
      "cell_type": "code",
      "source": [
        "# If you want to update an entry, you can just assign a new value to an\n",
        "# existing key:\n",
        "MLB_team['Seattle'] = 'Seahawks'\n",
        "MLB_team\n"
      ],
      "metadata": {
        "colab": {
          "base_uri": "https://localhost:8080/"
        },
        "id": "bC4kgWkAtTUb",
        "outputId": "90f1bc6f-ed5e-41d5-e7f2-5fce92ea1e0b"
      },
      "execution_count": 50,
      "outputs": [
        {
          "output_type": "execute_result",
          "data": {
            "text/plain": [
              "{'Colorado': 'Rockies',\n",
              " 'Boston': 'Red Sox',\n",
              " 'Minnesota': 'Twins',\n",
              " 'Milwaukee': 'Brewers',\n",
              " 'Seattle': 'Seahawks'}"
            ]
          },
          "metadata": {},
          "execution_count": 50
        }
      ]
    },
    {
      "cell_type": "code",
      "source": [
        "# To delete an entry, use the del statement, specifying the key to delete:\n",
        "del MLB_team['Seattle']\n",
        "MLB_team\n"
      ],
      "metadata": {
        "colab": {
          "base_uri": "https://localhost:8080/"
        },
        "id": "4KReGHP7tcAJ",
        "outputId": "aaa2a6e3-4b1e-4c36-8095-b6a3aedea443"
      },
      "execution_count": 51,
      "outputs": [
        {
          "output_type": "execute_result",
          "data": {
            "text/plain": [
              "{'Colorado': 'Rockies',\n",
              " 'Boston': 'Red Sox',\n",
              " 'Minnesota': 'Twins',\n",
              " 'Milwaukee': 'Brewers'}"
            ]
          },
          "metadata": {},
          "execution_count": 51
        }
      ]
    },
    {
      "cell_type": "markdown",
      "source": [
        "**Building a Dictionary Incrementally**"
      ],
      "metadata": {
        "id": "fO4LX93sthAq"
      }
    },
    {
      "cell_type": "code",
      "source": [
        "person = {}\n",
        "type(person)\n",
        "person['fname'] = 'Hack'\n",
        "person['lname'] = 'PTP'\n",
        "person['age'] = 51\n",
        "person['spouse'] = 'Edna'\n",
        "person['children'] = ['Ralph', 'Betty', 'Joey']\n",
        "person['pets'] = {'dog': 'Fido', 'cat': 'Sox'}\n"
      ],
      "metadata": {
        "id": "l2gjqut1th3r"
      },
      "execution_count": 53,
      "outputs": []
    },
    {
      "cell_type": "code",
      "source": [
        "person"
      ],
      "metadata": {
        "colab": {
          "base_uri": "https://localhost:8080/"
        },
        "id": "qoX6zwNftv8z",
        "outputId": "fb1c8237-bf0d-4242-e31e-f6374962f7f1"
      },
      "execution_count": 54,
      "outputs": [
        {
          "output_type": "execute_result",
          "data": {
            "text/plain": [
              "{'fname': 'Hack',\n",
              " 'lname': 'PTP',\n",
              " 'age': 51,\n",
              " 'spouse': 'Edna',\n",
              " 'children': ['Ralph', 'Betty', 'Joey'],\n",
              " 'pets': {'dog': 'Fido', 'cat': 'Sox'}}"
            ]
          },
          "metadata": {},
          "execution_count": 54
        }
      ]
    },
    {
      "cell_type": "code",
      "source": [
        "print(person['fname'])\n",
        "print(person['lname'])"
      ],
      "metadata": {
        "colab": {
          "base_uri": "https://localhost:8080/"
        },
        "id": "kzqShi_1t7o5",
        "outputId": "878ba127-c396-4313-acb4-8c3dd7bce6df"
      },
      "execution_count": 55,
      "outputs": [
        {
          "output_type": "stream",
          "name": "stdout",
          "text": [
            "Hack\n",
            "PTP\n"
          ]
        }
      ]
    },
    {
      "cell_type": "code",
      "source": [
        "print(person['children'])\n",
        "print(person['children'][1])"
      ],
      "metadata": {
        "colab": {
          "base_uri": "https://localhost:8080/"
        },
        "id": "oxf6tBBJuWh7",
        "outputId": "67562535-f308-4df6-d6e6-f9e518e2de01"
      },
      "execution_count": 56,
      "outputs": [
        {
          "output_type": "stream",
          "name": "stdout",
          "text": [
            "['Ralph', 'Betty', 'Joey']\n",
            "Betty\n"
          ]
        }
      ]
    },
    {
      "cell_type": "code",
      "source": [
        "print(person['pets'])\n",
        "print(person['pets']['cat'])\n"
      ],
      "metadata": {
        "colab": {
          "base_uri": "https://localhost:8080/"
        },
        "id": "EcL5CX_euZoK",
        "outputId": "d570b104-bab5-4a41-f4e3-7937b1a281dd"
      },
      "execution_count": 57,
      "outputs": [
        {
          "output_type": "stream",
          "name": "stdout",
          "text": [
            "{'dog': 'Fido', 'cat': 'Sox'}\n",
            "Sox\n"
          ]
        }
      ]
    },
    {
      "cell_type": "code",
      "source": [
        "# Built-in Methods\n",
        "d = {'a': 10, 'b': 20, 'c': 30}\n",
        "\n",
        "# items\n",
        "print(d.items())\n",
        "\n",
        "# keys\n",
        "print(d.keys())\n",
        "\n",
        "# values\n",
        "print(d.values())"
      ],
      "metadata": {
        "colab": {
          "base_uri": "https://localhost:8080/"
        },
        "id": "OsBKIj4hua16",
        "outputId": "ae04485f-bfa2-41cd-dbfc-33f4d6414240"
      },
      "execution_count": 58,
      "outputs": [
        {
          "output_type": "stream",
          "name": "stdout",
          "text": [
            "dict_items([('a', 10), ('b', 20), ('c', 30)])\n",
            "dict_keys(['a', 'b', 'c'])\n",
            "dict_values([10, 20, 30])\n"
          ]
        }
      ]
    },
    {
      "cell_type": "markdown",
      "source": [
        "**Line Continuation**"
      ],
      "metadata": {
        "id": "ZJnYmEj3u8ab"
      }
    },
    {
      "cell_type": "code",
      "source": [
        "person1_age = 42\n",
        "person2_age = 16\n",
        "person3_age = 71\n",
        "someone_is_of_working_age = (person1_age >= 18 and person1_age <= 65) or \\\n",
        "                            (person2_age >= 18 and person2_age <= 65) or \\\n",
        "                            (person3_age >= 18 and person3_age <= 65)\n",
        "print(someone_is_of_working_age)\n"
      ],
      "metadata": {
        "colab": {
          "base_uri": "https://localhost:8080/"
        },
        "id": "NFIpSwRWu9lD",
        "outputId": "a1c4ee4b-940b-4906-af01-c6def9a7c893"
      },
      "execution_count": 60,
      "outputs": [
        {
          "output_type": "stream",
          "name": "stdout",
          "text": [
            "True\n"
          ]
        }
      ]
    },
    {
      "cell_type": "code",
      "source": [
        "someone_is_of_working_age = (\n",
        "    (person1_age >= 18 and person1_age <= 65) or\n",
        "    (person2_age >= 18 and person2_age <= 65) or\n",
        "    (person3_age >= 18 and person3_age <= 65)\n",
        ")\n",
        "print(someone_is_of_working_age)\n"
      ],
      "metadata": {
        "colab": {
          "base_uri": "https://localhost:8080/"
        },
        "id": "Rip6rAKEvckb",
        "outputId": "e2aa80e3-c226-47e8-d84e-bb927a9ed920"
      },
      "execution_count": 61,
      "outputs": [
        {
          "output_type": "stream",
          "name": "stdout",
          "text": [
            "True\n"
          ]
        }
      ]
    }
  ]
}