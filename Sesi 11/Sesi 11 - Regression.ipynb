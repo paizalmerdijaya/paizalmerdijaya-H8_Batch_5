{
 "cells": [
  {
   "cell_type": "markdown",
   "id": "1bd39100-5367-4671-8403-340a407380f9",
   "metadata": {},
   "source": [
    "# Implementing Linear Regression in Python"
   ]
  },
  {
   "cell_type": "markdown",
   "id": "035b1eb6-76f3-462e-a05b-c35072d2593c",
   "metadata": {},
   "source": [
    "## Simple Linear Regression with scikit-learn"
   ]
  },
  {
   "cell_type": "code",
   "execution_count": 1,
   "id": "99721599-08d3-4988-86f9-2a72b382e2f7",
   "metadata": {
    "tags": []
   },
   "outputs": [],
   "source": [
    "import numpy as np\n",
    "import matplotlib.pyplot as plt\n",
    "\n",
    "from sklearn.linear_model import LinearRegression"
   ]
  },
  {
   "cell_type": "markdown",
   "id": "30dbd28a-8898-4665-bdc6-25a1cbb85251",
   "metadata": {},
   "source": [
    "### Step 2 : Provide Data"
   ]
  },
  {
   "cell_type": "code",
   "execution_count": 2,
   "id": "4d06cae9-b737-4a43-af50-f15d4460a287",
   "metadata": {
    "tags": []
   },
   "outputs": [],
   "source": [
    "x = np.array([5, 15, 25, 35, 45, 55]).reshape((-1,1)) # membuat datanya menjadi banyak baris, 1 kolom\n",
    "y = np.array([5, 20, 14, 32, 22, 38])"
   ]
  },
  {
   "cell_type": "markdown",
   "id": "3c2806d5-39b3-44d1-afed-a7cb38529130",
   "metadata": {},
   "source": [
    "### Step 3 : Create and Train (fit) Model"
   ]
  },
  {
   "cell_type": "code",
   "execution_count": 3,
   "id": "62497532-7f8d-499a-a293-a9fda81594fb",
   "metadata": {
    "tags": []
   },
   "outputs": [],
   "source": [
    "model = LinearRegression() # membuat instance/kelas ML"
   ]
  },
  {
   "cell_type": "code",
   "execution_count": 4,
   "id": "50ad0724-8a9c-4d6b-b5d9-faa23f1466bf",
   "metadata": {
    "tags": []
   },
   "outputs": [
    {
     "data": {
      "text/html": [
       "<style>#sk-container-id-1 {color: black;}#sk-container-id-1 pre{padding: 0;}#sk-container-id-1 div.sk-toggleable {background-color: white;}#sk-container-id-1 label.sk-toggleable__label {cursor: pointer;display: block;width: 100%;margin-bottom: 0;padding: 0.3em;box-sizing: border-box;text-align: center;}#sk-container-id-1 label.sk-toggleable__label-arrow:before {content: \"▸\";float: left;margin-right: 0.25em;color: #696969;}#sk-container-id-1 label.sk-toggleable__label-arrow:hover:before {color: black;}#sk-container-id-1 div.sk-estimator:hover label.sk-toggleable__label-arrow:before {color: black;}#sk-container-id-1 div.sk-toggleable__content {max-height: 0;max-width: 0;overflow: hidden;text-align: left;background-color: #f0f8ff;}#sk-container-id-1 div.sk-toggleable__content pre {margin: 0.2em;color: black;border-radius: 0.25em;background-color: #f0f8ff;}#sk-container-id-1 input.sk-toggleable__control:checked~div.sk-toggleable__content {max-height: 200px;max-width: 100%;overflow: auto;}#sk-container-id-1 input.sk-toggleable__control:checked~label.sk-toggleable__label-arrow:before {content: \"▾\";}#sk-container-id-1 div.sk-estimator input.sk-toggleable__control:checked~label.sk-toggleable__label {background-color: #d4ebff;}#sk-container-id-1 div.sk-label input.sk-toggleable__control:checked~label.sk-toggleable__label {background-color: #d4ebff;}#sk-container-id-1 input.sk-hidden--visually {border: 0;clip: rect(1px 1px 1px 1px);clip: rect(1px, 1px, 1px, 1px);height: 1px;margin: -1px;overflow: hidden;padding: 0;position: absolute;width: 1px;}#sk-container-id-1 div.sk-estimator {font-family: monospace;background-color: #f0f8ff;border: 1px dotted black;border-radius: 0.25em;box-sizing: border-box;margin-bottom: 0.5em;}#sk-container-id-1 div.sk-estimator:hover {background-color: #d4ebff;}#sk-container-id-1 div.sk-parallel-item::after {content: \"\";width: 100%;border-bottom: 1px solid gray;flex-grow: 1;}#sk-container-id-1 div.sk-label:hover label.sk-toggleable__label {background-color: #d4ebff;}#sk-container-id-1 div.sk-serial::before {content: \"\";position: absolute;border-left: 1px solid gray;box-sizing: border-box;top: 0;bottom: 0;left: 50%;z-index: 0;}#sk-container-id-1 div.sk-serial {display: flex;flex-direction: column;align-items: center;background-color: white;padding-right: 0.2em;padding-left: 0.2em;position: relative;}#sk-container-id-1 div.sk-item {position: relative;z-index: 1;}#sk-container-id-1 div.sk-parallel {display: flex;align-items: stretch;justify-content: center;background-color: white;position: relative;}#sk-container-id-1 div.sk-item::before, #sk-container-id-1 div.sk-parallel-item::before {content: \"\";position: absolute;border-left: 1px solid gray;box-sizing: border-box;top: 0;bottom: 0;left: 50%;z-index: -1;}#sk-container-id-1 div.sk-parallel-item {display: flex;flex-direction: column;z-index: 1;position: relative;background-color: white;}#sk-container-id-1 div.sk-parallel-item:first-child::after {align-self: flex-end;width: 50%;}#sk-container-id-1 div.sk-parallel-item:last-child::after {align-self: flex-start;width: 50%;}#sk-container-id-1 div.sk-parallel-item:only-child::after {width: 0;}#sk-container-id-1 div.sk-dashed-wrapped {border: 1px dashed gray;margin: 0 0.4em 0.5em 0.4em;box-sizing: border-box;padding-bottom: 0.4em;background-color: white;}#sk-container-id-1 div.sk-label label {font-family: monospace;font-weight: bold;display: inline-block;line-height: 1.2em;}#sk-container-id-1 div.sk-label-container {text-align: center;}#sk-container-id-1 div.sk-container {/* jupyter's `normalize.less` sets `[hidden] { display: none; }` but bootstrap.min.css set `[hidden] { display: none !important; }` so we also need the `!important` here to be able to override the default hidden behavior on the sphinx rendered scikit-learn.org. See: https://github.com/scikit-learn/scikit-learn/issues/21755 */display: inline-block !important;position: relative;}#sk-container-id-1 div.sk-text-repr-fallback {display: none;}</style><div id=\"sk-container-id-1\" class=\"sk-top-container\"><div class=\"sk-text-repr-fallback\"><pre>LinearRegression()</pre><b>In a Jupyter environment, please rerun this cell to show the HTML representation or trust the notebook. <br />On GitHub, the HTML representation is unable to render, please try loading this page with nbviewer.org.</b></div><div class=\"sk-container\" hidden><div class=\"sk-item\"><div class=\"sk-estimator sk-toggleable\"><input class=\"sk-toggleable__control sk-hidden--visually\" id=\"sk-estimator-id-1\" type=\"checkbox\" checked><label for=\"sk-estimator-id-1\" class=\"sk-toggleable__label sk-toggleable__label-arrow\">LinearRegression</label><div class=\"sk-toggleable__content\"><pre>LinearRegression()</pre></div></div></div></div></div>"
      ],
      "text/plain": [
       "LinearRegression()"
      ]
     },
     "execution_count": 4,
     "metadata": {},
     "output_type": "execute_result"
    }
   ],
   "source": [
    "model.fit(x, y) # untuk melatih ML"
   ]
  },
  {
   "cell_type": "code",
   "execution_count": 5,
   "id": "71bf8fb8-636a-4444-b441-8f54a579252e",
   "metadata": {
    "tags": []
   },
   "outputs": [],
   "source": [
    "model = LinearRegression().fit(x,y) # yang ditulis dalam satu baris"
   ]
  },
  {
   "cell_type": "markdown",
   "id": "93a57da2-8f8a-460a-84c7-163720f5ad87",
   "metadata": {},
   "source": [
    "### Step 4 : Get Result"
   ]
  },
  {
   "cell_type": "code",
   "execution_count": 6,
   "id": "129d9920-c6c3-41d1-a13d-2b7fcf6606ba",
   "metadata": {
    "tags": []
   },
   "outputs": [
    {
     "name": "stdout",
     "output_type": "stream",
     "text": [
      "Coefficient of determination : 0.715875613747954\n"
     ]
    }
   ],
   "source": [
    "r_sq = model.score(x, y)\n",
    "print('Coefficient of determination :',r_sq)"
   ]
  },
  {
   "cell_type": "code",
   "execution_count": 7,
   "id": "5668363b-061c-49f7-b8ae-cafa28a6171a",
   "metadata": {
    "tags": []
   },
   "outputs": [
    {
     "name": "stdout",
     "output_type": "stream",
     "text": [
      "Intercept : 5.633333333333329\n",
      "Slope : [0.54]\n"
     ]
    }
   ],
   "source": [
    "print('Intercept :', model.intercept_) # b0\n",
    "print('Slope :', model.coef_) # b1"
   ]
  },
  {
   "cell_type": "code",
   "execution_count": 8,
   "id": "c69ca280-89e7-40f3-b10d-d5ed73e3f181",
   "metadata": {
    "tags": []
   },
   "outputs": [],
   "source": [
    "new_model = LinearRegression().fit(x,y.reshape((-1,1)))"
   ]
  },
  {
   "cell_type": "code",
   "execution_count": 9,
   "id": "5d4162ca-46bb-47d8-bb2a-ab7eb2f4835b",
   "metadata": {
    "tags": []
   },
   "outputs": [
    {
     "name": "stdout",
     "output_type": "stream",
     "text": [
      "Intercept : [5.63333333]\n",
      "Slope : [[0.54]]\n"
     ]
    }
   ],
   "source": [
    "print('Intercept :', new_model.intercept_) # b0\n",
    "print('Slope :', new_model.coef_) # b1"
   ]
  },
  {
   "cell_type": "markdown",
   "id": "f94e25f8-7a39-45e2-a4f8-b4970eddc6b6",
   "metadata": {},
   "source": [
    "\n",
    "### Step 5: Predict Response"
   ]
  },
  {
   "cell_type": "code",
   "execution_count": 10,
   "id": "7f943d33-501f-4564-90aa-879122e54b88",
   "metadata": {
    "tags": []
   },
   "outputs": [
    {
     "name": "stdout",
     "output_type": "stream",
     "text": [
      "Predicted Response\n",
      "[ 8.33333333 13.73333333 19.13333333 24.53333333 29.93333333 35.33333333]\n"
     ]
    }
   ],
   "source": [
    "y_pred = model.predict(x)\n",
    "print('Predicted Response', y_pred, sep='\\n')"
   ]
  },
  {
   "cell_type": "code",
   "execution_count": 11,
   "id": "4020191b-9734-4074-a56b-12f1434a1d35",
   "metadata": {
    "tags": []
   },
   "outputs": [
    {
     "data": {
      "image/png": "[encoded data removed]",
      "text/plain": [
       "<Figure size 640x480 with 1 Axes>"
      ]
     },
     "metadata": {},
     "output_type": "display_data"
    }
   ],
   "source": [
    "plt.scatter(x, y, alpha=.5)\n",
    "plt.plot(x, y_pred)\n",
    "\n",
    "plt.title(\"Scatter plot x and y\")\n",
    "plt.xlabel('x')\n",
    "plt.ylabel('y')\n",
    "plt.show()"
   ]
  },
  {
   "cell_type": "code",
   "execution_count": 12,
   "id": "28cf4a3f-0edc-4fed-9e0d-a4b87ac94d60",
   "metadata": {
    "tags": []
   },
   "outputs": [
    {
     "name": "stdout",
     "output_type": "stream",
     "text": [
      "Predicted Response\n",
      "[[ 8.33333333]\n",
      " [13.73333333]\n",
      " [19.13333333]\n",
      " [24.53333333]\n",
      " [29.93333333]\n",
      " [35.33333333]]\n"
     ]
    }
   ],
   "source": [
    "y_pred = model.intercept_ + model.coef_ * x\n",
    "print('Predicted Response', y_pred, sep='\\n')"
   ]
  },
  {
   "cell_type": "markdown",
   "id": "63635854-df9a-4732-b322-1c839e0debbe",
   "metadata": {},
   "source": [
    "## Multiple Linear Regression with Scikit-Learn"
   ]
  },
  {
   "cell_type": "markdown",
   "id": "fc3f40e7-94c0-4d68-a55a-b07f1f74f195",
   "metadata": {},
   "source": [
    "### Step 2: Gather Data"
   ]
  },
  {
   "cell_type": "code",
   "execution_count": 13,
   "id": "1bfcb490-d8d6-4aec-a016-a77cdb730777",
   "metadata": {
    "tags": []
   },
   "outputs": [],
   "source": [
    "x = [[0,1], \n",
    "     [5,1], \n",
    "     [15,2], \n",
    "     [25, 5],\n",
    "     [35, 11],\n",
    "     [45, 15],\n",
    "     [55, 34],\n",
    "     [60, 35]\n",
    "    ]\n",
    "y = [4, 5, 20, 14, 32, 22, 38, 43]\n",
    "\n",
    "x, y = np.array(x), np.array(y)"
   ]
  },
  {
   "cell_type": "markdown",
   "id": "86716faf-83fd-45b4-bb55-7e1201b5c742",
   "metadata": {},
   "source": [
    "### Step 3 : Create and Train Model"
   ]
  },
  {
   "cell_type": "code",
   "execution_count": 14,
   "id": "6f6a5a96-fe28-443c-9b51-0290ec7faa48",
   "metadata": {
    "tags": []
   },
   "outputs": [],
   "source": [
    "model = LinearRegression().fit(x,y) # membuat dan melatih model ML"
   ]
  },
  {
   "cell_type": "markdown",
   "id": "02554023-d0df-4d71-9aca-aa5496378aea",
   "metadata": {
    "tags": []
   },
   "source": [
    "### Step 4: Get Result"
   ]
  },
  {
   "cell_type": "code",
   "execution_count": 15,
   "id": "3edee8b6-50af-46d9-8b95-ac0ee1c5e653",
   "metadata": {
    "tags": []
   },
   "outputs": [
    {
     "name": "stdout",
     "output_type": "stream",
     "text": [
      "Coefficient of determination : 0.8615939258756775\n",
      "Intercept : 5.52257927519819\n",
      "Slope : [0.44706965 0.25502548]\n"
     ]
    }
   ],
   "source": [
    "r_sq = model.score(x, y)\n",
    "print('Coefficient of determination :',r_sq) #R^2\n",
    "print('Intercept :', model.intercept_) # b0\n",
    "print('Slope :', model.coef_) # b1 & b2"
   ]
  },
  {
   "cell_type": "markdown",
   "id": "8a6084c5-7247-49df-acc3-b2309c75b8df",
   "metadata": {},
   "source": [
    "### Step 5: Predict Response"
   ]
  },
  {
   "cell_type": "code",
   "execution_count": 16,
   "id": "afd14643-604f-4cab-80c2-72723caa46ee",
   "metadata": {
    "tags": []
   },
   "outputs": [
    {
     "name": "stdout",
     "output_type": "stream",
     "text": [
      "Predicted Response\n",
      "[ 5.77760476  8.012953   12.73867497 17.9744479  23.97529728 29.4660957\n",
      " 38.78227633 41.27265006]\n"
     ]
    }
   ],
   "source": [
    "y_pred = model.predict(x)\n",
    "print('Predicted Response', y_pred, sep='\\n')"
   ]
  },
  {
   "cell_type": "code",
   "execution_count": 17,
   "id": "dcbea70d-5aba-47fb-9c7a-895ceab71f27",
   "metadata": {
    "tags": []
   },
   "outputs": [
    {
     "name": "stdout",
     "output_type": "stream",
     "text": [
      "Predicted Response\n",
      "[ 5.77760476  8.012953   12.73867497 17.9744479  23.97529728 29.4660957\n",
      " 38.78227633 41.27265006]\n"
     ]
    }
   ],
   "source": [
    "y_pred = model.intercept_ + np.sum(model.coef_ * x, axis=1)\n",
    "print('Predicted Response', y_pred, sep='\\n')"
   ]
  },
  {
   "cell_type": "code",
   "execution_count": 18,
   "id": "c70881b9-1ce0-4cd4-b5be-159f682ad7ac",
   "metadata": {
    "tags": []
   },
   "outputs": [
    {
     "name": "stdout",
     "output_type": "stream",
     "text": [
      "[[0 1]\n",
      " [2 3]\n",
      " [4 5]\n",
      " [6 7]\n",
      " [8 9]]\n"
     ]
    }
   ],
   "source": [
    "x_new = np.arange(10).reshape(-1, 2) # membuat data baru\n",
    "print(x_new)"
   ]
  },
  {
   "cell_type": "code",
   "execution_count": 19,
   "id": "e7c45340-374c-446b-abb8-b04947b84080",
   "metadata": {
    "tags": []
   },
   "outputs": [
    {
     "name": "stdout",
     "output_type": "stream",
     "text": [
      "[ 5.77760476  7.18179502  8.58598528  9.99017554 11.3943658 ]\n"
     ]
    }
   ],
   "source": [
    "y_new = model.predict(x_new) # mendapatkan niali prediksi dari data baru\n",
    "print(y_new)"
   ]
  },
  {
   "cell_type": "markdown",
   "id": "94d70e54-6489-4a10-8b8b-aa83eb6ece64",
   "metadata": {},
   "source": [
    "## Polynomial Regression with Scikit-Learn"
   ]
  },
  {
   "cell_type": "markdown",
   "id": "9f150483-590e-4af8-b072-575b061aa01a",
   "metadata": {},
   "source": [
    "### Step 1: Import package"
   ]
  },
  {
   "cell_type": "code",
   "execution_count": 20,
   "id": "bfcd9b9b-36db-49cf-86ca-7eadbe790026",
   "metadata": {
    "tags": []
   },
   "outputs": [],
   "source": [
    "from sklearn.preprocessing import PolynomialFeatures"
   ]
  },
  {
   "cell_type": "markdown",
   "id": "573b2bb8-c0ea-4286-ab54-5793c52fcde1",
   "metadata": {},
   "source": [
    "### Step 2: Provide Data"
   ]
  },
  {
   "cell_type": "code",
   "execution_count": 21,
   "id": "52c83bc3-bced-4437-a8d8-25bb5cc09e55",
   "metadata": {
    "tags": []
   },
   "outputs": [
    {
     "name": "stdout",
     "output_type": "stream",
     "text": [
      "[[ 5]\n",
      " [15]\n",
      " [25]\n",
      " [45]\n",
      " [55]]\n",
      "[15 11  2  8 32]\n"
     ]
    }
   ],
   "source": [
    "x = np.array([5,15,25,45,55]).reshape(-1,1)\n",
    "y = np.array([15, 11, 2, 8, 32])\n",
    "print(x)\n",
    "print(y)"
   ]
  },
  {
   "cell_type": "code",
   "execution_count": 22,
   "id": "697d207e-cc7d-401b-b9cd-07ad45660e86",
   "metadata": {
    "tags": []
   },
   "outputs": [
    {
     "data": {
      "text/plain": [
       "<matplotlib.collections.PathCollection at 0x255ad8963d0>"
      ]
     },
     "execution_count": 22,
     "metadata": {},
     "output_type": "execute_result"
    },
    {
     "data": {
      "image/png": "[encoded data removed]",
      "text/plain": [
       "<Figure size 640x480 with 1 Axes>"
      ]
     },
     "metadata": {},
     "output_type": "display_data"
    }
   ],
   "source": [
    "plt.scatter(x, y, alpha=.5)"
   ]
  },
  {
   "cell_type": "markdown",
   "id": "84d4cb0d-9fcb-4f7b-96ce-0714a070cab9",
   "metadata": {},
   "source": [
    "### Step 2b: Transform Input Data"
   ]
  },
  {
   "cell_type": "code",
   "execution_count": 23,
   "id": "6306c6ef-6ef1-49df-8f52-abf3fb3fbade",
   "metadata": {
    "tags": []
   },
   "outputs": [],
   "source": [
    "transformer = PolynomialFeatures(degree=2, include_bias=False)"
   ]
  },
  {
   "cell_type": "code",
   "execution_count": 24,
   "id": "93ec2910-43f4-494b-9eeb-aade5a6fbd95",
   "metadata": {
    "tags": []
   },
   "outputs": [
    {
     "data": {
      "text/html": [
       "<style>#sk-container-id-2 {color: black;}#sk-container-id-2 pre{padding: 0;}#sk-container-id-2 div.sk-toggleable {background-color: white;}#sk-container-id-2 label.sk-toggleable__label {cursor: pointer;display: block;width: 100%;margin-bottom: 0;padding: 0.3em;box-sizing: border-box;text-align: center;}#sk-container-id-2 label.sk-toggleable__label-arrow:before {content: \"▸\";float: left;margin-right: 0.25em;color: #696969;}#sk-container-id-2 label.sk-toggleable__label-arrow:hover:before {color: black;}#sk-container-id-2 div.sk-estimator:hover label.sk-toggleable__label-arrow:before {color: black;}#sk-container-id-2 div.sk-toggleable__content {max-height: 0;max-width: 0;overflow: hidden;text-align: left;background-color: #f0f8ff;}#sk-container-id-2 div.sk-toggleable__content pre {margin: 0.2em;color: black;border-radius: 0.25em;background-color: #f0f8ff;}#sk-container-id-2 input.sk-toggleable__control:checked~div.sk-toggleable__content {max-height: 200px;max-width: 100%;overflow: auto;}#sk-container-id-2 input.sk-toggleable__control:checked~label.sk-toggleable__label-arrow:before {content: \"▾\";}#sk-container-id-2 div.sk-estimator input.sk-toggleable__control:checked~label.sk-toggleable__label {background-color: #d4ebff;}#sk-container-id-2 div.sk-label input.sk-toggleable__control:checked~label.sk-toggleable__label {background-color: #d4ebff;}#sk-container-id-2 input.sk-hidden--visually {border: 0;clip: rect(1px 1px 1px 1px);clip: rect(1px, 1px, 1px, 1px);height: 1px;margin: -1px;overflow: hidden;padding: 0;position: absolute;width: 1px;}#sk-container-id-2 div.sk-estimator {font-family: monospace;background-color: #f0f8ff;border: 1px dotted black;border-radius: 0.25em;box-sizing: border-box;margin-bottom: 0.5em;}#sk-container-id-2 div.sk-estimator:hover {background-color: #d4ebff;}#sk-container-id-2 div.sk-parallel-item::after {content: \"\";width: 100%;border-bottom: 1px solid gray;flex-grow: 1;}#sk-container-id-2 div.sk-label:hover label.sk-toggleable__label {background-color: #d4ebff;}#sk-container-id-2 div.sk-serial::before {content: \"\";position: absolute;border-left: 1px solid gray;box-sizing: border-box;top: 0;bottom: 0;left: 50%;z-index: 0;}#sk-container-id-2 div.sk-serial {display: flex;flex-direction: column;align-items: center;background-color: white;padding-right: 0.2em;padding-left: 0.2em;position: relative;}#sk-container-id-2 div.sk-item {position: relative;z-index: 1;}#sk-container-id-2 div.sk-parallel {display: flex;align-items: stretch;justify-content: center;background-color: white;position: relative;}#sk-container-id-2 div.sk-item::before, #sk-container-id-2 div.sk-parallel-item::before {content: \"\";position: absolute;border-left: 1px solid gray;box-sizing: border-box;top: 0;bottom: 0;left: 50%;z-index: -1;}#sk-container-id-2 div.sk-parallel-item {display: flex;flex-direction: column;z-index: 1;position: relative;background-color: white;}#sk-container-id-2 div.sk-parallel-item:first-child::after {align-self: flex-end;width: 50%;}#sk-container-id-2 div.sk-parallel-item:last-child::after {align-self: flex-start;width: 50%;}#sk-container-id-2 div.sk-parallel-item:only-child::after {width: 0;}#sk-container-id-2 div.sk-dashed-wrapped {border: 1px dashed gray;margin: 0 0.4em 0.5em 0.4em;box-sizing: border-box;padding-bottom: 0.4em;background-color: white;}#sk-container-id-2 div.sk-label label {font-family: monospace;font-weight: bold;display: inline-block;line-height: 1.2em;}#sk-container-id-2 div.sk-label-container {text-align: center;}#sk-container-id-2 div.sk-container {/* jupyter's `normalize.less` sets `[hidden] { display: none; }` but bootstrap.min.css set `[hidden] { display: none !important; }` so we also need the `!important` here to be able to override the default hidden behavior on the sphinx rendered scikit-learn.org. See: https://github.com/scikit-learn/scikit-learn/issues/21755 */display: inline-block !important;position: relative;}#sk-container-id-2 div.sk-text-repr-fallback {display: none;}</style><div id=\"sk-container-id-2\" class=\"sk-top-container\"><div class=\"sk-text-repr-fallback\"><pre>PolynomialFeatures(include_bias=False)</pre><b>In a Jupyter environment, please rerun this cell to show the HTML representation or trust the notebook. <br />On GitHub, the HTML representation is unable to render, please try loading this page with nbviewer.org.</b></div><div class=\"sk-container\" hidden><div class=\"sk-item\"><div class=\"sk-estimator sk-toggleable\"><input class=\"sk-toggleable__control sk-hidden--visually\" id=\"sk-estimator-id-2\" type=\"checkbox\" checked><label for=\"sk-estimator-id-2\" class=\"sk-toggleable__label sk-toggleable__label-arrow\">PolynomialFeatures</label><div class=\"sk-toggleable__content\"><pre>PolynomialFeatures(include_bias=False)</pre></div></div></div></div></div>"
      ],
      "text/plain": [
       "PolynomialFeatures(include_bias=False)"
      ]
     },
     "execution_count": 24,
     "metadata": {},
     "output_type": "execute_result"
    }
   ],
   "source": [
    "transformer.fit(x)"
   ]
  },
  {
   "cell_type": "code",
   "execution_count": 25,
   "id": "fa55bc2c-d4ed-44b3-b5b3-5b421b5ab837",
   "metadata": {
    "tags": []
   },
   "outputs": [
    {
     "data": {
      "text/plain": [
       "array([[   5.,   25.],\n",
       "       [  15.,  225.],\n",
       "       [  25.,  625.],\n",
       "       [  45., 2025.],\n",
       "       [  55., 3025.]])"
      ]
     },
     "execution_count": 25,
     "metadata": {},
     "output_type": "execute_result"
    }
   ],
   "source": [
    "x_2 = transformer.transform(x)\n",
    "x_2"
   ]
  },
  {
   "cell_type": "code",
   "execution_count": 26,
   "id": "8253aaac-1bb3-4707-b218-5aef1980fd20",
   "metadata": {
    "tags": []
   },
   "outputs": [
    {
     "data": {
      "text/plain": [
       "array([[   5.,   25.],\n",
       "       [  15.,  225.],\n",
       "       [  25.,  625.],\n",
       "       [  45., 2025.],\n",
       "       [  55., 3025.]])"
      ]
     },
     "execution_count": 26,
     "metadata": {},
     "output_type": "execute_result"
    }
   ],
   "source": [
    "x_2 = PolynomialFeatures(degree=2, include_bias=False).fit_transform(x) # untuk mendapatkan kolom baru yaitu X^2\n",
    "x_2"
   ]
  },
  {
   "cell_type": "markdown",
   "id": "03713c80-081a-4cf9-972d-2639fe6e663e",
   "metadata": {},
   "source": [
    "### Step 3: Create and Train Model"
   ]
  },
  {
   "cell_type": "code",
   "execution_count": 27,
   "id": "aa5cf78f-ac1a-435c-9848-9cd03a0dd584",
   "metadata": {
    "tags": []
   },
   "outputs": [],
   "source": [
    "model = LinearRegression().fit(x_2, y)"
   ]
  },
  {
   "cell_type": "markdown",
   "id": "78ac4088-6bff-4535-94af-5e912862bc35",
   "metadata": {},
   "source": [
    "### Step 4: Get result"
   ]
  },
  {
   "cell_type": "code",
   "execution_count": 28,
   "id": "d5a40df4-ebf0-4ce9-8eab-c197ade585e9",
   "metadata": {
    "tags": []
   },
   "outputs": [
    {
     "name": "stdout",
     "output_type": "stream",
     "text": [
      "Coefficient of determination : 0.8748494296039117\n",
      "Intercept : 26.187499999999993\n",
      "Slope : [-1.83636364  0.03431818]\n"
     ]
    }
   ],
   "source": [
    "r_sq = model.score(x_2, y)\n",
    "print('Coefficient of determination :',r_sq) #R^2\n",
    "print('Intercept :', model.intercept_) # b0\n",
    "print('Slope :', model.coef_) # b1 & b2"
   ]
  },
  {
   "cell_type": "code",
   "execution_count": 29,
   "id": "f01ab574-e88d-44e7-bd23-252a3c0f534d",
   "metadata": {
    "tags": []
   },
   "outputs": [
    {
     "data": {
      "text/plain": [
       "array([[1.000e+00, 5.000e+00, 2.500e+01],\n",
       "       [1.000e+00, 1.500e+01, 2.250e+02],\n",
       "       [1.000e+00, 2.500e+01, 6.250e+02],\n",
       "       [1.000e+00, 4.500e+01, 2.025e+03],\n",
       "       [1.000e+00, 5.500e+01, 3.025e+03]])"
      ]
     },
     "execution_count": 29,
     "metadata": {},
     "output_type": "execute_result"
    }
   ],
   "source": [
    "x2 = PolynomialFeatures(degree=2, include_bias=True).fit_transform(x) # untuk mendapatkan kolom baru yaitu kolom berisi 1 semua untuk interceptnya (paling kiri) dan kolom X^2\n",
    "x2"
   ]
  },
  {
   "cell_type": "code",
   "execution_count": 30,
   "id": "c8d83940-a32c-4a39-8f26-de340270a8b3",
   "metadata": {
    "tags": []
   },
   "outputs": [],
   "source": [
    "model = LinearRegression(fit_intercept=False).fit(x2, y)"
   ]
  },
  {
   "cell_type": "code",
   "execution_count": 31,
   "id": "19dbaa06-70e3-49cb-aa25-bc995941b74f",
   "metadata": {
    "tags": []
   },
   "outputs": [
    {
     "name": "stdout",
     "output_type": "stream",
     "text": [
      "Coefficient of determination : 0.8748494296039112\n",
      "Intercept : 0.0\n",
      "Slope : [26.1875     -1.83636364  0.03431818]\n"
     ]
    }
   ],
   "source": [
    "r_sq = model.score(x2, y)\n",
    "print('Coefficient of determination :',r_sq) #R^2\n",
    "print('Intercept :', model.intercept_) # b0\n",
    "print('Slope :', model.coef_) # b1 & b2"
   ]
  },
  {
   "cell_type": "markdown",
   "id": "1c06826a-a05f-4875-9d96-70c2a8b08a15",
   "metadata": {},
   "source": [
    "### Step 5: Predict Respone"
   ]
  },
  {
   "cell_type": "code",
   "execution_count": 32,
   "id": "fb7c6a9d-ad56-486b-99a0-5544056f40e8",
   "metadata": {
    "tags": []
   },
   "outputs": [
    {
     "name": "stdout",
     "output_type": "stream",
     "text": [
      "Predicted Response\n",
      "[17.86363636  6.36363636  1.72727273 13.04545455 29.        ]\n"
     ]
    }
   ],
   "source": [
    "y_pred = model.predict(x2)\n",
    "print('Predicted Response', y_pred, sep='\\n')"
   ]
  },
  {
   "cell_type": "markdown",
   "id": "deaa8a17-b443-44a8-9c04-68033079bb65",
   "metadata": {},
   "source": [
    "### Another Example"
   ]
  },
  {
   "cell_type": "code",
   "execution_count": 33,
   "id": "0c6bfe09-fbe8-40fa-b51c-5cf79d415550",
   "metadata": {
    "tags": []
   },
   "outputs": [],
   "source": [
    "# Step 2: Provide Data\n",
    "x = [\n",
    "    [0, 1],\n",
    "    [5, 1],\n",
    "    [15, 2],\n",
    "    [25, 5],\n",
    "    [35, 11],\n",
    "    [45, 15],\n",
    "    [55, 34],\n",
    "    [60, 35]\n",
    "]\n",
    "y = [4, 5, 20, 14, 32, 22, 38, 43]\n",
    "\n",
    "x, y = np.array(x), np.array(y)"
   ]
  },
  {
   "cell_type": "code",
   "execution_count": 34,
   "id": "af8d736b-7f82-4f20-ba6d-1b8ef963966e",
   "metadata": {
    "tags": []
   },
   "outputs": [
    {
     "data": {
      "text/plain": [
       "array([[0.000e+00, 1.000e+00, 0.000e+00, 0.000e+00, 1.000e+00],\n",
       "       [5.000e+00, 1.000e+00, 2.500e+01, 5.000e+00, 1.000e+00],\n",
       "       [1.500e+01, 2.000e+00, 2.250e+02, 3.000e+01, 4.000e+00],\n",
       "       [2.500e+01, 5.000e+00, 6.250e+02, 1.250e+02, 2.500e+01],\n",
       "       [3.500e+01, 1.100e+01, 1.225e+03, 3.850e+02, 1.210e+02],\n",
       "       [4.500e+01, 1.500e+01, 2.025e+03, 6.750e+02, 2.250e+02],\n",
       "       [5.500e+01, 3.400e+01, 3.025e+03, 1.870e+03, 1.156e+03],\n",
       "       [6.000e+01, 3.500e+01, 3.600e+03, 2.100e+03, 1.225e+03]])"
      ]
     },
     "execution_count": 34,
     "metadata": {},
     "output_type": "execute_result"
    }
   ],
   "source": [
    "# Step 2: Provide Data\n",
    "x_ = PolynomialFeatures(degree=2, include_bias=False).fit_transform(x) # buat instance polynomialnya\n",
    "x_"
   ]
  },
  {
   "cell_type": "code",
   "execution_count": 35,
   "id": "71ae705a-e447-4a92-b04d-e352bf65cac1",
   "metadata": {
    "tags": []
   },
   "outputs": [],
   "source": [
    "# Step 3: Create and Fit Model\n",
    "model = LinearRegression().fit(x_, y)"
   ]
  },
  {
   "cell_type": "code",
   "execution_count": 36,
   "id": "b04bb6da-e432-4f48-9fcc-1ad2aa153d22",
   "metadata": {
    "tags": []
   },
   "outputs": [
    {
     "name": "stdout",
     "output_type": "stream",
     "text": [
      "Coefficient of determination : 0.9453701449127822\n",
      "Intercept : 0.8430556452395734\n",
      "Slope : [ 2.44828275  0.16160353 -0.15259677  0.47928683 -0.4641851 ]\n"
     ]
    }
   ],
   "source": [
    "# Step 4: Get Result\n",
    "r_sq = model.score(x_, y)\n",
    "print('Coefficient of determination :',r_sq) #R^2\n",
    "print('Intercept :', model.intercept_) # b0\n",
    "print('Slope :', model.coef_) # b1 & b2"
   ]
  },
  {
   "cell_type": "markdown",
   "id": "f5c553b7-4040-47cf-a52b-67f995803b8c",
   "metadata": {},
   "source": [
    "## Advanced Linear Regression with Statsmodel"
   ]
  },
  {
   "cell_type": "markdown",
   "id": "ec932029-4dc9-45f7-9e5c-c45275f9cf4c",
   "metadata": {},
   "source": [
    "### Import Package"
   ]
  },
  {
   "cell_type": "code",
   "execution_count": 37,
   "id": "dbe33e92-2b7b-4bad-8484-dd6d8c29426f",
   "metadata": {
    "tags": []
   },
   "outputs": [],
   "source": [
    "import statsmodels.api as sm"
   ]
  },
  {
   "cell_type": "markdown",
   "id": "0ddee242-5709-4f41-b717-34c94cc4d06e",
   "metadata": {},
   "source": [
    "\n",
    "### Step 2: Provide Data"
   ]
  },
  {
   "cell_type": "code",
   "execution_count": 38,
   "id": "5044e29d-b429-41d1-9796-2338067097ae",
   "metadata": {
    "tags": []
   },
   "outputs": [],
   "source": [
    "x = [\n",
    "    [0, 1],\n",
    "    [5, 1],\n",
    "    [15, 2],\n",
    "    [25, 5],\n",
    "    [35, 11],\n",
    "    [45, 15],\n",
    "    [55, 34],\n",
    "    [60, 35]\n",
    "]\n",
    "y = [4, 5, 20, 14, 32, 22, 38, 43]\n",
    "\n",
    "x, y = np.array(x), np.array(y)"
   ]
  },
  {
   "cell_type": "code",
   "execution_count": 39,
   "id": "ac5a7eb4-9084-4796-9c25-cac5db415eb2",
   "metadata": {
    "tags": []
   },
   "outputs": [
    {
     "data": {
      "text/plain": [
       "array([[ 1.,  0.,  1.],\n",
       "       [ 1.,  5.,  1.],\n",
       "       [ 1., 15.,  2.],\n",
       "       [ 1., 25.,  5.],\n",
       "       [ 1., 35., 11.],\n",
       "       [ 1., 45., 15.],\n",
       "       [ 1., 55., 34.],\n",
       "       [ 1., 60., 35.]])"
      ]
     },
     "execution_count": 39,
     "metadata": {},
     "output_type": "execute_result"
    }
   ],
   "source": [
    "x = sm.add_constant(x)\n",
    "x"
   ]
  },
  {
   "cell_type": "markdown",
   "id": "d6b34dfa-16f2-4068-a37f-b42981e6f033",
   "metadata": {},
   "source": [
    "### Step 3: Create and Train Model"
   ]
  },
  {
   "cell_type": "code",
   "execution_count": 40,
   "id": "4d5236c3-312e-479c-8702-e8c5f60f83d7",
   "metadata": {
    "tags": []
   },
   "outputs": [],
   "source": [
    "model = sm.OLS(y, x)"
   ]
  },
  {
   "cell_type": "code",
   "execution_count": 41,
   "id": "0c0d3d35-54e7-4591-9e68-9e21e0fc1515",
   "metadata": {
    "tags": []
   },
   "outputs": [],
   "source": [
    "result = model.fit()"
   ]
  },
  {
   "cell_type": "markdown",
   "id": "cbbda1e8-2a98-4a8a-9ea4-a6f6acd99406",
   "metadata": {},
   "source": [
    "### Step 4: Get result"
   ]
  },
  {
   "cell_type": "code",
   "execution_count": 42,
   "id": "00a4a2a9-b86f-4931-a709-7c24dd7a8a6c",
   "metadata": {
    "tags": []
   },
   "outputs": [
    {
     "name": "stdout",
     "output_type": "stream",
     "text": [
      "                            OLS Regression Results                            \n",
      "==============================================================================\n",
      "Dep. Variable:                      y   R-squared:                       0.862\n",
      "Model:                            OLS   Adj. R-squared:                  0.806\n",
      "Method:                 Least Squares   F-statistic:                     15.56\n",
      "Date:                Fri, 15 Dec 2023   Prob (F-statistic):            0.00713\n",
      "Time:                        20:33:48   Log-Likelihood:                -24.316\n",
      "No. Observations:                   8   AIC:                             54.63\n",
      "Df Residuals:                       5   BIC:                             54.87\n",
      "Df Model:                           2                                         \n",
      "Covariance Type:            nonrobust                                         \n",
      "==============================================================================\n",
      "                 coef    std err          t      P>|t|      [0.025      0.975]\n",
      "------------------------------------------------------------------------------\n",
      "const          5.5226      4.431      1.246      0.268      -5.867      16.912\n",
      "x1             0.4471      0.285      1.567      0.178      -0.286       1.180\n",
      "x2             0.2550      0.453      0.563      0.598      -0.910       1.420\n",
      "==============================================================================\n",
      "Omnibus:                        0.561   Durbin-Watson:                   3.268\n",
      "Prob(Omnibus):                  0.755   Jarque-Bera (JB):                0.534\n",
      "Skew:                           0.380   Prob(JB):                        0.766\n",
      "Kurtosis:                       1.987   Cond. No.                         80.1\n",
      "==============================================================================\n",
      "\n",
      "Notes:\n",
      "[1] Standard Errors assume that the covariance matrix of the errors is correctly specified.\n"
     ]
    },
    {
     "name": "stderr",
     "output_type": "stream",
     "text": [
      "C:\\ProgramData\\anaconda3\\Lib\\site-packages\\scipy\\stats\\_stats_py.py:1736: UserWarning: kurtosistest only valid for n>=20 ... continuing anyway, n=8\n",
      "  warnings.warn(\"kurtosistest only valid for n>=20 ... continuing \"\n"
     ]
    }
   ],
   "source": [
    "print(result.summary())"
   ]
  },
  {
   "cell_type": "code",
   "execution_count": 43,
   "id": "20f34656-339b-4115-9d01-606043c33861",
   "metadata": {
    "tags": []
   },
   "outputs": [
    {
     "name": "stdout",
     "output_type": "stream",
     "text": [
      "0.8615939258756777\n",
      "0.8062314962259488\n",
      "[5.52257928 0.44706965 0.25502548]\n"
     ]
    }
   ],
   "source": [
    "print(result.rsquared)\n",
    "print(result.rsquared_adj)\n",
    "print(result.params)"
   ]
  },
  {
   "cell_type": "markdown",
   "id": "a6b2ad47-6ebf-4669-90ad-9d55552dd795",
   "metadata": {},
   "source": [
    "### Step 5: Predict Response"
   ]
  },
  {
   "cell_type": "code",
   "execution_count": 44,
   "id": "69f7b7d6-3165-43f0-838a-4d36744b60f3",
   "metadata": {
    "tags": []
   },
   "outputs": [
    {
     "name": "stdout",
     "output_type": "stream",
     "text": [
      "Predicted Response :\n",
      "[ 5.77760476  8.012953   12.73867497 17.9744479  23.97529728 29.4660957\n",
      " 38.78227633 41.27265006]\n"
     ]
    }
   ],
   "source": [
    "print('Predicted Response :', result.fittedvalues, sep='\\n')"
   ]
  },
  {
   "cell_type": "code",
   "execution_count": 45,
   "id": "36b5c628-1bfc-4d83-8eac-490ab752726a",
   "metadata": {
    "tags": []
   },
   "outputs": [
    {
     "name": "stdout",
     "output_type": "stream",
     "text": [
      "Predicted Response :\n",
      "[ 5.77760476  8.012953   12.73867497 17.9744479  23.97529728 29.4660957\n",
      " 38.78227633 41.27265006]\n"
     ]
    }
   ],
   "source": [
    "print('Predicted Response :', result.predict(x), sep='\\n')"
   ]
  },
  {
   "cell_type": "code",
   "execution_count": 46,
   "id": "13ae94ce-4bf2-4e4a-adbe-1ab57f5d69aa",
   "metadata": {
    "tags": []
   },
   "outputs": [
    {
     "name": "stdout",
     "output_type": "stream",
     "text": [
      "[[1. 0. 1.]\n",
      " [1. 2. 3.]\n",
      " [1. 4. 5.]\n",
      " [1. 6. 7.]\n",
      " [1. 8. 9.]]\n"
     ]
    }
   ],
   "source": [
    "x_new = sm.add_constant(np.arange(10).reshape((-1,2)))\n",
    "print(x_new)"
   ]
  },
  {
   "cell_type": "code",
   "execution_count": 47,
   "id": "bc22cbcd-e5e2-49ea-a0dc-1ed3d118800f",
   "metadata": {
    "tags": []
   },
   "outputs": [
    {
     "name": "stdout",
     "output_type": "stream",
     "text": [
      "[ 5.77760476  7.18179502  8.58598528  9.99017554 11.3943658 ]\n"
     ]
    }
   ],
   "source": [
    "y_new = result.predict(x_new)\n",
    "print(y_new)"
   ]
  },
  {
   "cell_type": "markdown",
   "id": "501a6894-e2cf-4bac-998c-8e479c432b13",
   "metadata": {},
   "source": [
    "# Implementing Linear Regression on Real Dataset"
   ]
  },
  {
   "cell_type": "markdown",
   "id": "aaaaf47d-6082-44ee-8398-a6156c5c1078",
   "metadata": {},
   "source": [
    "## Using Statsmodels"
   ]
  },
  {
   "cell_type": "code",
   "execution_count": 48,
   "id": "3c0f236f-7c19-49f0-bb6b-265d1cdc715c",
   "metadata": {
    "tags": []
   },
   "outputs": [],
   "source": [
    "import pandas as pd"
   ]
  },
  {
   "cell_type": "code",
   "execution_count": 50,
   "id": "f3e2f42e-7385-47cb-a1d5-ec281c6edf32",
   "metadata": {
    "tags": []
   },
   "outputs": [
    {
     "data": {
      "text/html": [
       "<div>\n",
       "<style scoped>\n",
       "    .dataframe tbody tr th:only-of-type {\n",
       "        vertical-align: middle;\n",
       "    }\n",
       "\n",
       "    .dataframe tbody tr th {\n",
       "        vertical-align: top;\n",
       "    }\n",
       "\n",
       "    .dataframe thead th {\n",
       "        text-align: right;\n",
       "    }\n",
       "</style>\n",
       "<table border=\"1\" class=\"dataframe\">\n",
       "  <thead>\n",
       "    <tr style=\"text-align: right;\">\n",
       "      <th></th>\n",
       "      <th>Unnamed: 0</th>\n",
       "      <th>crim</th>\n",
       "      <th>zn</th>\n",
       "      <th>indus</th>\n",
       "      <th>chas</th>\n",
       "      <th>nox</th>\n",
       "      <th>rm</th>\n",
       "      <th>age</th>\n",
       "      <th>dis</th>\n",
       "      <th>rad</th>\n",
       "      <th>tax</th>\n",
       "      <th>ptratio</th>\n",
       "      <th>black</th>\n",
       "      <th>lstat</th>\n",
       "      <th>medv</th>\n",
       "    </tr>\n",
       "  </thead>\n",
       "  <tbody>\n",
       "    <tr>\n",
       "      <th>0</th>\n",
       "      <td>1</td>\n",
       "      <td>0.00632</td>\n",
       "      <td>18.0</td>\n",
       "      <td>2.31</td>\n",
       "      <td>0</td>\n",
       "      <td>0.538</td>\n",
       "      <td>6.575</td>\n",
       "      <td>65.2</td>\n",
       "      <td>4.0900</td>\n",
       "      <td>1</td>\n",
       "      <td>296</td>\n",
       "      <td>15.3</td>\n",
       "      <td>396.90</td>\n",
       "      <td>4.98</td>\n",
       "      <td>24.0</td>\n",
       "    </tr>\n",
       "    <tr>\n",
       "      <th>1</th>\n",
       "      <td>2</td>\n",
       "      <td>0.02731</td>\n",
       "      <td>0.0</td>\n",
       "      <td>7.07</td>\n",
       "      <td>0</td>\n",
       "      <td>0.469</td>\n",
       "      <td>6.421</td>\n",
       "      <td>78.9</td>\n",
       "      <td>4.9671</td>\n",
       "      <td>2</td>\n",
       "      <td>242</td>\n",
       "      <td>17.8</td>\n",
       "      <td>396.90</td>\n",
       "      <td>9.14</td>\n",
       "      <td>21.6</td>\n",
       "    </tr>\n",
       "    <tr>\n",
       "      <th>2</th>\n",
       "      <td>3</td>\n",
       "      <td>0.02729</td>\n",
       "      <td>0.0</td>\n",
       "      <td>7.07</td>\n",
       "      <td>0</td>\n",
       "      <td>0.469</td>\n",
       "      <td>7.185</td>\n",
       "      <td>61.1</td>\n",
       "      <td>4.9671</td>\n",
       "      <td>2</td>\n",
       "      <td>242</td>\n",
       "      <td>17.8</td>\n",
       "      <td>392.83</td>\n",
       "      <td>4.03</td>\n",
       "      <td>34.7</td>\n",
       "    </tr>\n",
       "    <tr>\n",
       "      <th>3</th>\n",
       "      <td>4</td>\n",
       "      <td>0.03237</td>\n",
       "      <td>0.0</td>\n",
       "      <td>2.18</td>\n",
       "      <td>0</td>\n",
       "      <td>0.458</td>\n",
       "      <td>6.998</td>\n",
       "      <td>45.8</td>\n",
       "      <td>6.0622</td>\n",
       "      <td>3</td>\n",
       "      <td>222</td>\n",
       "      <td>18.7</td>\n",
       "      <td>394.63</td>\n",
       "      <td>2.94</td>\n",
       "      <td>33.4</td>\n",
       "    </tr>\n",
       "    <tr>\n",
       "      <th>4</th>\n",
       "      <td>5</td>\n",
       "      <td>0.06905</td>\n",
       "      <td>0.0</td>\n",
       "      <td>2.18</td>\n",
       "      <td>0</td>\n",
       "      <td>0.458</td>\n",
       "      <td>7.147</td>\n",
       "      <td>54.2</td>\n",
       "      <td>6.0622</td>\n",
       "      <td>3</td>\n",
       "      <td>222</td>\n",
       "      <td>18.7</td>\n",
       "      <td>396.90</td>\n",
       "      <td>5.33</td>\n",
       "      <td>36.2</td>\n",
       "    </tr>\n",
       "    <tr>\n",
       "      <th>...</th>\n",
       "      <td>...</td>\n",
       "      <td>...</td>\n",
       "      <td>...</td>\n",
       "      <td>...</td>\n",
       "      <td>...</td>\n",
       "      <td>...</td>\n",
       "      <td>...</td>\n",
       "      <td>...</td>\n",
       "      <td>...</td>\n",
       "      <td>...</td>\n",
       "      <td>...</td>\n",
       "      <td>...</td>\n",
       "      <td>...</td>\n",
       "      <td>...</td>\n",
       "      <td>...</td>\n",
       "    </tr>\n",
       "    <tr>\n",
       "      <th>501</th>\n",
       "      <td>502</td>\n",
       "      <td>0.06263</td>\n",
       "      <td>0.0</td>\n",
       "      <td>11.93</td>\n",
       "      <td>0</td>\n",
       "      <td>0.573</td>\n",
       "      <td>6.593</td>\n",
       "      <td>69.1</td>\n",
       "      <td>2.4786</td>\n",
       "      <td>1</td>\n",
       "      <td>273</td>\n",
       "      <td>21.0</td>\n",
       "      <td>391.99</td>\n",
       "      <td>9.67</td>\n",
       "      <td>22.4</td>\n",
       "    </tr>\n",
       "    <tr>\n",
       "      <th>502</th>\n",
       "      <td>503</td>\n",
       "      <td>0.04527</td>\n",
       "      <td>0.0</td>\n",
       "      <td>11.93</td>\n",
       "      <td>0</td>\n",
       "      <td>0.573</td>\n",
       "      <td>6.120</td>\n",
       "      <td>76.7</td>\n",
       "      <td>2.2875</td>\n",
       "      <td>1</td>\n",
       "      <td>273</td>\n",
       "      <td>21.0</td>\n",
       "      <td>396.90</td>\n",
       "      <td>9.08</td>\n",
       "      <td>20.6</td>\n",
       "    </tr>\n",
       "    <tr>\n",
       "      <th>503</th>\n",
       "      <td>504</td>\n",
       "      <td>0.06076</td>\n",
       "      <td>0.0</td>\n",
       "      <td>11.93</td>\n",
       "      <td>0</td>\n",
       "      <td>0.573</td>\n",
       "      <td>6.976</td>\n",
       "      <td>91.0</td>\n",
       "      <td>2.1675</td>\n",
       "      <td>1</td>\n",
       "      <td>273</td>\n",
       "      <td>21.0</td>\n",
       "      <td>396.90</td>\n",
       "      <td>5.64</td>\n",
       "      <td>23.9</td>\n",
       "    </tr>\n",
       "    <tr>\n",
       "      <th>504</th>\n",
       "      <td>505</td>\n",
       "      <td>0.10959</td>\n",
       "      <td>0.0</td>\n",
       "      <td>11.93</td>\n",
       "      <td>0</td>\n",
       "      <td>0.573</td>\n",
       "      <td>6.794</td>\n",
       "      <td>89.3</td>\n",
       "      <td>2.3889</td>\n",
       "      <td>1</td>\n",
       "      <td>273</td>\n",
       "      <td>21.0</td>\n",
       "      <td>393.45</td>\n",
       "      <td>6.48</td>\n",
       "      <td>22.0</td>\n",
       "    </tr>\n",
       "    <tr>\n",
       "      <th>505</th>\n",
       "      <td>506</td>\n",
       "      <td>0.04741</td>\n",
       "      <td>0.0</td>\n",
       "      <td>11.93</td>\n",
       "      <td>0</td>\n",
       "      <td>0.573</td>\n",
       "      <td>6.030</td>\n",
       "      <td>80.8</td>\n",
       "      <td>2.5050</td>\n",
       "      <td>1</td>\n",
       "      <td>273</td>\n",
       "      <td>21.0</td>\n",
       "      <td>396.90</td>\n",
       "      <td>7.88</td>\n",
       "      <td>11.9</td>\n",
       "    </tr>\n",
       "  </tbody>\n",
       "</table>\n",
       "<p>506 rows × 15 columns</p>\n",
       "</div>"
      ],
      "text/plain": [
       "     Unnamed: 0     crim    zn  indus  chas    nox     rm   age     dis  rad  \\\n",
       "0             1  0.00632  18.0   2.31     0  0.538  6.575  65.2  4.0900    1   \n",
       "1             2  0.02731   0.0   7.07     0  0.469  6.421  78.9  4.9671    2   \n",
       "2             3  0.02729   0.0   7.07     0  0.469  7.185  61.1  4.9671    2   \n",
       "3             4  0.03237   0.0   2.18     0  0.458  6.998  45.8  6.0622    3   \n",
       "4             5  0.06905   0.0   2.18     0  0.458  7.147  54.2  6.0622    3   \n",
       "..          ...      ...   ...    ...   ...    ...    ...   ...     ...  ...   \n",
       "501         502  0.06263   0.0  11.93     0  0.573  6.593  69.1  2.4786    1   \n",
       "502         503  0.04527   0.0  11.93     0  0.573  6.120  76.7  2.2875    1   \n",
       "503         504  0.06076   0.0  11.93     0  0.573  6.976  91.0  2.1675    1   \n",
       "504         505  0.10959   0.0  11.93     0  0.573  6.794  89.3  2.3889    1   \n",
       "505         506  0.04741   0.0  11.93     0  0.573  6.030  80.8  2.5050    1   \n",
       "\n",
       "     tax  ptratio   black  lstat  medv  \n",
       "0    296     15.3  396.90   4.98  24.0  \n",
       "1    242     17.8  396.90   9.14  21.6  \n",
       "2    242     17.8  392.83   4.03  34.7  \n",
       "3    222     18.7  394.63   2.94  33.4  \n",
       "4    222     18.7  396.90   5.33  36.2  \n",
       "..   ...      ...     ...    ...   ...  \n",
       "501  273     21.0  391.99   9.67  22.4  \n",
       "502  273     21.0  396.90   9.08  20.6  \n",
       "503  273     21.0  396.90   5.64  23.9  \n",
       "504  273     21.0  393.45   6.48  22.0  \n",
       "505  273     21.0  396.90   7.88  11.9  \n",
       "\n",
       "[506 rows x 15 columns]"
      ]
     },
     "execution_count": 50,
     "metadata": {},
     "output_type": "execute_result"
    }
   ],
   "source": [
    "# Step 2: Provide Data\n",
    "raw_df = pd.read_csv('Boston.csv')\n",
    "raw_df"
   ]
  },
  {
   "cell_type": "code",
   "execution_count": 51,
   "id": "97b8cd46-affa-4b6a-ae7a-7c61b8908a6a",
   "metadata": {
    "tags": []
   },
   "outputs": [
    {
     "data": {
      "text/html": [
       "<div>\n",
       "<style scoped>\n",
       "    .dataframe tbody tr th:only-of-type {\n",
       "        vertical-align: middle;\n",
       "    }\n",
       "\n",
       "    .dataframe tbody tr th {\n",
       "        vertical-align: top;\n",
       "    }\n",
       "\n",
       "    .dataframe thead th {\n",
       "        text-align: right;\n",
       "    }\n",
       "</style>\n",
       "<table border=\"1\" class=\"dataframe\">\n",
       "  <thead>\n",
       "    <tr style=\"text-align: right;\">\n",
       "      <th></th>\n",
       "      <th>Unnamed: 0</th>\n",
       "      <th>crim</th>\n",
       "      <th>zn</th>\n",
       "      <th>indus</th>\n",
       "      <th>chas</th>\n",
       "      <th>nox</th>\n",
       "      <th>rm</th>\n",
       "      <th>age</th>\n",
       "      <th>dis</th>\n",
       "      <th>rad</th>\n",
       "      <th>tax</th>\n",
       "      <th>ptratio</th>\n",
       "      <th>black</th>\n",
       "      <th>lstat</th>\n",
       "    </tr>\n",
       "  </thead>\n",
       "  <tbody>\n",
       "    <tr>\n",
       "      <th>0</th>\n",
       "      <td>1</td>\n",
       "      <td>0.00632</td>\n",
       "      <td>18.0</td>\n",
       "      <td>2.31</td>\n",
       "      <td>0</td>\n",
       "      <td>0.538</td>\n",
       "      <td>6.575</td>\n",
       "      <td>65.2</td>\n",
       "      <td>4.0900</td>\n",
       "      <td>1</td>\n",
       "      <td>296</td>\n",
       "      <td>15.3</td>\n",
       "      <td>396.90</td>\n",
       "      <td>4.98</td>\n",
       "    </tr>\n",
       "    <tr>\n",
       "      <th>1</th>\n",
       "      <td>2</td>\n",
       "      <td>0.02731</td>\n",
       "      <td>0.0</td>\n",
       "      <td>7.07</td>\n",
       "      <td>0</td>\n",
       "      <td>0.469</td>\n",
       "      <td>6.421</td>\n",
       "      <td>78.9</td>\n",
       "      <td>4.9671</td>\n",
       "      <td>2</td>\n",
       "      <td>242</td>\n",
       "      <td>17.8</td>\n",
       "      <td>396.90</td>\n",
       "      <td>9.14</td>\n",
       "    </tr>\n",
       "    <tr>\n",
       "      <th>2</th>\n",
       "      <td>3</td>\n",
       "      <td>0.02729</td>\n",
       "      <td>0.0</td>\n",
       "      <td>7.07</td>\n",
       "      <td>0</td>\n",
       "      <td>0.469</td>\n",
       "      <td>7.185</td>\n",
       "      <td>61.1</td>\n",
       "      <td>4.9671</td>\n",
       "      <td>2</td>\n",
       "      <td>242</td>\n",
       "      <td>17.8</td>\n",
       "      <td>392.83</td>\n",
       "      <td>4.03</td>\n",
       "    </tr>\n",
       "    <tr>\n",
       "      <th>3</th>\n",
       "      <td>4</td>\n",
       "      <td>0.03237</td>\n",
       "      <td>0.0</td>\n",
       "      <td>2.18</td>\n",
       "      <td>0</td>\n",
       "      <td>0.458</td>\n",
       "      <td>6.998</td>\n",
       "      <td>45.8</td>\n",
       "      <td>6.0622</td>\n",
       "      <td>3</td>\n",
       "      <td>222</td>\n",
       "      <td>18.7</td>\n",
       "      <td>394.63</td>\n",
       "      <td>2.94</td>\n",
       "    </tr>\n",
       "    <tr>\n",
       "      <th>4</th>\n",
       "      <td>5</td>\n",
       "      <td>0.06905</td>\n",
       "      <td>0.0</td>\n",
       "      <td>2.18</td>\n",
       "      <td>0</td>\n",
       "      <td>0.458</td>\n",
       "      <td>7.147</td>\n",
       "      <td>54.2</td>\n",
       "      <td>6.0622</td>\n",
       "      <td>3</td>\n",
       "      <td>222</td>\n",
       "      <td>18.7</td>\n",
       "      <td>396.90</td>\n",
       "      <td>5.33</td>\n",
       "    </tr>\n",
       "    <tr>\n",
       "      <th>...</th>\n",
       "      <td>...</td>\n",
       "      <td>...</td>\n",
       "      <td>...</td>\n",
       "      <td>...</td>\n",
       "      <td>...</td>\n",
       "      <td>...</td>\n",
       "      <td>...</td>\n",
       "      <td>...</td>\n",
       "      <td>...</td>\n",
       "      <td>...</td>\n",
       "      <td>...</td>\n",
       "      <td>...</td>\n",
       "      <td>...</td>\n",
       "      <td>...</td>\n",
       "    </tr>\n",
       "    <tr>\n",
       "      <th>501</th>\n",
       "      <td>502</td>\n",
       "      <td>0.06263</td>\n",
       "      <td>0.0</td>\n",
       "      <td>11.93</td>\n",
       "      <td>0</td>\n",
       "      <td>0.573</td>\n",
       "      <td>6.593</td>\n",
       "      <td>69.1</td>\n",
       "      <td>2.4786</td>\n",
       "      <td>1</td>\n",
       "      <td>273</td>\n",
       "      <td>21.0</td>\n",
       "      <td>391.99</td>\n",
       "      <td>9.67</td>\n",
       "    </tr>\n",
       "    <tr>\n",
       "      <th>502</th>\n",
       "      <td>503</td>\n",
       "      <td>0.04527</td>\n",
       "      <td>0.0</td>\n",
       "      <td>11.93</td>\n",
       "      <td>0</td>\n",
       "      <td>0.573</td>\n",
       "      <td>6.120</td>\n",
       "      <td>76.7</td>\n",
       "      <td>2.2875</td>\n",
       "      <td>1</td>\n",
       "      <td>273</td>\n",
       "      <td>21.0</td>\n",
       "      <td>396.90</td>\n",
       "      <td>9.08</td>\n",
       "    </tr>\n",
       "    <tr>\n",
       "      <th>503</th>\n",
       "      <td>504</td>\n",
       "      <td>0.06076</td>\n",
       "      <td>0.0</td>\n",
       "      <td>11.93</td>\n",
       "      <td>0</td>\n",
       "      <td>0.573</td>\n",
       "      <td>6.976</td>\n",
       "      <td>91.0</td>\n",
       "      <td>2.1675</td>\n",
       "      <td>1</td>\n",
       "      <td>273</td>\n",
       "      <td>21.0</td>\n",
       "      <td>396.90</td>\n",
       "      <td>5.64</td>\n",
       "    </tr>\n",
       "    <tr>\n",
       "      <th>504</th>\n",
       "      <td>505</td>\n",
       "      <td>0.10959</td>\n",
       "      <td>0.0</td>\n",
       "      <td>11.93</td>\n",
       "      <td>0</td>\n",
       "      <td>0.573</td>\n",
       "      <td>6.794</td>\n",
       "      <td>89.3</td>\n",
       "      <td>2.3889</td>\n",
       "      <td>1</td>\n",
       "      <td>273</td>\n",
       "      <td>21.0</td>\n",
       "      <td>393.45</td>\n",
       "      <td>6.48</td>\n",
       "    </tr>\n",
       "    <tr>\n",
       "      <th>505</th>\n",
       "      <td>506</td>\n",
       "      <td>0.04741</td>\n",
       "      <td>0.0</td>\n",
       "      <td>11.93</td>\n",
       "      <td>0</td>\n",
       "      <td>0.573</td>\n",
       "      <td>6.030</td>\n",
       "      <td>80.8</td>\n",
       "      <td>2.5050</td>\n",
       "      <td>1</td>\n",
       "      <td>273</td>\n",
       "      <td>21.0</td>\n",
       "      <td>396.90</td>\n",
       "      <td>7.88</td>\n",
       "    </tr>\n",
       "  </tbody>\n",
       "</table>\n",
       "<p>506 rows × 14 columns</p>\n",
       "</div>"
      ],
      "text/plain": [
       "     Unnamed: 0     crim    zn  indus  chas    nox     rm   age     dis  rad  \\\n",
       "0             1  0.00632  18.0   2.31     0  0.538  6.575  65.2  4.0900    1   \n",
       "1             2  0.02731   0.0   7.07     0  0.469  6.421  78.9  4.9671    2   \n",
       "2             3  0.02729   0.0   7.07     0  0.469  7.185  61.1  4.9671    2   \n",
       "3             4  0.03237   0.0   2.18     0  0.458  6.998  45.8  6.0622    3   \n",
       "4             5  0.06905   0.0   2.18     0  0.458  7.147  54.2  6.0622    3   \n",
       "..          ...      ...   ...    ...   ...    ...    ...   ...     ...  ...   \n",
       "501         502  0.06263   0.0  11.93     0  0.573  6.593  69.1  2.4786    1   \n",
       "502         503  0.04527   0.0  11.93     0  0.573  6.120  76.7  2.2875    1   \n",
       "503         504  0.06076   0.0  11.93     0  0.573  6.976  91.0  2.1675    1   \n",
       "504         505  0.10959   0.0  11.93     0  0.573  6.794  89.3  2.3889    1   \n",
       "505         506  0.04741   0.0  11.93     0  0.573  6.030  80.8  2.5050    1   \n",
       "\n",
       "     tax  ptratio   black  lstat  \n",
       "0    296     15.3  396.90   4.98  \n",
       "1    242     17.8  396.90   9.14  \n",
       "2    242     17.8  392.83   4.03  \n",
       "3    222     18.7  394.63   2.94  \n",
       "4    222     18.7  396.90   5.33  \n",
       "..   ...      ...     ...    ...  \n",
       "501  273     21.0  391.99   9.67  \n",
       "502  273     21.0  396.90   9.08  \n",
       "503  273     21.0  396.90   5.64  \n",
       "504  273     21.0  393.45   6.48  \n",
       "505  273     21.0  396.90   7.88  \n",
       "\n",
       "[506 rows x 14 columns]"
      ]
     },
     "execution_count": 51,
     "metadata": {},
     "output_type": "execute_result"
    }
   ],
   "source": [
    "df = raw_df.iloc[:, :-1]\n",
    "df"
   ]
  },
  {
   "cell_type": "code",
   "execution_count": 52,
   "id": "e1575a6d-eb61-4060-a62c-295b94546f90",
   "metadata": {
    "tags": []
   },
   "outputs": [
    {
     "data": {
      "text/plain": [
       "0      24.0\n",
       "1      21.6\n",
       "2      34.7\n",
       "3      33.4\n",
       "4      36.2\n",
       "       ... \n",
       "501    22.4\n",
       "502    20.6\n",
       "503    23.9\n",
       "504    22.0\n",
       "505    11.9\n",
       "Name: medv, Length: 506, dtype: float64"
      ]
     },
     "execution_count": 52,
     "metadata": {},
     "output_type": "execute_result"
    }
   ],
   "source": [
    "target = raw_df.iloc[:, -1]\n",
    "target"
   ]
  },
  {
   "cell_type": "code",
   "execution_count": 53,
   "id": "beb306fb-9644-4f14-9d75-413014a0df8e",
   "metadata": {
    "tags": []
   },
   "outputs": [],
   "source": [
    "# Step 2: Provide Data\n",
    "X = df['rm']\n",
    "y = target.values"
   ]
  },
  {
   "cell_type": "code",
   "execution_count": 54,
   "id": "bd206038-4cd5-49ee-bbb6-87f60aeabc08",
   "metadata": {
    "tags": []
   },
   "outputs": [
    {
     "data": {
      "text/html": [
       "<table class=\"simpletable\">\n",
       "<caption>OLS Regression Results</caption>\n",
       "<tr>\n",
       "  <th>Dep. Variable:</th>            <td>y</td>        <th>  R-squared (uncentered):</th>      <td>   0.901</td> \n",
       "</tr>\n",
       "<tr>\n",
       "  <th>Model:</th>                   <td>OLS</td>       <th>  Adj. R-squared (uncentered):</th> <td>   0.901</td> \n",
       "</tr>\n",
       "<tr>\n",
       "  <th>Method:</th>             <td>Least Squares</td>  <th>  F-statistic:       </th>          <td>   4615.</td> \n",
       "</tr>\n",
       "<tr>\n",
       "  <th>Date:</th>             <td>Fri, 15 Dec 2023</td> <th>  Prob (F-statistic):</th>          <td>3.74e-256</td>\n",
       "</tr>\n",
       "<tr>\n",
       "  <th>Time:</th>                 <td>20:34:29</td>     <th>  Log-Likelihood:    </th>          <td> -1747.1</td> \n",
       "</tr>\n",
       "<tr>\n",
       "  <th>No. Observations:</th>      <td>   506</td>      <th>  AIC:               </th>          <td>   3496.</td> \n",
       "</tr>\n",
       "<tr>\n",
       "  <th>Df Residuals:</th>          <td>   505</td>      <th>  BIC:               </th>          <td>   3500.</td> \n",
       "</tr>\n",
       "<tr>\n",
       "  <th>Df Model:</th>              <td>     1</td>      <th>                     </th>              <td> </td>    \n",
       "</tr>\n",
       "<tr>\n",
       "  <th>Covariance Type:</th>      <td>nonrobust</td>    <th>                     </th>              <td> </td>    \n",
       "</tr>\n",
       "</table>\n",
       "<table class=\"simpletable\">\n",
       "<tr>\n",
       "   <td></td>     <th>coef</th>     <th>std err</th>      <th>t</th>      <th>P>|t|</th>  <th>[0.025</th>    <th>0.975]</th>  \n",
       "</tr>\n",
       "<tr>\n",
       "  <th>rm</th> <td>    3.6534</td> <td>    0.054</td> <td>   67.930</td> <td> 0.000</td> <td>    3.548</td> <td>    3.759</td>\n",
       "</tr>\n",
       "</table>\n",
       "<table class=\"simpletable\">\n",
       "<tr>\n",
       "  <th>Omnibus:</th>       <td>83.295</td> <th>  Durbin-Watson:     </th> <td>   0.493</td>\n",
       "</tr>\n",
       "<tr>\n",
       "  <th>Prob(Omnibus):</th> <td> 0.000</td> <th>  Jarque-Bera (JB):  </th> <td> 152.507</td>\n",
       "</tr>\n",
       "<tr>\n",
       "  <th>Skew:</th>          <td> 0.955</td> <th>  Prob(JB):          </th> <td>7.65e-34</td>\n",
       "</tr>\n",
       "<tr>\n",
       "  <th>Kurtosis:</th>      <td> 4.894</td> <th>  Cond. No.          </th> <td>    1.00</td>\n",
       "</tr>\n",
       "</table><br/><br/>Notes:<br/>[1] R² is computed without centering (uncentered) since the model does not contain a constant.<br/>[2] Standard Errors assume that the covariance matrix of the errors is correctly specified."
      ],
      "text/latex": [
       "\\begin{center}\n",
       "\\begin{tabular}{lclc}\n",
       "\\toprule\n",
       "\\textbf{Dep. Variable:}    &        y         & \\textbf{  R-squared (uncentered):}      &     0.901   \\\\\n",
       "\\textbf{Model:}            &       OLS        & \\textbf{  Adj. R-squared (uncentered):} &     0.901   \\\\\n",
       "\\textbf{Method:}           &  Least Squares   & \\textbf{  F-statistic:       }          &     4615.   \\\\\n",
       "\\textbf{Date:}             & Fri, 15 Dec 2023 & \\textbf{  Prob (F-statistic):}          & 3.74e-256   \\\\\n",
       "\\textbf{Time:}             &     20:34:29     & \\textbf{  Log-Likelihood:    }          &   -1747.1   \\\\\n",
       "\\textbf{No. Observations:} &         506      & \\textbf{  AIC:               }          &     3496.   \\\\\n",
       "\\textbf{Df Residuals:}     &         505      & \\textbf{  BIC:               }          &     3500.   \\\\\n",
       "\\textbf{Df Model:}         &           1      & \\textbf{                     }          &             \\\\\n",
       "\\textbf{Covariance Type:}  &    nonrobust     & \\textbf{                     }          &             \\\\\n",
       "\\bottomrule\n",
       "\\end{tabular}\n",
       "\\begin{tabular}{lcccccc}\n",
       "            & \\textbf{coef} & \\textbf{std err} & \\textbf{t} & \\textbf{P$> |$t$|$} & \\textbf{[0.025} & \\textbf{0.975]}  \\\\\n",
       "\\midrule\n",
       "\\textbf{rm} &       3.6534  &        0.054     &    67.930  &         0.000        &        3.548    &        3.759     \\\\\n",
       "\\bottomrule\n",
       "\\end{tabular}\n",
       "\\begin{tabular}{lclc}\n",
       "\\textbf{Omnibus:}       & 83.295 & \\textbf{  Durbin-Watson:     } &    0.493  \\\\\n",
       "\\textbf{Prob(Omnibus):} &  0.000 & \\textbf{  Jarque-Bera (JB):  } &  152.507  \\\\\n",
       "\\textbf{Skew:}          &  0.955 & \\textbf{  Prob(JB):          } & 7.65e-34  \\\\\n",
       "\\textbf{Kurtosis:}      &  4.894 & \\textbf{  Cond. No.          } &     1.00  \\\\\n",
       "\\bottomrule\n",
       "\\end{tabular}\n",
       "%\\caption{OLS Regression Results}\n",
       "\\end{center}\n",
       "\n",
       "Notes: \\newline\n",
       " [1] R² is computed without centering (uncentered) since the model does not contain a constant. \\newline\n",
       " [2] Standard Errors assume that the covariance matrix of the errors is correctly specified."
      ],
      "text/plain": [
       "<class 'statsmodels.iolib.summary.Summary'>\n",
       "\"\"\"\n",
       "                                 OLS Regression Results                                \n",
       "=======================================================================================\n",
       "Dep. Variable:                      y   R-squared (uncentered):                   0.901\n",
       "Model:                            OLS   Adj. R-squared (uncentered):              0.901\n",
       "Method:                 Least Squares   F-statistic:                              4615.\n",
       "Date:                Fri, 15 Dec 2023   Prob (F-statistic):                   3.74e-256\n",
       "Time:                        20:34:29   Log-Likelihood:                         -1747.1\n",
       "No. Observations:                 506   AIC:                                      3496.\n",
       "Df Residuals:                     505   BIC:                                      3500.\n",
       "Df Model:                           1                                                  \n",
       "Covariance Type:            nonrobust                                                  \n",
       "==============================================================================\n",
       "                 coef    std err          t      P>|t|      [0.025      0.975]\n",
       "------------------------------------------------------------------------------\n",
       "rm             3.6534      0.054     67.930      0.000       3.548       3.759\n",
       "==============================================================================\n",
       "Omnibus:                       83.295   Durbin-Watson:                   0.493\n",
       "Prob(Omnibus):                  0.000   Jarque-Bera (JB):              152.507\n",
       "Skew:                           0.955   Prob(JB):                     7.65e-34\n",
       "Kurtosis:                       4.894   Cond. No.                         1.00\n",
       "==============================================================================\n",
       "\n",
       "Notes:\n",
       "[1] R² is computed without centering (uncentered) since the model does not contain a constant.\n",
       "[2] Standard Errors assume that the covariance matrix of the errors is correctly specified.\n",
       "\"\"\""
      ]
     },
     "execution_count": 54,
     "metadata": {},
     "output_type": "execute_result"
    }
   ],
   "source": [
    "# Step 3: Create and Train Model\n",
    "model = sm.OLS(y, X).fit()\n",
    "\n",
    "# Step 5: Predict Response\n",
    "prediction = model.predict(X)\n",
    "\n",
    "model.summary()"
   ]
  },
  {
   "cell_type": "code",
   "execution_count": 55,
   "id": "4491e0da-3e95-4ed8-8769-527bd6577a03",
   "metadata": {
    "tags": []
   },
   "outputs": [
    {
     "data": {
      "image/png": "[encoded data removed]",
      "text/plain": [
       "<Figure size 640x480 with 1 Axes>"
      ]
     },
     "metadata": {},
     "output_type": "display_data"
    }
   ],
   "source": [
    "plt.scatter(X, y, alpha=.5)\n",
    "plt.plot(X, prediction)\n",
    "plt.title('Scatter plot X and y')\n",
    "plt.xlabel('X')\n",
    "plt.ylabel('y')\n",
    "plt.show()"
   ]
  },
  {
   "cell_type": "markdown",
   "id": "43a265fd-d543-491d-9c89-6f70f77f5f7a",
   "metadata": {
    "tags": []
   },
   "source": [
    "## SKLearn"
   ]
  },
  {
   "cell_type": "code",
   "execution_count": 56,
   "id": "c51201c4-9c13-4789-82d0-ffc3f6cb4c1a",
   "metadata": {
    "tags": []
   },
   "outputs": [],
   "source": [
    "from sklearn import linear_model"
   ]
  },
  {
   "cell_type": "code",
   "execution_count": 59,
   "id": "573e4be5-6f09-450f-b6a7-ce116f2527dd",
   "metadata": {
    "tags": []
   },
   "outputs": [
    {
     "data": {
      "text/html": [
       "<div>\n",
       "<style scoped>\n",
       "    .dataframe tbody tr th:only-of-type {\n",
       "        vertical-align: middle;\n",
       "    }\n",
       "\n",
       "    .dataframe tbody tr th {\n",
       "        vertical-align: top;\n",
       "    }\n",
       "\n",
       "    .dataframe thead th {\n",
       "        text-align: right;\n",
       "    }\n",
       "</style>\n",
       "<table border=\"1\" class=\"dataframe\">\n",
       "  <thead>\n",
       "    <tr style=\"text-align: right;\">\n",
       "      <th></th>\n",
       "      <th>Unnamed: 0</th>\n",
       "      <th>crim</th>\n",
       "      <th>zn</th>\n",
       "      <th>indus</th>\n",
       "      <th>chas</th>\n",
       "      <th>nox</th>\n",
       "      <th>rm</th>\n",
       "      <th>age</th>\n",
       "      <th>dis</th>\n",
       "      <th>rad</th>\n",
       "      <th>tax</th>\n",
       "      <th>ptratio</th>\n",
       "      <th>black</th>\n",
       "      <th>lstat</th>\n",
       "      <th>medv</th>\n",
       "    </tr>\n",
       "  </thead>\n",
       "  <tbody>\n",
       "    <tr>\n",
       "      <th>0</th>\n",
       "      <td>1</td>\n",
       "      <td>0.00632</td>\n",
       "      <td>18.0</td>\n",
       "      <td>2.31</td>\n",
       "      <td>0</td>\n",
       "      <td>0.538</td>\n",
       "      <td>6.575</td>\n",
       "      <td>65.2</td>\n",
       "      <td>4.0900</td>\n",
       "      <td>1</td>\n",
       "      <td>296</td>\n",
       "      <td>15.3</td>\n",
       "      <td>396.90</td>\n",
       "      <td>4.98</td>\n",
       "      <td>24.0</td>\n",
       "    </tr>\n",
       "    <tr>\n",
       "      <th>1</th>\n",
       "      <td>2</td>\n",
       "      <td>0.02731</td>\n",
       "      <td>0.0</td>\n",
       "      <td>7.07</td>\n",
       "      <td>0</td>\n",
       "      <td>0.469</td>\n",
       "      <td>6.421</td>\n",
       "      <td>78.9</td>\n",
       "      <td>4.9671</td>\n",
       "      <td>2</td>\n",
       "      <td>242</td>\n",
       "      <td>17.8</td>\n",
       "      <td>396.90</td>\n",
       "      <td>9.14</td>\n",
       "      <td>21.6</td>\n",
       "    </tr>\n",
       "    <tr>\n",
       "      <th>2</th>\n",
       "      <td>3</td>\n",
       "      <td>0.02729</td>\n",
       "      <td>0.0</td>\n",
       "      <td>7.07</td>\n",
       "      <td>0</td>\n",
       "      <td>0.469</td>\n",
       "      <td>7.185</td>\n",
       "      <td>61.1</td>\n",
       "      <td>4.9671</td>\n",
       "      <td>2</td>\n",
       "      <td>242</td>\n",
       "      <td>17.8</td>\n",
       "      <td>392.83</td>\n",
       "      <td>4.03</td>\n",
       "      <td>34.7</td>\n",
       "    </tr>\n",
       "    <tr>\n",
       "      <th>3</th>\n",
       "      <td>4</td>\n",
       "      <td>0.03237</td>\n",
       "      <td>0.0</td>\n",
       "      <td>2.18</td>\n",
       "      <td>0</td>\n",
       "      <td>0.458</td>\n",
       "      <td>6.998</td>\n",
       "      <td>45.8</td>\n",
       "      <td>6.0622</td>\n",
       "      <td>3</td>\n",
       "      <td>222</td>\n",
       "      <td>18.7</td>\n",
       "      <td>394.63</td>\n",
       "      <td>2.94</td>\n",
       "      <td>33.4</td>\n",
       "    </tr>\n",
       "    <tr>\n",
       "      <th>4</th>\n",
       "      <td>5</td>\n",
       "      <td>0.06905</td>\n",
       "      <td>0.0</td>\n",
       "      <td>2.18</td>\n",
       "      <td>0</td>\n",
       "      <td>0.458</td>\n",
       "      <td>7.147</td>\n",
       "      <td>54.2</td>\n",
       "      <td>6.0622</td>\n",
       "      <td>3</td>\n",
       "      <td>222</td>\n",
       "      <td>18.7</td>\n",
       "      <td>396.90</td>\n",
       "      <td>5.33</td>\n",
       "      <td>36.2</td>\n",
       "    </tr>\n",
       "  </tbody>\n",
       "</table>\n",
       "</div>"
      ],
      "text/plain": [
       "   Unnamed: 0     crim    zn  indus  chas    nox     rm   age     dis  rad  \\\n",
       "0           1  0.00632  18.0   2.31     0  0.538  6.575  65.2  4.0900    1   \n",
       "1           2  0.02731   0.0   7.07     0  0.469  6.421  78.9  4.9671    2   \n",
       "2           3  0.02729   0.0   7.07     0  0.469  7.185  61.1  4.9671    2   \n",
       "3           4  0.03237   0.0   2.18     0  0.458  6.998  45.8  6.0622    3   \n",
       "4           5  0.06905   0.0   2.18     0  0.458  7.147  54.2  6.0622    3   \n",
       "\n",
       "   tax  ptratio   black  lstat  medv  \n",
       "0  296     15.3  396.90   4.98  24.0  \n",
       "1  242     17.8  396.90   9.14  21.6  \n",
       "2  242     17.8  392.83   4.03  34.7  \n",
       "3  222     18.7  394.63   2.94  33.4  \n",
       "4  222     18.7  396.90   5.33  36.2  "
      ]
     },
     "execution_count": 59,
     "metadata": {},
     "output_type": "execute_result"
    }
   ],
   "source": [
    "df = pd.read_csv('CarPrice_Assignment.csv\n",
    ".csv')\n",
    "df.head()"
   ]
  },
  {
   "cell_type": "code",
   "execution_count": 60,
   "id": "c0628978-e02d-4bc9-9e1b-341e514f5910",
   "metadata": {
    "tags": []
   },
   "outputs": [],
   "source": [
    "X = df.iloc[:, :-1]\n",
    "y = df['medv']"
   ]
  },
  {
   "cell_type": "code",
   "execution_count": 61,
   "id": "08660ef0-f8d7-47fe-9236-c601ba293f49",
   "metadata": {
    "tags": []
   },
   "outputs": [],
   "source": [
    "lm = linear_model.LinearRegression() # model\n",
    "model = lm.fit(X, y) # train"
   ]
  },
  {
   "cell_type": "code",
   "execution_count": 62,
   "id": "5641602d-3b74-46b0-8f8e-ca8c1487afeb",
   "metadata": {
    "tags": []
   },
   "outputs": [
    {
     "name": "stdout",
     "output_type": "stream",
     "text": [
      "[30.42139705 25.32201271 30.93787876 29.00076639 28.31367253 25.59109298\n",
      " 23.41776451 19.86003091 11.80079741 19.25221729 19.31757645 21.93417535\n",
      " 21.37335055 19.97132628 19.64471922 19.72477049 21.02876991 17.26683832\n",
      " 16.64190966 18.79414186 12.81454018 18.00166711 16.15317366 14.08888285\n",
      " 15.97706284 13.69000983 15.76077548 15.01071435 19.85567505 21.21061313\n",
      " 11.72464276 18.3364835   9.10541714 14.55587131 13.97628181 24.16472748\n",
      " 22.70101782 23.51285903 23.34895525 31.85526903 34.74192937 28.42640283\n",
      " 25.57831499 24.98137303 23.21504114 22.38303526 20.70575091 18.16912479\n",
      "  9.17214033 17.37968931 21.55074815 24.20356439 28.01255736 24.38286025\n",
      " 15.85263572 31.6059808  25.23437016 33.53013564 22.19397258 21.45986174\n",
      " 18.17861552 18.75425861 24.31445383 22.93434158 23.53074304 30.84518329\n",
      " 25.9540369  21.47886121 17.72849634 21.11394381 25.58675036 22.07846818\n",
      " 24.92619814 24.41509824 25.98547797 24.33459984 23.2360217  23.71881155\n",
      " 21.58385377 22.79609688 28.73302722 27.21653869 26.34687493 25.32380549\n",
      " 24.97732378 27.97674355 22.35447375 26.06681281 30.80902974 31.02594445\n",
      " 27.28511505 27.5563055  29.19860761 29.39695358 27.22161102 28.79614404\n",
      " 24.84670359 35.94783339 35.37459648 32.4257726  24.85776516 25.89453104\n",
      " 20.0234767  20.53991371 21.66134881 18.73676972 17.38912581 20.98345623\n",
      " 22.85504251 19.9776419  20.94827405 26.81625631 21.00490476 20.93861143\n",
      " 25.44123908 20.66356003 23.65937912 23.94113192 20.59963675 21.06965664\n",
      " 21.94034642 22.45932376 20.51543856 16.29975026 20.5059446  22.45119985\n",
      " 14.53917643 15.35833305 19.13232972 14.22673273 20.22284979 19.59168774\n",
      " 20.24234413 15.91863379 13.39748353 17.4296953  16.04571075 19.53460634\n",
      " 13.96188375 16.60682645 13.73156825  4.08357148 14.74845486 12.28157278\n",
      "  8.84572185 12.1721188  15.95399028  8.62880466  9.84133327 14.94338085\n",
      " 20.99461357 18.42668913 20.28622407 17.41133513 22.52813601 20.2874363\n",
      " 13.72748197 33.37102492 29.1052432  25.71184593 32.82165112 36.91188704\n",
      " 40.69947866 42.0107478  24.84589515 25.4352715  37.32199315 23.16297157\n",
      " 26.45422712 26.70576039 22.58256964 24.31452924 22.92674238 29.06307771\n",
      " 26.53277264 30.84263665 25.66796719 29.13566979 31.45085587 32.87310025\n",
      " 34.62810915 27.67451623 33.74974141 30.82169258 22.51750494 24.63046889\n",
      " 35.84976961 33.61237198 32.61069225 34.70344138 30.95142526 30.4475975\n",
      " 33.1022602  32.17165888 31.58625018 40.96811358 36.19751177 32.71625442\n",
      " 34.754189   30.30678923 30.86273158 29.34373596 37.23396777 42.13862022\n",
      " 43.30363186 22.69000509 23.6057361  17.69538514 23.40183674 16.77708274\n",
      " 22.20834922 16.86075832 22.65159117 25.18839834 11.09235723 24.44235563\n",
      " 26.53520799 28.21153957 24.74227369 29.52911804 33.14061928 23.67805844\n",
      " 32.11033508 29.68240025 38.37068874 39.81187415 37.54825779 32.34550555\n",
      " 35.58190428 31.31221916 24.40378821 33.23308579 38.02895205 37.14766235\n",
      " 31.67302505 25.19636902 30.01544105 32.65533812 28.41996109 28.35974332\n",
      " 27.19029328 23.5833775  23.98641715 27.39423202 16.12719914 13.2041989\n",
      " 19.93818651 19.66610772 21.18023066 24.06583464 24.20352449 25.04854184\n",
      " 24.91806676 29.97580804 23.81371673 21.55813262 37.43654737 43.18341167\n",
      " 36.28160169 34.77053443 34.64320806 36.98682933 40.8267578  34.23812432\n",
      " 35.63439477 28.06676673 31.02139827 40.70499467 39.19283544 25.42888975\n",
      " 22.04336076 27.03004534 28.24040884 35.2668753  35.99186163 33.63527939\n",
      " 35.44730791 34.71878016 30.19643441 35.11196464 38.53254304 34.09976342\n",
      " 40.11327505 44.51623817 31.44396346 27.10542275 19.81183849 26.87477735\n",
      " 27.00866261 26.7696527  33.31843141 34.29236001 31.71424616 25.57072738\n",
      " 24.11126092 28.18339313 27.02803392 19.14311962 28.99365117 31.83606162\n",
      " 30.59018499 28.77537105 28.76767619 32.70398382 33.0225376  30.52504973\n",
      " 35.31222994 32.44095823 28.29702061 23.23365397 18.25990212 26.59870271\n",
      " 22.88555029 25.17231723 25.09422797 20.14042307 17.19519875 17.98229416\n",
      " 23.94072237 20.97527017 24.56132084 24.53507552 22.52992478 19.02917901\n",
      " 24.81220272 24.41612645 23.3841792  18.98671188 20.93415281 24.04963543\n",
      " 21.32775291 19.59711793 22.97710448 21.74704545 21.15625406 20.22679585\n",
      " 19.74136764 18.82056527 21.7805566  20.83574822 20.97863291 29.8906293\n",
      " 21.63269943 27.43946155 28.34832294 16.08424336 14.30288119 25.02239646\n",
      " 27.22823085 21.75194412 20.02142075 20.2298277  16.58494963 24.95751893\n",
      " 14.00350942 16.28851378 19.83123182 22.93577963 22.42736307 19.41728877\n",
      " 22.87207108 19.11712069 18.38219864 20.42864091 37.79478903 14.3965585\n",
      " 15.67357477 10.87487788 23.90892248 32.82527659 34.79738618 25.07079499\n",
      " 26.17047915  6.18252292  0.79946992 25.45664507 17.86745014 20.3550913\n",
      " 15.93344584 16.92504873 14.45324184 18.5737954  13.49700162 13.12846551\n",
      "  3.3116058   8.10608908  6.14559837  5.66629024  6.47177569 14.25996726\n",
      " 17.27912146 17.40518433  9.92031135 20.30863805 18.00711156 20.3767602\n",
      " 19.37081256 16.38053882  6.54625441 10.97179392 11.90039359 17.85617871\n",
      " 18.30637757 12.99077469  7.39540335  8.18410318  8.02232868 19.99859522\n",
      " 13.69180559 19.86301566 15.17794846 16.95092421  1.62355578 11.74430507\n",
      " -4.3860489   9.55578009 13.38062009  6.86343817  6.06868681 14.66595204\n",
      " 19.6054378  18.12949311 18.50667761 13.15400869 14.62471262  9.87291007\n",
      " 16.37766421 14.07124419 14.26738595 13.00177165 18.12846934 18.6497714\n",
      " 21.53069715 17.01992313 15.9184301  13.32856875 14.48736305  8.74531456\n",
      "  4.81067538 13.01562768 12.65331475 17.25408293 18.69233579 18.00975913\n",
      " 11.43911175 11.90915494 17.63138264 18.06932234 17.44193984 17.15321953\n",
      " 16.45787906 19.34399907 18.51906811 22.43275644 15.19381277 15.75367239\n",
      " 12.59212904 12.79396562 17.11691884 18.44154714 18.97342281 20.09907337\n",
      " 19.70699948 22.35198053 20.27321707 17.8673461  14.2477401  16.79128683\n",
      " 16.87503555 18.51765057 20.03609969 22.8208224  22.3568697  25.52849007\n",
      " 16.20275328 15.93101438 20.38935069 11.33538136 19.03606036 21.7234998\n",
      " 23.35447661 26.97594865 28.44782199 21.00277048 19.3836943  22.13392396\n",
      " 19.48615137 21.22936172 11.31316313  7.65317876  3.07164588 13.2072754\n",
      " 15.41983886 19.98280236 20.00023714 16.28622611 13.28228788 18.40138918\n",
      " 20.61920339 17.73588128 19.74358163 22.68019642 21.49063257 26.73434731\n",
      " 25.22617427 21.43597016]\n"
     ]
    }
   ],
   "source": [
    "predictions = lm.predict(X) # predict\n",
    "print(predictions)"
   ]
  },
  {
   "cell_type": "code",
   "execution_count": 63,
   "id": "2935858c-5dfa-4747-8836-d9f759a1ceca",
   "metadata": {
    "tags": []
   },
   "outputs": [
    {
     "data": {
      "text/plain": [
       "0.7414197819753733"
      ]
     },
     "execution_count": 63,
     "metadata": {},
     "output_type": "execute_result"
    }
   ],
   "source": [
    "lm.score(X, y)"
   ]
  }
 ],
 "metadata": {
  "kernelspec": {
   "display_name": "Python 3 (ipykernel)",
   "language": "python",
   "name": "python3"
  },
  "language_info": {
   "codemirror_mode": {
    "name": "ipython",
    "version": 3
   },
   "file_extension": ".py",
   "mimetype": "text/x-python",
   "name": "python",
   "nbconvert_exporter": "python",
   "pygments_lexer": "ipython3",
   "version": "3.11.4"
  }
 },
 "nbformat": 4,
 "nbformat_minor": 5
}
