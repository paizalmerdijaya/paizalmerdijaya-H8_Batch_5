{
 "cells": [
  {
   "cell_type": "code",
   "execution_count": 1,
   "id": "74a32020-fe23-4b3a-8e68-90089736121f",
   "metadata": {
    "tags": []
   },
   "outputs": [],
   "source": [
    "import math\n",
    "import statistics as st\n",
    "import numpy as np\n",
    "import scipy.stats as ss\n",
    "import pandas as pd"
   ]
  },
  {
   "cell_type": "code",
   "execution_count": 2,
   "id": "11b2ecc3-4571-4e4b-8af7-9cab7fcafb4b",
   "metadata": {
    "tags": []
   },
   "outputs": [],
   "source": [
    "x = [8.0, 1, 2.5, 4, 28.0]\n",
    "x_with_nan = [8.0, 1, 2.5, math.nan,4, 28.0]"
   ]
  },
  {
   "cell_type": "code",
   "execution_count": 3,
   "id": "9b41162c-120f-46ae-b839-f113bc8fe075",
   "metadata": {
    "tags": []
   },
   "outputs": [
    {
     "name": "stdout",
     "output_type": "stream",
     "text": [
      "[8.0, 1, 2.5, 4, 28.0]\n"
     ]
    }
   ],
   "source": [
    "print(x)"
   ]
  },
  {
   "cell_type": "code",
   "execution_count": 4,
   "id": "8e53c393-c69c-4b6b-abf4-f731fa34b6bf",
   "metadata": {
    "tags": []
   },
   "outputs": [
    {
     "name": "stdout",
     "output_type": "stream",
     "text": [
      "[8.0, 1, 2.5, nan, 4, 28.0]\n"
     ]
    }
   ],
   "source": [
    "print(x_with_nan)"
   ]
  },
  {
   "cell_type": "code",
   "execution_count": 6,
   "id": "dd099e2e-8ea2-4b02-bbdd-84437d8a7afc",
   "metadata": {
    "tags": []
   },
   "outputs": [
    {
     "name": "stdout",
     "output_type": "stream",
     "text": [
      "[ 8.   1.   2.5  4.  28. ]\n",
      "[ 8.   1.   2.5  nan  4.  28. ]\n",
      "0     8.0\n",
      "1     1.0\n",
      "2     2.5\n",
      "3     NaN\n",
      "4     4.0\n",
      "5    28.0\n",
      "dtype: float64\n"
     ]
    }
   ],
   "source": [
    "y, y_with_nan = np.array(x), np.array(x_with_nan)\n",
    "z, z_with_nan = pd.Series(x), pd.Series(x_with_nan)\n",
    "\n",
    "print(y)\n",
    "print(y_with_nan)\n",
    "print(z_with_nan)"
   ]
  },
  {
   "cell_type": "markdown",
   "id": "bee1d1c6-c610-4daf-9f8d-3c6ebeef1798",
   "metadata": {},
   "source": [
    "# Measure of Central Tendency"
   ]
  },
  {
   "cell_type": "markdown",
   "id": "faa9ca52-d938-4432-be68-6feb1255ddca",
   "metadata": {},
   "source": [
    "Mean,\n",
    "Weighted Mean,\n",
    "Geometric Mean,\n",
    "Harmonic Mean,\n",
    "Median,\n",
    "Mode,"
   ]
  },
  {
   "cell_type": "code",
   "execution_count": 7,
   "id": "eb314a2b-eb24-446c-9a14-20e53e429c65",
   "metadata": {
    "tags": []
   },
   "outputs": [
    {
     "data": {
      "text/plain": [
       "8.7"
      ]
     },
     "execution_count": 7,
     "metadata": {},
     "output_type": "execute_result"
    }
   ],
   "source": [
    "mean_ = sum(x) / len(x)\n",
    "mean_"
   ]
  },
  {
   "cell_type": "code",
   "execution_count": 8,
   "id": "170250ad-8e88-4fef-88b7-661f8ae66eea",
   "metadata": {
    "tags": []
   },
   "outputs": [
    {
     "data": {
      "text/plain": [
       "8.7"
      ]
     },
     "execution_count": 8,
     "metadata": {},
     "output_type": "execute_result"
    }
   ],
   "source": [
    "mean_ = st.mean(x)\n",
    "mean_"
   ]
  },
  {
   "cell_type": "code",
   "execution_count": 9,
   "id": "a247eed9-7412-4fbe-8aad-d653489a33ce",
   "metadata": {
    "tags": []
   },
   "outputs": [
    {
     "data": {
      "text/plain": [
       "nan"
      ]
     },
     "execution_count": 9,
     "metadata": {},
     "output_type": "execute_result"
    }
   ],
   "source": [
    "mean_ = st.mean(x_with_nan)\n",
    "mean_"
   ]
  },
  {
   "cell_type": "code",
   "execution_count": 10,
   "id": "139d6ed9-5f6a-4ea8-af63-a8e3fa8ca7d4",
   "metadata": {
    "tags": []
   },
   "outputs": [
    {
     "data": {
      "text/plain": [
       "8.7"
      ]
     },
     "execution_count": 10,
     "metadata": {},
     "output_type": "execute_result"
    }
   ],
   "source": [
    "mean_ = np.mean(y)\n",
    "mean_"
   ]
  },
  {
   "cell_type": "code",
   "execution_count": 11,
   "id": "8ed1bcf4-5d32-4f83-8b45-7bc645ee01bf",
   "metadata": {
    "tags": []
   },
   "outputs": [
    {
     "data": {
      "text/plain": [
       "numpy.ndarray"
      ]
     },
     "execution_count": 11,
     "metadata": {},
     "output_type": "execute_result"
    }
   ],
   "source": [
    "type(y)"
   ]
  },
  {
   "cell_type": "code",
   "execution_count": 12,
   "id": "6196fb88-e3db-4a19-89c3-39b61d016530",
   "metadata": {
    "tags": []
   },
   "outputs": [
    {
     "data": {
      "text/plain": [
       "8.7"
      ]
     },
     "execution_count": 12,
     "metadata": {},
     "output_type": "execute_result"
    }
   ],
   "source": [
    "mean_ = y.mean()\n",
    "mean_"
   ]
  },
  {
   "cell_type": "code",
   "execution_count": 13,
   "id": "a19c0bca-0ebb-456e-a0c6-d121a4557d47",
   "metadata": {
    "tags": []
   },
   "outputs": [
    {
     "name": "stdout",
     "output_type": "stream",
     "text": [
      "nan\n",
      "nan\n"
     ]
    }
   ],
   "source": [
    "print(np.mean(y_with_nan))\n",
    "print(y_with_nan.mean())"
   ]
  },
  {
   "cell_type": "code",
   "execution_count": 14,
   "id": "f30375ea-76c5-47d7-8c5b-9cb5e3d1c1a0",
   "metadata": {
    "tags": []
   },
   "outputs": [
    {
     "data": {
      "text/plain": [
       "8.7"
      ]
     },
     "execution_count": 14,
     "metadata": {},
     "output_type": "execute_result"
    }
   ],
   "source": [
    "np.nanmean(y_with_nan)"
   ]
  },
  {
   "cell_type": "code",
   "execution_count": 15,
   "id": "8a26b5f0-89e3-4253-ac38-e838e14a292b",
   "metadata": {
    "tags": []
   },
   "outputs": [
    {
     "data": {
      "text/plain": [
       "8.7"
      ]
     },
     "execution_count": 15,
     "metadata": {},
     "output_type": "execute_result"
    }
   ],
   "source": [
    "z.mean()"
   ]
  },
  {
   "cell_type": "code",
   "execution_count": 16,
   "id": "a2e25dc5-8dd3-4bb6-9ee7-44decdeab3eb",
   "metadata": {
    "tags": []
   },
   "outputs": [
    {
     "data": {
      "text/plain": [
       "8.7"
      ]
     },
     "execution_count": 16,
     "metadata": {},
     "output_type": "execute_result"
    }
   ],
   "source": [
    "z_with_nan.mean()"
   ]
  },
  {
   "cell_type": "markdown",
   "id": "15481bd7-3e5c-49e3-a676-6c9f7e161f9f",
   "metadata": {},
   "source": [
    "## Weighted Mean"
   ]
  },
  {
   "cell_type": "code",
   "execution_count": 17,
   "id": "4dff3df7-ae88-4783-aee4-f4dde3eaa5ca",
   "metadata": {
    "tags": []
   },
   "outputs": [
    {
     "data": {
      "text/plain": [
       "4.8"
      ]
     },
     "execution_count": 17,
     "metadata": {},
     "output_type": "execute_result"
    }
   ],
   "source": [
    ".2 * 2 + .5 * 4 + .3 * 8"
   ]
  },
  {
   "cell_type": "code",
   "execution_count": 18,
   "id": "20537c9a-3dcd-4c83-8886-877c1f51745e",
   "metadata": {
    "tags": []
   },
   "outputs": [],
   "source": [
    "x = [8.0, 1, 2.5, 4, 28.0]\n",
    "w = [.1, .2, .3, .25, .15]"
   ]
  },
  {
   "cell_type": "code",
   "execution_count": 19,
   "id": "952bd582-67b0-496b-8b30-195b717e58a0",
   "metadata": {
    "tags": []
   },
   "outputs": [
    {
     "data": {
      "text/plain": [
       "6.95"
      ]
     },
     "execution_count": 19,
     "metadata": {},
     "output_type": "execute_result"
    }
   ],
   "source": [
    "wmean1 = sum(w[i] * x[i] for i in range(len(x))) / sum(w)\n",
    "wmean1"
   ]
  },
  {
   "cell_type": "code",
   "execution_count": 20,
   "id": "f4ac4a58-1941-4a86-965e-7e12caeb6aa0",
   "metadata": {
    "tags": []
   },
   "outputs": [
    {
     "data": {
      "text/plain": [
       "6.95"
      ]
     },
     "execution_count": 20,
     "metadata": {},
     "output_type": "execute_result"
    }
   ],
   "source": [
    "wmean2 = sum(w_ * x_ for w_, x_ in zip(w, x)) / sum(w)\n",
    "wmean2"
   ]
  },
  {
   "cell_type": "code",
   "execution_count": 21,
   "id": "288f9662-3c69-4f6b-8c5e-c88e09f43348",
   "metadata": {
    "tags": []
   },
   "outputs": [],
   "source": [
    "y, z, w = np.array(x), pd.Series(x), np.array(w)"
   ]
  },
  {
   "cell_type": "code",
   "execution_count": 22,
   "id": "32d15769-347f-42bb-8109-89463631d51a",
   "metadata": {
    "tags": []
   },
   "outputs": [
    {
     "data": {
      "text/plain": [
       "6.95"
      ]
     },
     "execution_count": 22,
     "metadata": {},
     "output_type": "execute_result"
    }
   ],
   "source": [
    "wmean_arr = np.average(y, weights=w)\n",
    "wmean_arr"
   ]
  },
  {
   "cell_type": "code",
   "execution_count": 23,
   "id": "7354943e-38d4-4b4e-a806-425e85e3a667",
   "metadata": {
    "tags": []
   },
   "outputs": [
    {
     "data": {
      "text/plain": [
       "6.95"
      ]
     },
     "execution_count": 23,
     "metadata": {},
     "output_type": "execute_result"
    }
   ],
   "source": [
    "wmean_ser = np.average(z, weights=w)\n",
    "wmean_ser"
   ]
  },
  {
   "cell_type": "markdown",
   "id": "23f7ca96-3fec-4d1c-bbb7-67eb6bcf9956",
   "metadata": {},
   "source": [
    "## Harmonic Mean"
   ]
  },
  {
   "cell_type": "code",
   "execution_count": 24,
   "id": "e01547db-8594-42b1-a613-5ec537aa2e94",
   "metadata": {
    "tags": []
   },
   "outputs": [
    {
     "data": {
      "text/plain": [
       "[8.0, 1, 2.5, 4, 28.0]"
      ]
     },
     "execution_count": 24,
     "metadata": {},
     "output_type": "execute_result"
    }
   ],
   "source": [
    "x"
   ]
  },
  {
   "cell_type": "code",
   "execution_count": 25,
   "id": "a8f74a02-8e3a-4d5a-9431-208e736f25d7",
   "metadata": {
    "tags": []
   },
   "outputs": [
    {
     "data": {
      "text/plain": [
       "2.7613412228796843"
      ]
     },
     "execution_count": 25,
     "metadata": {},
     "output_type": "execute_result"
    }
   ],
   "source": [
    "hmean_ = len(x) / sum(1/value for value in x)\n",
    "hmean_"
   ]
  },
  {
   "cell_type": "code",
   "execution_count": 26,
   "id": "3135d684-987c-4fcb-841d-8caf1605524a",
   "metadata": {
    "tags": []
   },
   "outputs": [
    {
     "data": {
      "text/plain": [
       "8.7"
      ]
     },
     "execution_count": 26,
     "metadata": {},
     "output_type": "execute_result"
    }
   ],
   "source": [
    "mean_"
   ]
  },
  {
   "cell_type": "code",
   "execution_count": 27,
   "id": "a5cc60da-f4be-4e5c-8cad-d6a8ed2824e4",
   "metadata": {
    "tags": []
   },
   "outputs": [
    {
     "data": {
      "text/plain": [
       "2.7613412228796843"
      ]
     },
     "execution_count": 27,
     "metadata": {},
     "output_type": "execute_result"
    }
   ],
   "source": [
    "hmean = st.harmonic_mean(x)\n",
    "hmean"
   ]
  },
  {
   "cell_type": "code",
   "execution_count": 28,
   "id": "eabdd73a-e3f5-4073-8c39-d3e9995aaed3",
   "metadata": {
    "tags": []
   },
   "outputs": [
    {
     "data": {
      "text/plain": [
       "2.7613412228796843"
      ]
     },
     "execution_count": 28,
     "metadata": {},
     "output_type": "execute_result"
    }
   ],
   "source": [
    "ss.hmean(y)"
   ]
  },
  {
   "cell_type": "code",
   "execution_count": 29,
   "id": "7fc9c2e0-b339-4ac6-9b64-70ede68421c5",
   "metadata": {
    "tags": []
   },
   "outputs": [
    {
     "data": {
      "text/plain": [
       "2.7613412228796843"
      ]
     },
     "execution_count": 29,
     "metadata": {},
     "output_type": "execute_result"
    }
   ],
   "source": [
    "ss.hmean(z)"
   ]
  },
  {
   "cell_type": "markdown",
   "id": "b9ebb8a8-d046-4f61-9f79-175833303642",
   "metadata": {},
   "source": [
    "## Geometric Mean"
   ]
  },
  {
   "cell_type": "code",
   "execution_count": 30,
   "id": "33912683-56d1-4cf5-9817-8a762dc68ba7",
   "metadata": {
    "tags": []
   },
   "outputs": [
    {
     "data": {
      "text/plain": [
       "[8.0, 1, 2.5, 4, 28.0]"
      ]
     },
     "execution_count": 30,
     "metadata": {},
     "output_type": "execute_result"
    }
   ],
   "source": [
    "x"
   ]
  },
  {
   "cell_type": "code",
   "execution_count": 31,
   "id": "bb93c8e4-44f6-409f-a2cd-0322d40bf639",
   "metadata": {
    "tags": []
   },
   "outputs": [
    {
     "data": {
      "text/plain": [
       "4.677885674856041"
      ]
     },
     "execution_count": 31,
     "metadata": {},
     "output_type": "execute_result"
    }
   ],
   "source": [
    "gmean = 1\n",
    "\n",
    "for item in x:\n",
    "    gmean *= item\n",
    "\n",
    "gmean **= 1/len(x)\n",
    "gmean"
   ]
  },
  {
   "cell_type": "code",
   "execution_count": 32,
   "id": "5979b32d-3441-4f86-9244-7c4d66ab75cc",
   "metadata": {
    "tags": []
   },
   "outputs": [
    {
     "data": {
      "text/plain": [
       "4.67788567485604"
      ]
     },
     "execution_count": 32,
     "metadata": {},
     "output_type": "execute_result"
    }
   ],
   "source": [
    "ss.gmean(y)"
   ]
  },
  {
   "cell_type": "code",
   "execution_count": 33,
   "id": "8d9f925f-7bc5-41f1-8df6-fcdacdbbe191",
   "metadata": {
    "tags": []
   },
   "outputs": [
    {
     "data": {
      "text/plain": [
       "4.67788567485604"
      ]
     },
     "execution_count": 33,
     "metadata": {},
     "output_type": "execute_result"
    }
   ],
   "source": [
    "ss.gmean(z)"
   ]
  },
  {
   "cell_type": "markdown",
   "id": "752ded5b-b257-44f3-be5c-3d1dcfe66cf2",
   "metadata": {},
   "source": [
    "## Median"
   ]
  },
  {
   "cell_type": "code",
   "execution_count": 34,
   "id": "1188619f-6a63-4d70-b906-b7e2702330d2",
   "metadata": {
    "tags": []
   },
   "outputs": [
    {
     "data": {
      "text/plain": [
       "4"
      ]
     },
     "execution_count": 34,
     "metadata": {},
     "output_type": "execute_result"
    }
   ],
   "source": [
    "n = len(x)\n",
    "\n",
    "if n%2 :\n",
    "    median_ = sorted(x)[round(0.5*(n-1))]\n",
    "else :\n",
    "    x_ord, index = sorted(x), round(0.5*n)\n",
    "    median_ = 0.5 * (x_ord[index-1] + x_ord[index])\n",
    "    \n",
    "median_"
   ]
  },
  {
   "cell_type": "code",
   "execution_count": 35,
   "id": "0b3a523c-77e8-407b-bee1-13e527e39092",
   "metadata": {
    "tags": []
   },
   "outputs": [
    {
     "data": {
      "text/plain": [
       "[8.0, 1, 2.5, 4, 28.0]"
      ]
     },
     "execution_count": 35,
     "metadata": {},
     "output_type": "execute_result"
    }
   ],
   "source": [
    "x"
   ]
  },
  {
   "cell_type": "code",
   "execution_count": 36,
   "id": "a36b0001-a0d0-405d-898c-f710d4f13330",
   "metadata": {
    "tags": []
   },
   "outputs": [
    {
     "data": {
      "text/plain": [
       "[1, 2.5, 4, 8.0, 28.0]"
      ]
     },
     "execution_count": 36,
     "metadata": {},
     "output_type": "execute_result"
    }
   ],
   "source": [
    "sorted(x)"
   ]
  },
  {
   "cell_type": "code",
   "execution_count": 37,
   "id": "00ac9254-d2b2-44ee-9d85-ecfde8614e71",
   "metadata": {
    "tags": []
   },
   "outputs": [
    {
     "data": {
      "text/plain": [
       "[1, 2.5, 4, 8.0]"
      ]
     },
     "execution_count": 37,
     "metadata": {},
     "output_type": "execute_result"
    }
   ],
   "source": [
    "sorted(x[:-1])"
   ]
  },
  {
   "cell_type": "code",
   "execution_count": 38,
   "id": "baa350de-87b8-441c-9dff-1e70bda04070",
   "metadata": {
    "tags": []
   },
   "outputs": [
    {
     "data": {
      "text/plain": [
       "2.5"
      ]
     },
     "execution_count": 38,
     "metadata": {},
     "output_type": "execute_result"
    }
   ],
   "source": [
    "st.median_low(x[:-1])"
   ]
  },
  {
   "cell_type": "code",
   "execution_count": 39,
   "id": "2ae0ed04-698d-404d-bc48-226598d342f8",
   "metadata": {
    "tags": []
   },
   "outputs": [
    {
     "data": {
      "text/plain": [
       "4"
      ]
     },
     "execution_count": 39,
     "metadata": {},
     "output_type": "execute_result"
    }
   ],
   "source": [
    "\n",
    "st.median_high(x[:-1])"
   ]
  },
  {
   "cell_type": "code",
   "execution_count": 40,
   "id": "86b285b1-3641-4923-b78d-ae7f3653f6e0",
   "metadata": {
    "tags": []
   },
   "outputs": [
    {
     "data": {
      "text/plain": [
       "4.0"
      ]
     },
     "execution_count": 40,
     "metadata": {},
     "output_type": "execute_result"
    }
   ],
   "source": [
    "median_ = np.median(y)\n",
    "median_"
   ]
  },
  {
   "cell_type": "code",
   "execution_count": 41,
   "id": "f272342b-c4e4-4a98-92e3-813be5e0d90c",
   "metadata": {
    "tags": []
   },
   "outputs": [
    {
     "data": {
      "text/plain": [
       "array([ 8. ,  1. ,  2.5,  4. , 28. ])"
      ]
     },
     "execution_count": 41,
     "metadata": {},
     "output_type": "execute_result"
    }
   ],
   "source": [
    "y"
   ]
  },
  {
   "cell_type": "code",
   "execution_count": 42,
   "id": "835d6515-8434-4990-98b2-30e536d770c9",
   "metadata": {
    "tags": []
   },
   "outputs": [
    {
     "data": {
      "text/plain": [
       "3.25"
      ]
     },
     "execution_count": 42,
     "metadata": {},
     "output_type": "execute_result"
    }
   ],
   "source": [
    "median_ = np.median(y[:-1])\n",
    "median_"
   ]
  },
  {
   "cell_type": "markdown",
   "id": "c22ea7fa-5b9a-468d-bdee-b03f392464d2",
   "metadata": {},
   "source": [
    "## Mode / Modus"
   ]
  },
  {
   "cell_type": "code",
   "execution_count": 43,
   "id": "954e2f4b-91e6-4d93-9d06-dd6b957585fc",
   "metadata": {
    "tags": []
   },
   "outputs": [],
   "source": [
    "u = [2, 3, 2, 8, 12]\n",
    "v = [12, 15, 12, 15, 21, 15, 12]"
   ]
  },
  {
   "cell_type": "code",
   "execution_count": 44,
   "id": "d0910e1b-a78f-44c4-9abf-465ce28ef0fd",
   "metadata": {
    "tags": []
   },
   "outputs": [
    {
     "data": {
      "text/plain": [
       "2"
      ]
     },
     "execution_count": 44,
     "metadata": {},
     "output_type": "execute_result"
    }
   ],
   "source": [
    "mode_ = max((u.count(item), item) for item in set(u))[1]\n",
    "mode_"
   ]
  },
  {
   "cell_type": "code",
   "execution_count": 45,
   "id": "b5de800b-7955-4315-a569-f2210b371e3c",
   "metadata": {
    "tags": []
   },
   "outputs": [
    {
     "data": {
      "text/plain": [
       "2"
      ]
     },
     "execution_count": 45,
     "metadata": {},
     "output_type": "execute_result"
    }
   ],
   "source": [
    "mode_ = st.mode(u)\n",
    "mode_"
   ]
  },
  {
   "cell_type": "code",
   "execution_count": 46,
   "id": "ac7952d3-63b2-4b06-9601-4ab2c3099335",
   "metadata": {
    "tags": []
   },
   "outputs": [],
   "source": [
    "u_arr, v_arr = np.array(u), np.array(v)"
   ]
  },
  {
   "cell_type": "code",
   "execution_count": 47,
   "id": "4b7f271d-1673-429f-9161-3b07106a4474",
   "metadata": {
    "tags": []
   },
   "outputs": [
    {
     "name": "stderr",
     "output_type": "stream",
     "text": [
      "C:\\Users\\LENOVO\\AppData\\Local\\Temp\\ipykernel_7936\\944708631.py:1: FutureWarning: Unlike other reduction functions (e.g. `skew`, `kurtosis`), the default behavior of `mode` typically preserves the axis it acts along. In SciPy 1.11.0, this behavior will change: the default value of `keepdims` will become False, the `axis` over which the statistic is taken will be eliminated, and the value None will no longer be accepted. Set `keepdims` to True or False to avoid this warning.\n",
      "  mode_ = ss.mode(u)\n"
     ]
    },
    {
     "data": {
      "text/plain": [
       "ModeResult(mode=array([2]), count=array([2]))"
      ]
     },
     "execution_count": 47,
     "metadata": {},
     "output_type": "execute_result"
    }
   ],
   "source": [
    "mode_ = ss.mode(u)\n",
    "mode_"
   ]
  },
  {
   "cell_type": "code",
   "execution_count": 48,
   "id": "2594dcb9-9042-46e4-bfc5-3dca2486b7ee",
   "metadata": {
    "tags": []
   },
   "outputs": [
    {
     "name": "stderr",
     "output_type": "stream",
     "text": [
      "C:\\Users\\LENOVO\\AppData\\Local\\Temp\\ipykernel_7936\\823396222.py:1: FutureWarning: Unlike other reduction functions (e.g. `skew`, `kurtosis`), the default behavior of `mode` typically preserves the axis it acts along. In SciPy 1.11.0, this behavior will change: the default value of `keepdims` will become False, the `axis` over which the statistic is taken will be eliminated, and the value None will no longer be accepted. Set `keepdims` to True or False to avoid this warning.\n",
      "  mode_ = ss.mode(v)\n"
     ]
    },
    {
     "data": {
      "text/plain": [
       "ModeResult(mode=array([12]), count=array([3]))"
      ]
     },
     "execution_count": 48,
     "metadata": {},
     "output_type": "execute_result"
    }
   ],
   "source": [
    "mode_ = ss.mode(v)\n",
    "mode_"
   ]
  },
  {
   "cell_type": "code",
   "execution_count": 49,
   "id": "d7eb4a80-577b-4bd6-9539-64b433188382",
   "metadata": {
    "tags": []
   },
   "outputs": [
    {
     "data": {
      "text/plain": [
       "array([12])"
      ]
     },
     "execution_count": 49,
     "metadata": {},
     "output_type": "execute_result"
    }
   ],
   "source": [
    "mode_.mode"
   ]
  },
  {
   "cell_type": "code",
   "execution_count": 50,
   "id": "d0dc5a65-771c-459d-b348-100b96d0f36c",
   "metadata": {
    "tags": []
   },
   "outputs": [
    {
     "data": {
      "text/plain": [
       "array([3])"
      ]
     },
     "execution_count": 50,
     "metadata": {},
     "output_type": "execute_result"
    }
   ],
   "source": [
    "mode_.count"
   ]
  },
  {
   "cell_type": "code",
   "execution_count": 51,
   "id": "f2cb1711-a17c-4a8d-b675-3c9d3c66b091",
   "metadata": {
    "tags": []
   },
   "outputs": [],
   "source": [
    "u, v, w = pd.Series(u), pd.Series(v), pd.Series([2, 2, math.nan])"
   ]
  },
  {
   "cell_type": "code",
   "execution_count": 52,
   "id": "fb96d8d9-e009-4c38-8a7b-950886c117ed",
   "metadata": {
    "tags": []
   },
   "outputs": [
    {
     "name": "stdout",
     "output_type": "stream",
     "text": [
      "0    2\n",
      "dtype: int64\n",
      "0    12\n",
      "1    15\n",
      "dtype: int64\n",
      "0    2.0\n",
      "dtype: float64\n"
     ]
    }
   ],
   "source": [
    "print(u.mode())\n",
    "print(v.mode())\n",
    "print(w.mode())"
   ]
  },
  {
   "cell_type": "markdown",
   "id": "f4e4e3bd-b207-4e1a-ae37-1681a1ba6bfc",
   "metadata": {},
   "source": [
    "# Measure of Variabilty"
   ]
  },
  {
   "cell_type": "markdown",
   "id": "13ba6b11-71bc-40ee-8158-66d1d3c719ce",
   "metadata": {},
   "source": [
    "<ul>\n",
    "    <li> Variance </li>\n",
    "    <li> Standard deviation </li>\n",
    "    <li> Skewness </li>\n",
    "    <li> Percentile </li>\n",
    "    <li> Range </li>\n",
    "    <li> Covariance </li>\n",
    "    <li> Correlation </li>\n",
    "</ul>"
   ]
  },
  {
   "cell_type": "markdown",
   "id": "81d3e5e1-b854-4cdc-998b-413d231ed1b0",
   "metadata": {},
   "source": [
    "## Variance"
   ]
  },
  {
   "cell_type": "code",
   "execution_count": 53,
   "id": "36dddd7a-fb1b-450b-8e7a-9877e5dca0a0",
   "metadata": {
    "tags": []
   },
   "outputs": [
    {
     "data": {
      "text/plain": [
       "123.19999999999999"
      ]
     },
     "execution_count": 53,
     "metadata": {},
     "output_type": "execute_result"
    }
   ],
   "source": [
    "n = len(x)\n",
    "\n",
    "mean_ = sum(x) / n\n",
    "\n",
    "var_ = sum((item - mean_)**2 for item in x) / (n - 1)\n",
    "var_"
   ]
  },
  {
   "cell_type": "code",
   "execution_count": 54,
   "id": "214c5e6c-8f1f-4831-ad4c-cf031f1fd716",
   "metadata": {
    "tags": []
   },
   "outputs": [
    {
     "data": {
      "text/plain": [
       "123.2"
      ]
     },
     "execution_count": 54,
     "metadata": {},
     "output_type": "execute_result"
    }
   ],
   "source": [
    "var_ = st.variance(x)\n",
    "var_"
   ]
  },
  {
   "cell_type": "code",
   "execution_count": 55,
   "id": "7173b590-8f9d-49dc-9ff2-b0bba633f6dc",
   "metadata": {
    "tags": []
   },
   "outputs": [
    {
     "data": {
      "text/plain": [
       "123.19999999999999"
      ]
     },
     "execution_count": 55,
     "metadata": {},
     "output_type": "execute_result"
    }
   ],
   "source": [
    "var_ = np.var(y, ddof=1)\n",
    "var_"
   ]
  },
  {
   "cell_type": "code",
   "execution_count": 56,
   "id": "9898b2a6-db9a-4a74-976e-f9eea85ed85e",
   "metadata": {
    "tags": []
   },
   "outputs": [
    {
     "data": {
      "text/plain": [
       "123.19999999999999"
      ]
     },
     "execution_count": 56,
     "metadata": {},
     "output_type": "execute_result"
    }
   ],
   "source": [
    "y.var(ddof=1)"
   ]
  },
  {
   "cell_type": "code",
   "execution_count": 57,
   "id": "e36bffab-7f03-4507-bcad-0ebd61fd2de6",
   "metadata": {
    "tags": []
   },
   "outputs": [
    {
     "data": {
      "text/plain": [
       "123.19999999999999"
      ]
     },
     "execution_count": 57,
     "metadata": {},
     "output_type": "execute_result"
    }
   ],
   "source": [
    "z.var()"
   ]
  },
  {
   "cell_type": "code",
   "execution_count": 58,
   "id": "ca7a2b42-6dcc-4baa-8073-9f4e42090fe9",
   "metadata": {},
   "outputs": [
    {
     "data": {
      "text/plain": [
       "98.55999999999999"
      ]
     },
     "execution_count": 58,
     "metadata": {},
     "output_type": "execute_result"
    }
   ],
   "source": [
    "n = len(x)\n",
    "\n",
    "mean_ = sum(x) / n\n",
    "\n",
    "var_ = sum((item - mean_)**2 for item in x) / n\n",
    "var_"
   ]
  },
  {
   "cell_type": "code",
   "execution_count": 59,
   "id": "0f1d369c-d08a-45fb-a1bc-a7a37ae1d04a",
   "metadata": {},
   "outputs": [
    {
     "data": {
      "text/plain": [
       "98.56"
      ]
     },
     "execution_count": 59,
     "metadata": {},
     "output_type": "execute_result"
    }
   ],
   "source": [
    "st.pvariance(x)"
   ]
  },
  {
   "cell_type": "code",
   "execution_count": 60,
   "id": "c7fdb657-4a7f-4e11-8d3d-1efc8363f08b",
   "metadata": {},
   "outputs": [
    {
     "data": {
      "text/plain": [
       "98.55999999999999"
      ]
     },
     "execution_count": 60,
     "metadata": {},
     "output_type": "execute_result"
    }
   ],
   "source": [
    "y.var()\n",
    "np.var(y)"
   ]
  },
  {
   "cell_type": "markdown",
   "id": "910aa4b5-84d6-4e3b-8e28-217b2aaec4df",
   "metadata": {},
   "source": [
    "## Standard Deviation"
   ]
  },
  {
   "cell_type": "code",
   "execution_count": 61,
   "id": "2d804d8c-2616-407f-b6c1-ac693defb756",
   "metadata": {
    "tags": []
   },
   "outputs": [
    {
     "data": {
      "text/plain": [
       "9.927738916792684"
      ]
     },
     "execution_count": 61,
     "metadata": {},
     "output_type": "execute_result"
    }
   ],
   "source": [
    "std_ = var_ ** .5\n",
    "std_"
   ]
  },
  {
   "cell_type": "code",
   "execution_count": 62,
   "id": "dfd52448-0d0a-4fc7-aab6-f08901a4268a",
   "metadata": {
    "tags": []
   },
   "outputs": [
    {
     "data": {
      "text/plain": [
       "11.099549540409287"
      ]
     },
     "execution_count": 62,
     "metadata": {},
     "output_type": "execute_result"
    }
   ],
   "source": [
    "st.stdev(x)"
   ]
  },
  {
   "cell_type": "code",
   "execution_count": 63,
   "id": "d132f2dd-a665-4436-94a4-691e823a4bfc",
   "metadata": {
    "tags": []
   },
   "outputs": [
    {
     "data": {
      "text/plain": [
       "11.099549540409285"
      ]
     },
     "execution_count": 63,
     "metadata": {},
     "output_type": "execute_result"
    }
   ],
   "source": [
    "np.std(y, ddof=1)"
   ]
  },
  {
   "cell_type": "code",
   "execution_count": 64,
   "id": "bc1f62ab-3b9c-4478-b724-68dbbc85e967",
   "metadata": {
    "tags": []
   },
   "outputs": [
    {
     "data": {
      "text/plain": [
       "11.099549540409285"
      ]
     },
     "execution_count": 64,
     "metadata": {},
     "output_type": "execute_result"
    }
   ],
   "source": [
    "y.std(ddof=1)"
   ]
  },
  {
   "cell_type": "code",
   "execution_count": 65,
   "id": "ab20bafc-d0ff-4f2f-88c2-57f1295f001c",
   "metadata": {
    "tags": []
   },
   "outputs": [
    {
     "data": {
      "text/plain": [
       "11.099549540409285"
      ]
     },
     "execution_count": 65,
     "metadata": {},
     "output_type": "execute_result"
    }
   ],
   "source": [
    "np.nanstd(y_with_nan, ddof=1)"
   ]
  },
  {
   "cell_type": "code",
   "execution_count": 66,
   "id": "44f5f61b-5535-448b-8b5f-7c594c5fa1de",
   "metadata": {
    "tags": []
   },
   "outputs": [
    {
     "data": {
      "text/plain": [
       "11.099549540409285"
      ]
     },
     "execution_count": 66,
     "metadata": {},
     "output_type": "execute_result"
    }
   ],
   "source": [
    "z.std()"
   ]
  },
  {
   "cell_type": "code",
   "execution_count": 67,
   "id": "ba02d04f-bf5a-467b-aa6f-57b59006d286",
   "metadata": {
    "tags": []
   },
   "outputs": [
    {
     "data": {
      "text/plain": [
       "9.927738916792686"
      ]
     },
     "execution_count": 67,
     "metadata": {},
     "output_type": "execute_result"
    }
   ],
   "source": [
    "st.pstdev(x)"
   ]
  },
  {
   "cell_type": "code",
   "execution_count": 68,
   "id": "a36b5280-59c1-4ad2-90fd-4619fbfd030d",
   "metadata": {
    "tags": []
   },
   "outputs": [
    {
     "name": "stdout",
     "output_type": "stream",
     "text": [
      "9.927738916792684\n",
      "9.927738916792684\n"
     ]
    }
   ],
   "source": [
    "print(np.std(y, ddof=0))\n",
    "print(y.std(ddof=0))"
   ]
  },
  {
   "cell_type": "code",
   "execution_count": 69,
   "id": "dbe3d9e1-2d47-45ed-ac79-06582d1a3dbd",
   "metadata": {
    "tags": []
   },
   "outputs": [
    {
     "data": {
      "text/plain": [
       "9.927738916792684"
      ]
     },
     "execution_count": 69,
     "metadata": {},
     "output_type": "execute_result"
    }
   ],
   "source": [
    "z.std(ddof=0)"
   ]
  },
  {
   "cell_type": "markdown",
   "id": "b3c03015-d772-4b4d-8819-842d408a1000",
   "metadata": {},
   "source": [
    "## Skewness"
   ]
  },
  {
   "cell_type": "code",
   "execution_count": 70,
   "id": "3f1a183f-7baa-4e00-b551-55332e996174",
   "metadata": {
    "tags": []
   },
   "outputs": [
    {
     "data": {
      "text/plain": [
       "[8.0, 1, 2.5, 4, 28.0]"
      ]
     },
     "execution_count": 70,
     "metadata": {},
     "output_type": "execute_result"
    }
   ],
   "source": [
    "x"
   ]
  },
  {
   "cell_type": "code",
   "execution_count": 71,
   "id": "14dc761e-ad20-442d-ab7b-c0018b997f5f",
   "metadata": {
    "tags": []
   },
   "outputs": [
    {
     "data": {
      "text/plain": [
       "1.9470432273905929"
      ]
     },
     "execution_count": 71,
     "metadata": {},
     "output_type": "execute_result"
    }
   ],
   "source": [
    "n = len(x)\n",
    "\n",
    "mean_ = sum(x) / n\n",
    "var_ = sum((item - mean_)**2 for item in x) / (n-1)\n",
    "std_ = var_ ** 0.5\n",
    "\n",
    "skew_ = sum((item - mean_)**3 for item in x) * n / ((n-1) * (n-2) * (std_**3))\n",
    "skew_"
   ]
  },
  {
   "cell_type": "code",
   "execution_count": 72,
   "id": "9b6c86d6-025a-45d0-9e15-e247b7d05538",
   "metadata": {
    "tags": []
   },
   "outputs": [
    {
     "data": {
      "text/plain": [
       "1.9470432273905927"
      ]
     },
     "execution_count": 72,
     "metadata": {},
     "output_type": "execute_result"
    }
   ],
   "source": [
    "ss.skew(y, bias=False)"
   ]
  },
  {
   "cell_type": "code",
   "execution_count": 73,
   "id": "8acc2e93-b457-46b9-b6d2-5c8b6354f94c",
   "metadata": {
    "tags": []
   },
   "outputs": [
    {
     "data": {
      "text/plain": [
       "nan"
      ]
     },
     "execution_count": 73,
     "metadata": {},
     "output_type": "execute_result"
    }
   ],
   "source": [
    "ss.skew(y_with_nan, bias=False)"
   ]
  },
  {
   "cell_type": "code",
   "execution_count": 74,
   "id": "d9e0db27-7912-4f4b-85d1-00a5b5d71326",
   "metadata": {
    "tags": []
   },
   "outputs": [
    {
     "name": "stdout",
     "output_type": "stream",
     "text": [
      "    \n",
      "\n",
      "\n",
      "Compute the sample skewness of a data set.\n",
      "\n",
      "For normally distributed data, the skewness should be about zero. For\n",
      "unimodal continuous distributions, a skewness value greater than zero means\n",
      "that there is more weight in the right tail of the distribution. The\n",
      "function `skewtest` can be used to determine if the skewness value\n",
      "is close enough to zero, statistically speaking.\n",
      "\n",
      "Parameters\n",
      "----------\n",
      "a : ndarray\n",
      "    Input array.\n",
      "axis : int or None, default: 0\n",
      "    If an int, the axis of the input along which to compute the statistic.\n",
      "    The statistic of each axis-slice (e.g. row) of the input will appear in a\n",
      "    corresponding element of the output.\n",
      "    If ``None``, the input will be raveled before computing the statistic.\n",
      "bias : bool, optional\n",
      "    If False, then the calculations are corrected for statistical bias.\n",
      "nan_policy : {'propagate', 'omit', 'raise'}\n",
      "    Defines how to handle input NaNs.\n",
      "    \n",
      "    - ``propagate``: if a NaN is present in the axis slice (e.g. row) along\n",
      "      which the  statistic is computed, the corresponding entry of the output\n",
      "      will be NaN.\n",
      "    - ``omit``: NaNs will be omitted when performing the calculation.\n",
      "      If insufficient data remains in the axis slice along which the\n",
      "      statistic is computed, the corresponding entry of the output will be\n",
      "      NaN.\n",
      "    - ``raise``: if a NaN is present, a ``ValueError`` will be raised.\n",
      "keepdims : bool, default: False\n",
      "    If this is set to True, the axes which are reduced are left\n",
      "    in the result as dimensions with size one. With this option,\n",
      "    the result will broadcast correctly against the input array.\n",
      "\n",
      "Returns\n",
      "-------\n",
      "skewness : ndarray\n",
      "    The skewness of values along an axis, returning NaN where all values\n",
      "    are equal.\n",
      "\n",
      "Notes\n",
      "-----\n",
      "The sample skewness is computed as the Fisher-Pearson coefficient\n",
      "of skewness, i.e.\n",
      "\n",
      ".. math::\n",
      "\n",
      "    g_1=\\frac{m_3}{m_2^{3/2}}\n",
      "\n",
      "where\n",
      "\n",
      ".. math::\n",
      "\n",
      "    m_i=\\frac{1}{N}\\sum_{n=1}^N(x[n]-\\bar{x})^i\n",
      "\n",
      "is the biased sample :math:`i\\texttt{th}` central moment, and\n",
      ":math:`\\bar{x}` is\n",
      "the sample mean.  If ``bias`` is False, the calculations are\n",
      "corrected for bias and the value computed is the adjusted\n",
      "Fisher-Pearson standardized moment coefficient, i.e.\n",
      "\n",
      ".. math::\n",
      "\n",
      "    G_1=\\frac{k_3}{k_2^{3/2}}=\n",
      "        \\frac{\\sqrt{N(N-1)}}{N-2}\\frac{m_3}{m_2^{3/2}}.\n",
      "\n",
      "Beginning in SciPy 1.9, ``np.matrix`` inputs (not recommended for new\n",
      "code) are converted to ``np.ndarray`` before the calculation is performed. In\n",
      "this case, the output will be a scalar or ``np.ndarray`` of appropriate shape\n",
      "rather than a 2D ``np.matrix``. Similarly, while masked elements of masked\n",
      "arrays are ignored, the output will be a scalar or ``np.ndarray`` rather than a\n",
      "masked array with ``mask=False``.\n",
      "\n",
      "References\n",
      "----------\n",
      ".. [1] Zwillinger, D. and Kokoska, S. (2000). CRC Standard\n",
      "   Probability and Statistics Tables and Formulae. Chapman & Hall: New\n",
      "   York. 2000.\n",
      "   Section 2.2.24.1\n",
      "\n",
      "Examples\n",
      "--------\n",
      ">>> from scipy.stats import skew\n",
      ">>> skew([1, 2, 3, 4, 5])\n",
      "0.0\n",
      ">>> skew([2, 8, 0, 4, 1, 9, 9, 0])\n",
      "0.2650554122698573\n",
      "\n"
     ]
    }
   ],
   "source": [
    "print(ss.skew.__doc__)"
   ]
  },
  {
   "cell_type": "code",
   "execution_count": 75,
   "id": "8cbc1480-f6c8-48e2-b132-b59ec7df3ee7",
   "metadata": {
    "tags": []
   },
   "outputs": [
    {
     "data": {
      "text/plain": [
       "1.9470432273905924"
      ]
     },
     "execution_count": 75,
     "metadata": {},
     "output_type": "execute_result"
    }
   ],
   "source": [
    "z.skew()"
   ]
  },
  {
   "cell_type": "code",
   "execution_count": 76,
   "id": "59fb13fa-981e-4b85-8acd-7acd1056c71a",
   "metadata": {
    "tags": []
   },
   "outputs": [
    {
     "data": {
      "text/plain": [
       "1.9470432273905924"
      ]
     },
     "execution_count": 76,
     "metadata": {},
     "output_type": "execute_result"
    }
   ],
   "source": [
    "z_with_nan.skew()"
   ]
  },
  {
   "cell_type": "markdown",
   "id": "9345c7de-c47e-4098-a2ee-b0bb46f7c8ed",
   "metadata": {},
   "source": [
    "## Percentile"
   ]
  },
  {
   "cell_type": "code",
   "execution_count": 77,
   "id": "38cb69fc-9084-4bc3-b257-df095aaaa400",
   "metadata": {
    "tags": []
   },
   "outputs": [],
   "source": [
    "x = [-5.0, -1.1, 0.1, 2.0, 8.0, 12.8, 21.0, 25.8, 41.0]"
   ]
  },
  {
   "cell_type": "code",
   "execution_count": 78,
   "id": "3deccb05-bb5d-49ca-abbf-651b35547730",
   "metadata": {
    "tags": []
   },
   "outputs": [
    {
     "data": {
      "text/plain": [
       "[8.0]"
      ]
     },
     "execution_count": 78,
     "metadata": {},
     "output_type": "execute_result"
    }
   ],
   "source": [
    "st.quantiles(x, n=2)"
   ]
  },
  {
   "cell_type": "code",
   "execution_count": 79,
   "id": "0a0a41a4-fc4e-4b76-ac02-b02507fe4421",
   "metadata": {
    "tags": []
   },
   "outputs": [
    {
     "data": {
      "text/plain": [
       "[0.1, 8.0, 21.0]"
      ]
     },
     "execution_count": 79,
     "metadata": {},
     "output_type": "execute_result"
    }
   ],
   "source": [
    "st.quantiles(x, n=4, method='inclusive')"
   ]
  },
  {
   "cell_type": "code",
   "execution_count": 80,
   "id": "565a2f88-a888-4ad0-9ad5-d184e046817e",
   "metadata": {
    "tags": []
   },
   "outputs": [],
   "source": [
    "y = np.array(x)\n"
   ]
  },
  {
   "cell_type": "code",
   "execution_count": 81,
   "id": "514782b2-387a-46f2-919c-417b3f4fbdad",
   "metadata": {
    "tags": []
   },
   "outputs": [
    {
     "data": {
      "text/plain": [
       "-3.44"
      ]
     },
     "execution_count": 81,
     "metadata": {},
     "output_type": "execute_result"
    }
   ],
   "source": [
    "np.percentile(y, 5)"
   ]
  },
  {
   "cell_type": "code",
   "execution_count": 82,
   "id": "d83fe880-21ce-45d8-93a7-5e184ccb92ed",
   "metadata": {
    "tags": []
   },
   "outputs": [
    {
     "data": {
      "text/plain": [
       "34.919999999999995"
      ]
     },
     "execution_count": 82,
     "metadata": {},
     "output_type": "execute_result"
    }
   ],
   "source": [
    "np.percentile(y, 95)"
   ]
  },
  {
   "cell_type": "code",
   "execution_count": 83,
   "id": "13eadeee-b207-4636-bde0-326669906ddc",
   "metadata": {
    "tags": []
   },
   "outputs": [
    {
     "data": {
      "text/plain": [
       "array([ 0.1,  8. , 21. ])"
      ]
     },
     "execution_count": 83,
     "metadata": {},
     "output_type": "execute_result"
    }
   ],
   "source": [
    "np.percentile(y, [25, 50, 75])"
   ]
  },
  {
   "cell_type": "code",
   "execution_count": 84,
   "id": "96f8bdfb-38f4-4082-92a8-f818d785d6a0",
   "metadata": {
    "tags": []
   },
   "outputs": [],
   "source": [
    "y_with_nan = np.insert(y, 2, np.nan)"
   ]
  },
  {
   "cell_type": "code",
   "execution_count": 85,
   "id": "386b182b-4918-44a3-9000-3b5e1962b02d",
   "metadata": {
    "tags": []
   },
   "outputs": [
    {
     "data": {
      "text/plain": [
       "array([-5. , -1.1,  nan,  0.1,  2. ,  8. , 12.8, 21. , 25.8, 41. ])"
      ]
     },
     "execution_count": 85,
     "metadata": {},
     "output_type": "execute_result"
    }
   ],
   "source": [
    "y_with_nan"
   ]
  },
  {
   "cell_type": "code",
   "execution_count": 86,
   "id": "066b1333-7ab9-4ef4-bf7c-b71e075f5368",
   "metadata": {
    "tags": []
   },
   "outputs": [
    {
     "data": {
      "text/plain": [
       "array([ 0.1,  8. , 21. ])"
      ]
     },
     "execution_count": 86,
     "metadata": {},
     "output_type": "execute_result"
    }
   ],
   "source": [
    "np.nanpercentile(y_with_nan, [25, 50, 75])"
   ]
  },
  {
   "cell_type": "code",
   "execution_count": 87,
   "id": "d2449589-2edc-42f7-9e76-389cc6dcb297",
   "metadata": {
    "tags": []
   },
   "outputs": [
    {
     "data": {
      "text/plain": [
       "-3.44"
      ]
     },
     "execution_count": 87,
     "metadata": {},
     "output_type": "execute_result"
    }
   ],
   "source": [
    "np.quantile(y, 0.05)"
   ]
  },
  {
   "cell_type": "code",
   "execution_count": 88,
   "id": "8c5708f7-cfc7-486c-82db-4c8f1afd5450",
   "metadata": {
    "tags": []
   },
   "outputs": [
    {
     "data": {
      "text/plain": [
       "34.919999999999995"
      ]
     },
     "execution_count": 88,
     "metadata": {},
     "output_type": "execute_result"
    }
   ],
   "source": [
    "np.quantile(y, 0.95)"
   ]
  },
  {
   "cell_type": "code",
   "execution_count": 89,
   "id": "47661121-46fc-4761-9019-12c8e741b8b0",
   "metadata": {
    "tags": []
   },
   "outputs": [
    {
     "data": {
      "text/plain": [
       "array([ 0.1,  8. , 21. ])"
      ]
     },
     "execution_count": 89,
     "metadata": {},
     "output_type": "execute_result"
    }
   ],
   "source": [
    "np.quantile(y, [.25, .50, .75])"
   ]
  },
  {
   "cell_type": "code",
   "execution_count": 90,
   "id": "9a9d5e6c-ec3c-4db6-b68c-f51ff4f45d2a",
   "metadata": {
    "tags": []
   },
   "outputs": [],
   "source": [
    "z, z_with_nan = pd.Series(y), pd.Series(y_with_nan)"
   ]
  },
  {
   "cell_type": "code",
   "execution_count": 91,
   "id": "4ce403ce-35f9-46de-b56e-c386e986d87b",
   "metadata": {
    "tags": []
   },
   "outputs": [
    {
     "data": {
      "text/plain": [
       "-3.44"
      ]
     },
     "execution_count": 91,
     "metadata": {},
     "output_type": "execute_result"
    }
   ],
   "source": [
    "z.quantile(0.05)"
   ]
  },
  {
   "cell_type": "code",
   "execution_count": 92,
   "id": "93b1ca13-5102-457a-8006-f8887466201e",
   "metadata": {
    "tags": []
   },
   "outputs": [
    {
     "data": {
      "text/plain": [
       "0.25     0.1\n",
       "0.50     8.0\n",
       "0.75    21.0\n",
       "dtype: float64"
      ]
     },
     "execution_count": 92,
     "metadata": {},
     "output_type": "execute_result"
    }
   ],
   "source": [
    "z.quantile([.25, .50, .75])"
   ]
  },
  {
   "cell_type": "code",
   "execution_count": 93,
   "id": "58791457-022a-4109-ae93-6b9c2fd9c426",
   "metadata": {
    "tags": []
   },
   "outputs": [
    {
     "data": {
      "text/plain": [
       "0.25     0.1\n",
       "0.50     8.0\n",
       "0.75    21.0\n",
       "dtype: float64"
      ]
     },
     "execution_count": 93,
     "metadata": {},
     "output_type": "execute_result"
    }
   ],
   "source": [
    "z_with_nan.quantile([.25, .50, .75])"
   ]
  },
  {
   "cell_type": "markdown",
   "id": "90a46e26-d5dc-4d47-85b1-5bc7e3bfd885",
   "metadata": {},
   "source": [
    "## Range"
   ]
  },
  {
   "cell_type": "code",
   "execution_count": 94,
   "id": "37ac21b1-63ad-4832-917c-63d75be44d53",
   "metadata": {
    "tags": []
   },
   "outputs": [
    {
     "data": {
      "text/plain": [
       "array([-5. , -1.1,  0.1,  2. ,  8. , 12.8, 21. , 25.8, 41. ])"
      ]
     },
     "execution_count": 94,
     "metadata": {},
     "output_type": "execute_result"
    }
   ],
   "source": [
    "y"
   ]
  },
  {
   "cell_type": "code",
   "execution_count": 95,
   "id": "7a86d134-e93c-42b6-bd28-42a9ae6efa1b",
   "metadata": {
    "tags": []
   },
   "outputs": [
    {
     "data": {
      "text/plain": [
       "46.0"
      ]
     },
     "execution_count": 95,
     "metadata": {},
     "output_type": "execute_result"
    }
   ],
   "source": [
    "np.ptp(y)"
   ]
  },
  {
   "cell_type": "code",
   "execution_count": 96,
   "id": "977af968-9334-4fd9-ac4e-388a2cd8b2e1",
   "metadata": {
    "tags": []
   },
   "outputs": [
    {
     "data": {
      "text/plain": [
       "46.0"
      ]
     },
     "execution_count": 96,
     "metadata": {},
     "output_type": "execute_result"
    }
   ],
   "source": [
    "np.ptp(z)"
   ]
  },
  {
   "cell_type": "code",
   "execution_count": 97,
   "id": "ea1db018-4f58-4e3b-89f0-c812bc6f9b0f",
   "metadata": {
    "tags": []
   },
   "outputs": [
    {
     "data": {
      "text/plain": [
       "nan"
      ]
     },
     "execution_count": 97,
     "metadata": {},
     "output_type": "execute_result"
    }
   ],
   "source": [
    "np.ptp(y_with_nan)"
   ]
  },
  {
   "cell_type": "code",
   "execution_count": 98,
   "id": "1376c706-f18b-4538-9af3-d4efc8ffa730",
   "metadata": {
    "tags": []
   },
   "outputs": [
    {
     "data": {
      "text/plain": [
       "0    -5.0\n",
       "1    -1.1\n",
       "2     NaN\n",
       "3     0.1\n",
       "4     2.0\n",
       "5     8.0\n",
       "6    12.8\n",
       "7    21.0\n",
       "8    25.8\n",
       "9    41.0\n",
       "dtype: float64"
      ]
     },
     "execution_count": 98,
     "metadata": {},
     "output_type": "execute_result"
    }
   ],
   "source": [
    "z_with_nan"
   ]
  },
  {
   "cell_type": "code",
   "execution_count": 99,
   "id": "1e069489-803d-4c02-bf6c-a6edd21bb508",
   "metadata": {
    "tags": []
   },
   "outputs": [
    {
     "data": {
      "text/plain": [
       "46.0"
      ]
     },
     "execution_count": 99,
     "metadata": {},
     "output_type": "execute_result"
    }
   ],
   "source": [
    "np.amax(y) - np.amin(y)"
   ]
  },
  {
   "cell_type": "code",
   "execution_count": 100,
   "id": "3d370956-bb38-4e71-839b-1072f990efc9",
   "metadata": {
    "tags": []
   },
   "outputs": [
    {
     "data": {
      "text/plain": [
       "46.0"
      ]
     },
     "execution_count": 100,
     "metadata": {},
     "output_type": "execute_result"
    }
   ],
   "source": [
    "np.nanmax(y_with_nan) - np.nanmin(y_with_nan)"
   ]
  },
  {
   "cell_type": "code",
   "execution_count": 101,
   "id": "97a07c7f-ed94-4bbc-a481-2dbe6ae50aaf",
   "metadata": {
    "tags": []
   },
   "outputs": [
    {
     "data": {
      "text/plain": [
       "46.0"
      ]
     },
     "execution_count": 101,
     "metadata": {},
     "output_type": "execute_result"
    }
   ],
   "source": [
    "y.max() - y.min()"
   ]
  },
  {
   "cell_type": "code",
   "execution_count": 102,
   "id": "d508b33f-c971-4a69-8a41-bcbe5394cd2b",
   "metadata": {
    "tags": []
   },
   "outputs": [
    {
     "data": {
      "text/plain": [
       "46.0"
      ]
     },
     "execution_count": 102,
     "metadata": {},
     "output_type": "execute_result"
    }
   ],
   "source": [
    "z.max() - z.min()"
   ]
  },
  {
   "cell_type": "code",
   "execution_count": 103,
   "id": "6fda3328-c3da-4382-8aec-870b001a1095",
   "metadata": {
    "tags": []
   },
   "outputs": [
    {
     "data": {
      "text/plain": [
       "46.0"
      ]
     },
     "execution_count": 103,
     "metadata": {},
     "output_type": "execute_result"
    }
   ],
   "source": [
    "z_with_nan.max() - z_with_nan.min()"
   ]
  },
  {
   "cell_type": "code",
   "execution_count": 104,
   "id": "c7c4f505-a3ef-4fc1-836a-7dffc84a3adc",
   "metadata": {
    "tags": []
   },
   "outputs": [],
   "source": [
    "# Interquartile Range / IQR\n",
    "# Q3 - Q1\n",
    "quartile = np.quantile(y, [.25, .75])"
   ]
  },
  {
   "cell_type": "code",
   "execution_count": 105,
   "id": "6b8cd33c-273c-483b-afeb-973a535feff5",
   "metadata": {
    "tags": []
   },
   "outputs": [
    {
     "data": {
      "text/plain": [
       "20.9"
      ]
     },
     "execution_count": 105,
     "metadata": {},
     "output_type": "execute_result"
    }
   ],
   "source": [
    "quartile[1] - quartile[0]"
   ]
  },
  {
   "cell_type": "code",
   "execution_count": 106,
   "id": "415d7992-7f65-4f78-bcc6-b82e98f9e2db",
   "metadata": {
    "tags": []
   },
   "outputs": [],
   "source": [
    "quartile = z.quantile([.25, .75])"
   ]
  },
  {
   "cell_type": "code",
   "execution_count": 107,
   "id": "4cafccbf-75af-48d8-8e67-f2934617e6d5",
   "metadata": {
    "tags": []
   },
   "outputs": [
    {
     "data": {
      "text/plain": [
       "20.9"
      ]
     },
     "execution_count": 107,
     "metadata": {},
     "output_type": "execute_result"
    }
   ],
   "source": [
    "quartile[0.75] - quartile[0.25]"
   ]
  },
  {
   "cell_type": "markdown",
   "id": "83599f2a-6296-4f09-8714-4e31d75437f8",
   "metadata": {},
   "source": [
    "## Summary of Descriptive Statistics"
   ]
  },
  {
   "cell_type": "code",
   "execution_count": 108,
   "id": "86289cc6-4ff0-4b15-a954-d82b3096c0c3",
   "metadata": {
    "tags": []
   },
   "outputs": [
    {
     "data": {
      "text/plain": [
       "DescribeResult(nobs=9, minmax=(-5.0, 41.0), mean=11.622222222222222, variance=228.75194444444446, skewness=0.9249043136685094, kurtosis=0.14770623629658886)"
      ]
     },
     "execution_count": 108,
     "metadata": {},
     "output_type": "execute_result"
    }
   ],
   "source": [
    "result = ss.describe(y, ddof=1, bias=False)\n",
    "result"
   ]
  },
  {
   "cell_type": "code",
   "execution_count": 109,
   "id": "3a6feb41-b856-4885-98ed-7bcb31de2a91",
   "metadata": {
    "tags": []
   },
   "outputs": [
    {
     "data": {
      "text/plain": [
       "41.0"
      ]
     },
     "execution_count": 109,
     "metadata": {},
     "output_type": "execute_result"
    }
   ],
   "source": [
    "result.minmax[1]"
   ]
  },
  {
   "cell_type": "code",
   "execution_count": 110,
   "id": "f2551f7e-3ba0-4b55-aeb1-b044a378466e",
   "metadata": {
    "tags": []
   },
   "outputs": [
    {
     "data": {
      "text/plain": [
       "11.622222222222222"
      ]
     },
     "execution_count": 110,
     "metadata": {},
     "output_type": "execute_result"
    }
   ],
   "source": [
    "result.mean"
   ]
  },
  {
   "cell_type": "code",
   "execution_count": 111,
   "id": "003c84bc-924b-4e8b-9be0-ed663452ca19",
   "metadata": {
    "tags": []
   },
   "outputs": [
    {
     "data": {
      "text/plain": [
       "count     9.000000\n",
       "mean     11.622222\n",
       "std      15.124548\n",
       "min      -5.000000\n",
       "25%       0.100000\n",
       "50%       8.000000\n",
       "75%      21.000000\n",
       "max      41.000000\n",
       "dtype: float64"
      ]
     },
     "execution_count": 111,
     "metadata": {},
     "output_type": "execute_result"
    }
   ],
   "source": [
    "result_ = z.describe()\n",
    "result_"
   ]
  },
  {
   "cell_type": "code",
   "execution_count": 112,
   "id": "688f520c-b4c7-451f-9031-04777b706a5b",
   "metadata": {
    "tags": []
   },
   "outputs": [
    {
     "data": {
      "text/plain": [
       "11.622222222222222"
      ]
     },
     "execution_count": 112,
     "metadata": {},
     "output_type": "execute_result"
    }
   ],
   "source": [
    "result_['mean']"
   ]
  },
  {
   "cell_type": "code",
   "execution_count": 113,
   "id": "7b5b1736-007e-4186-b470-d66995256344",
   "metadata": {
    "tags": []
   },
   "outputs": [
    {
     "data": {
      "text/plain": [
       "8.0"
      ]
     },
     "execution_count": 113,
     "metadata": {},
     "output_type": "execute_result"
    }
   ],
   "source": [
    "result_['50%']"
   ]
  },
  {
   "cell_type": "markdown",
   "id": "6430b21e-4d8a-4f9c-bc0b-1ff8ef74c665",
   "metadata": {},
   "source": [
    "# Measure of Correlation Between pairs of Data"
   ]
  },
  {
   "cell_type": "code",
   "execution_count": 114,
   "id": "3447dad1-bbe1-4a5a-bf87-334b7232ba6f",
   "metadata": {
    "tags": []
   },
   "outputs": [],
   "source": [
    "x = list(range(-10, 11))\n",
    "y = [0, 2, 2, 2, 2, 3, 3, 6, 7, 4, 7, 6, 6, 9, 4, 5, 5, 10, 11, 12, 14]"
   ]
  },
  {
   "cell_type": "code",
   "execution_count": 115,
   "id": "e043052a-7cd2-4c40-a3db-3b340c198e21",
   "metadata": {
    "tags": []
   },
   "outputs": [],
   "source": [
    "x_arr, y_arr = np.array(x), np.array(y)\n",
    "x_ser, y_ser = pd.Series(x), pd.Series(y)"
   ]
  },
  {
   "cell_type": "markdown",
   "id": "09cd9b17-5829-44f7-a323-78de08ba03b5",
   "metadata": {},
   "source": [
    "## Covariance"
   ]
  },
  {
   "cell_type": "code",
   "execution_count": 116,
   "id": "3965a58c-bf94-4373-bcd6-e96fc67d5ce5",
   "metadata": {
    "tags": []
   },
   "outputs": [
    {
     "data": {
      "text/plain": [
       "19.95"
      ]
     },
     "execution_count": 116,
     "metadata": {},
     "output_type": "execute_result"
    }
   ],
   "source": [
    "n = len(x)\n",
    "\n",
    "mean_x, mean_y = sum(x)/n , sum(y)/n\n",
    "\n",
    "cov_xy = (sum((x[k] - mean_x) * (y[k] - mean_y) for k in range(n)) / (n-1))\n",
    "\n",
    "cov_xy"
   ]
  },
  {
   "cell_type": "code",
   "execution_count": 117,
   "id": "ca83de40-5ab3-455b-90fc-ab60f48daf79",
   "metadata": {
    "tags": []
   },
   "outputs": [
    {
     "data": {
      "text/plain": [
       "array([[38.5       , 19.95      ],\n",
       "       [19.95      , 13.91428571]])"
      ]
     },
     "execution_count": 117,
     "metadata": {},
     "output_type": "execute_result"
    }
   ],
   "source": [
    "cov_matrix = np.cov(x_arr, y_arr)\n",
    "cov_matrix"
   ]
  },
  {
   "cell_type": "code",
   "execution_count": 118,
   "id": "5ad169c2-de19-46a2-8998-68af565dd399",
   "metadata": {
    "tags": []
   },
   "outputs": [
    {
     "data": {
      "text/plain": [
       "13.914285714285711"
      ]
     },
     "execution_count": 118,
     "metadata": {},
     "output_type": "execute_result"
    }
   ],
   "source": [
    "y_arr.var(ddof=1)"
   ]
  },
  {
   "cell_type": "code",
   "execution_count": 119,
   "id": "1e521b68-a9d5-40ea-95ee-fd78fd975cf0",
   "metadata": {
    "tags": []
   },
   "outputs": [
    {
     "data": {
      "text/plain": [
       "19.95"
      ]
     },
     "execution_count": 119,
     "metadata": {},
     "output_type": "execute_result"
    }
   ],
   "source": [
    "cov_xy = cov_matrix[1,0]\n",
    "cov_xy"
   ]
  },
  {
   "cell_type": "code",
   "execution_count": 120,
   "id": "c0b296a8-737a-4c2c-aaf9-66b496abbd7b",
   "metadata": {
    "tags": []
   },
   "outputs": [
    {
     "data": {
      "text/plain": [
       "19.95"
      ]
     },
     "execution_count": 120,
     "metadata": {},
     "output_type": "execute_result"
    }
   ],
   "source": [
    "y_ser.cov(x_ser)"
   ]
  },
  {
   "cell_type": "markdown",
   "id": "7b1d72e1-201b-4d7c-8f6e-9475329e2243",
   "metadata": {},
   "source": [
    "## Correlation Coefficient"
   ]
  },
  {
   "cell_type": "code",
   "execution_count": 121,
   "id": "b1929d3d-d93f-4329-b056-ba34a2232e54",
   "metadata": {
    "tags": []
   },
   "outputs": [
    {
     "data": {
      "text/plain": [
       "19.95"
      ]
     },
     "execution_count": 121,
     "metadata": {},
     "output_type": "execute_result"
    }
   ],
   "source": [
    "cov_xy"
   ]
  },
  {
   "cell_type": "code",
   "execution_count": 122,
   "id": "c653e4c2-fa5f-4ec1-b986-621af14c2344",
   "metadata": {
    "tags": []
   },
   "outputs": [
    {
     "data": {
      "text/plain": [
       "0.861950005631606"
      ]
     },
     "execution_count": 122,
     "metadata": {},
     "output_type": "execute_result"
    }
   ],
   "source": [
    "var_x = x_arr.var(ddof=1)\n",
    "var_y = y_arr.var(ddof=1)\n",
    "\n",
    "std_x = var_x ** 0.5\n",
    "std_y = var_y ** 0.5\n",
    "\n",
    "r = cov_xy / (std_x * std_y)\n",
    "r"
   ]
  },
  {
   "cell_type": "code",
   "execution_count": 123,
   "id": "b735d79f-03e5-4d88-ac94-4962ea99821d",
   "metadata": {
    "tags": []
   },
   "outputs": [
    {
     "data": {
      "text/plain": [
       "PearsonRResult(statistic=0.861950005631606, pvalue=5.122760847201132e-07)"
      ]
     },
     "execution_count": 123,
     "metadata": {},
     "output_type": "execute_result"
    }
   ],
   "source": [
    "ss.pearsonr(x_arr, y_arr)"
   ]
  },
  {
   "cell_type": "code",
   "execution_count": 124,
   "id": "e0b2288a-957e-43e1-8546-ed842d469209",
   "metadata": {
    "tags": []
   },
   "outputs": [
    {
     "data": {
      "text/plain": [
       "array([[1.        , 0.86195001],\n",
       "       [0.86195001, 1.        ]])"
      ]
     },
     "execution_count": 124,
     "metadata": {},
     "output_type": "execute_result"
    }
   ],
   "source": [
    "corr_matrix = np.corrcoef(x_arr, y_arr)\n",
    "corr_matrix"
   ]
  },
  {
   "cell_type": "code",
   "execution_count": 125,
   "id": "1ea91b8f-de82-4c5a-bb91-5237177ad035",
   "metadata": {
    "tags": []
   },
   "outputs": [
    {
     "data": {
      "text/plain": [
       "0.8619500056316061"
      ]
     },
     "execution_count": 125,
     "metadata": {},
     "output_type": "execute_result"
    }
   ],
   "source": [
    "r = corr_matrix[0, 1]\n",
    "r"
   ]
  },
  {
   "cell_type": "code",
   "execution_count": 126,
   "id": "286214da-cbb6-421c-bf1b-3af4af1085e2",
   "metadata": {
    "tags": []
   },
   "outputs": [],
   "source": [
    "result =ss.linregress(x_arr, y_arr)"
   ]
  },
  {
   "cell_type": "code",
   "execution_count": 127,
   "id": "91b4c383-4172-42f5-bdeb-1ace24eeac4d",
   "metadata": {
    "tags": []
   },
   "outputs": [
    {
     "data": {
      "text/plain": [
       "0.861950005631606"
      ]
     },
     "execution_count": 127,
     "metadata": {},
     "output_type": "execute_result"
    }
   ],
   "source": [
    "result.rvalue"
   ]
  },
  {
   "cell_type": "code",
   "execution_count": 128,
   "id": "815dadbf-5b78-450f-b1ef-0da4fe28a23b",
   "metadata": {
    "tags": []
   },
   "outputs": [
    {
     "data": {
      "text/plain": [
       "0.8619500056316061"
      ]
     },
     "execution_count": 128,
     "metadata": {},
     "output_type": "execute_result"
    }
   ],
   "source": [
    "r = x_ser.corr(y_ser)\n",
    "r"
   ]
  },
  {
   "cell_type": "markdown",
   "id": "4978437b-7692-491a-a141-9ad4c1ee88bf",
   "metadata": {},
   "source": [
    "## Working with 2D Data"
   ]
  },
  {
   "cell_type": "markdown",
   "id": "3ac9fafd-dc97-49d7-86c4-73428aa11596",
   "metadata": {},
   "source": [
    "### Axes"
   ]
  },
  {
   "cell_type": "code",
   "execution_count": 129,
   "id": "ccea21dd-b3d6-4910-9eaf-8b03b8686827",
   "metadata": {
    "tags": []
   },
   "outputs": [],
   "source": [
    "a = np.array([\n",
    "    [1, 1, 1],\n",
    "    [2, 3, 1],\n",
    "    [4, 9, 2],\n",
    "    [8,27, 4],\n",
    "    [16,1, 1]\n",
    "])"
   ]
  },
  {
   "cell_type": "code",
   "execution_count": 130,
   "id": "0f95a04c-f642-464a-b09a-1c5b1aba7e26",
   "metadata": {
    "tags": []
   },
   "outputs": [
    {
     "data": {
      "text/plain": [
       "5.4"
      ]
     },
     "execution_count": 130,
     "metadata": {},
     "output_type": "execute_result"
    }
   ],
   "source": [
    "np.mean(a)"
   ]
  },
  {
   "cell_type": "code",
   "execution_count": 131,
   "id": "a49e28d7-3d05-43a2-bbfa-fde6f67a284f",
   "metadata": {
    "tags": []
   },
   "outputs": [
    {
     "data": {
      "text/plain": [
       "array([1., 2., 4., 8., 1.])"
      ]
     },
     "execution_count": 131,
     "metadata": {},
     "output_type": "execute_result"
    }
   ],
   "source": [
    "np.median(a, axis=1)"
   ]
  },
  {
   "cell_type": "code",
   "execution_count": 132,
   "id": "75369ffa-8430-4802-b497-a267a57f9c11",
   "metadata": {
    "tags": []
   },
   "outputs": [
    {
     "data": {
      "text/plain": [
       "53.40000000000001"
      ]
     },
     "execution_count": 132,
     "metadata": {},
     "output_type": "execute_result"
    }
   ],
   "source": [
    "a.var(ddof=1)"
   ]
  },
  {
   "cell_type": "code",
   "execution_count": 134,
   "id": "cfd3709c-ae71-4f3e-a25a-57900c9236f0",
   "metadata": {
    "tags": []
   },
   "outputs": [
    {
     "data": {
      "text/plain": [
       "array([6.2, 8.2, 1.8])"
      ]
     },
     "execution_count": 134,
     "metadata": {},
     "output_type": "execute_result"
    }
   ],
   "source": [
    "np.mean(a, axis=0)"
   ]
  },
  {
   "cell_type": "code",
   "execution_count": 135,
   "id": "36642dd1-587d-4bff-b151-43facec90895",
   "metadata": {
    "tags": []
   },
   "outputs": [
    {
     "data": {
      "text/plain": [
       "array([ 1.,  2.,  5., 13.,  6.])"
      ]
     },
     "execution_count": 135,
     "metadata": {},
     "output_type": "execute_result"
    }
   ],
   "source": [
    "np.mean(a, axis=1)"
   ]
  },
  {
   "cell_type": "code",
   "execution_count": 136,
   "id": "b602aebe-09b3-48dd-b285-1744f9a12737",
   "metadata": {
    "tags": []
   },
   "outputs": [
    {
     "data": {
      "text/plain": [
       "array([4.        , 3.73719282, 1.51571657])"
      ]
     },
     "execution_count": 136,
     "metadata": {},
     "output_type": "execute_result"
    }
   ],
   "source": [
    "ss.gmean(a)"
   ]
  },
  {
   "cell_type": "code",
   "execution_count": 137,
   "id": "f29d2888-5fc6-45e6-82b0-106fedf45099",
   "metadata": {
    "tags": []
   },
   "outputs": [
    {
     "data": {
      "text/plain": [
       "array([1.        , 1.81712059, 4.16016765, 9.52440631, 2.5198421 ])"
      ]
     },
     "execution_count": 137,
     "metadata": {},
     "output_type": "execute_result"
    }
   ],
   "source": [
    "ss.gmean(a, axis=1)"
   ]
  },
  {
   "cell_type": "code",
   "execution_count": 138,
   "id": "7b2159e0-afd8-4927-9e25-608982f4067e",
   "metadata": {
    "tags": []
   },
   "outputs": [
    {
     "data": {
      "text/plain": [
       "2.829705017016332"
      ]
     },
     "execution_count": 138,
     "metadata": {},
     "output_type": "execute_result"
    }
   ],
   "source": [
    "ss.gmean(a, axis=None)"
   ]
  },
  {
   "cell_type": "code",
   "execution_count": 139,
   "id": "706843a2-1c52-4404-9518-2c08b39916a4",
   "metadata": {
    "tags": []
   },
   "outputs": [
    {
     "data": {
      "text/plain": [
       "array([[ 1,  1,  1],\n",
       "       [ 2,  3,  1],\n",
       "       [ 4,  9,  2],\n",
       "       [ 8, 27,  4],\n",
       "       [16,  1,  1]])"
      ]
     },
     "execution_count": 139,
     "metadata": {},
     "output_type": "execute_result"
    }
   ],
   "source": [
    "a"
   ]
  },
  {
   "cell_type": "code",
   "execution_count": 140,
   "id": "93e7db6a-3722-41b5-aada-e82bc4d0a1f7",
   "metadata": {
    "tags": []
   },
   "outputs": [
    {
     "data": {
      "text/plain": [
       "array([6.2, 8.2, 1.8])"
      ]
     },
     "execution_count": 140,
     "metadata": {},
     "output_type": "execute_result"
    }
   ],
   "source": [
    "ss.describe(a, axis=0).mean"
   ]
  },
  {
   "cell_type": "markdown",
   "id": "3480530e-d2b1-42f7-86a4-fd02977a8fee",
   "metadata": {},
   "source": [
    "### DataFrame"
   ]
  },
  {
   "cell_type": "code",
   "execution_count": 141,
   "id": "677f7556-ca8d-4837-9c87-f9823cd6452e",
   "metadata": {
    "tags": []
   },
   "outputs": [
    {
     "data": {
      "text/html": [
       "<div>\n",
       "<style scoped>\n",
       "    .dataframe tbody tr th:only-of-type {\n",
       "        vertical-align: middle;\n",
       "    }\n",
       "\n",
       "    .dataframe tbody tr th {\n",
       "        vertical-align: top;\n",
       "    }\n",
       "\n",
       "    .dataframe thead th {\n",
       "        text-align: right;\n",
       "    }\n",
       "</style>\n",
       "<table border=\"1\" class=\"dataframe\">\n",
       "  <thead>\n",
       "    <tr style=\"text-align: right;\">\n",
       "      <th></th>\n",
       "      <th>A</th>\n",
       "      <th>B</th>\n",
       "      <th>C</th>\n",
       "    </tr>\n",
       "  </thead>\n",
       "  <tbody>\n",
       "    <tr>\n",
       "      <th>first</th>\n",
       "      <td>1</td>\n",
       "      <td>1</td>\n",
       "      <td>1</td>\n",
       "    </tr>\n",
       "    <tr>\n",
       "      <th>second</th>\n",
       "      <td>2</td>\n",
       "      <td>3</td>\n",
       "      <td>1</td>\n",
       "    </tr>\n",
       "    <tr>\n",
       "      <th>third</th>\n",
       "      <td>4</td>\n",
       "      <td>9</td>\n",
       "      <td>2</td>\n",
       "    </tr>\n",
       "    <tr>\n",
       "      <th>fourth</th>\n",
       "      <td>8</td>\n",
       "      <td>27</td>\n",
       "      <td>4</td>\n",
       "    </tr>\n",
       "    <tr>\n",
       "      <th>fifth</th>\n",
       "      <td>16</td>\n",
       "      <td>1</td>\n",
       "      <td>1</td>\n",
       "    </tr>\n",
       "  </tbody>\n",
       "</table>\n",
       "</div>"
      ],
      "text/plain": [
       "         A   B  C\n",
       "first    1   1  1\n",
       "second   2   3  1\n",
       "third    4   9  2\n",
       "fourth   8  27  4\n",
       "fifth   16   1  1"
      ]
     },
     "execution_count": 141,
     "metadata": {},
     "output_type": "execute_result"
    }
   ],
   "source": [
    "row_names = ['first', 'second', 'third', 'fourth', 'fifth']\n",
    "col_names = ['A', 'B', 'C']\n",
    "df = pd.DataFrame(a, index=row_names, columns=col_names)\n",
    "df"
   ]
  },
  {
   "cell_type": "code",
   "execution_count": 142,
   "id": "5be16c39-9890-4660-9160-b459dd424ac4",
   "metadata": {
    "tags": []
   },
   "outputs": [
    {
     "data": {
      "text/plain": [
       "A    6.2\n",
       "B    8.2\n",
       "C    1.8\n",
       "dtype: float64"
      ]
     },
     "execution_count": 142,
     "metadata": {},
     "output_type": "execute_result"
    }
   ],
   "source": [
    "df.mean()"
   ]
  },
  {
   "cell_type": "code",
   "execution_count": 143,
   "id": "4f393d2e-129d-493c-be03-f56438ed8956",
   "metadata": {
    "tags": []
   },
   "outputs": [
    {
     "data": {
      "text/plain": [
       "A     37.2\n",
       "B    121.2\n",
       "C      1.7\n",
       "dtype: float64"
      ]
     },
     "execution_count": 143,
     "metadata": {},
     "output_type": "execute_result"
    }
   ],
   "source": [
    "df.var()"
   ]
  },
  {
   "cell_type": "code",
   "execution_count": 144,
   "id": "041c3789-d751-4e75-baee-3ef8ae56f07a",
   "metadata": {
    "tags": []
   },
   "outputs": [
    {
     "data": {
      "text/plain": [
       "first      1.0\n",
       "second     2.0\n",
       "third      5.0\n",
       "fourth    13.0\n",
       "fifth      6.0\n",
       "dtype: float64"
      ]
     },
     "execution_count": 144,
     "metadata": {},
     "output_type": "execute_result"
    }
   ],
   "source": [
    "df.mean(axis=1)"
   ]
  },
  {
   "cell_type": "code",
   "execution_count": 145,
   "id": "457f8fc2-9c92-4986-a955-6744691d941e",
   "metadata": {
    "tags": []
   },
   "outputs": [
    {
     "data": {
      "text/plain": [
       "6.2"
      ]
     },
     "execution_count": 145,
     "metadata": {},
     "output_type": "execute_result"
    }
   ],
   "source": [
    "df['A'].mean()"
   ]
  },
  {
   "cell_type": "code",
   "execution_count": 146,
   "id": "34cb8c75-53bf-47d3-8519-e943600c961d",
   "metadata": {
    "tags": []
   },
   "outputs": [
    {
     "data": {
      "text/plain": [
       "37.20000000000001"
      ]
     },
     "execution_count": 146,
     "metadata": {},
     "output_type": "execute_result"
    }
   ],
   "source": [
    "df['A'].var()"
   ]
  },
  {
   "cell_type": "code",
   "execution_count": 147,
   "id": "3c5f2fa6-412e-40a6-8043-1d575c64caaa",
   "metadata": {
    "tags": []
   },
   "outputs": [
    {
     "data": {
      "text/plain": [
       "array([[ 1,  1,  1],\n",
       "       [ 2,  3,  1],\n",
       "       [ 4,  9,  2],\n",
       "       [ 8, 27,  4],\n",
       "       [16,  1,  1]])"
      ]
     },
     "execution_count": 147,
     "metadata": {},
     "output_type": "execute_result"
    }
   ],
   "source": [
    "df.values"
   ]
  },
  {
   "cell_type": "code",
   "execution_count": 148,
   "id": "ac6a9a5b-ae89-4cda-86b9-b2c7bd93c38f",
   "metadata": {
    "tags": []
   },
   "outputs": [
    {
     "data": {
      "text/plain": [
       "array([[ 1,  1,  1],\n",
       "       [ 2,  3,  1],\n",
       "       [ 4,  9,  2],\n",
       "       [ 8, 27,  4],\n",
       "       [16,  1,  1]])"
      ]
     },
     "execution_count": 148,
     "metadata": {},
     "output_type": "execute_result"
    }
   ],
   "source": [
    "df.to_numpy()"
   ]
  },
  {
   "cell_type": "code",
   "execution_count": 149,
   "id": "2eb60fac-6c0c-41ba-869a-20a5b3591a35",
   "metadata": {
    "tags": []
   },
   "outputs": [
    {
     "data": {
      "text/html": [
       "<div>\n",
       "<style scoped>\n",
       "    .dataframe tbody tr th:only-of-type {\n",
       "        vertical-align: middle;\n",
       "    }\n",
       "\n",
       "    .dataframe tbody tr th {\n",
       "        vertical-align: top;\n",
       "    }\n",
       "\n",
       "    .dataframe thead th {\n",
       "        text-align: right;\n",
       "    }\n",
       "</style>\n",
       "<table border=\"1\" class=\"dataframe\">\n",
       "  <thead>\n",
       "    <tr style=\"text-align: right;\">\n",
       "      <th></th>\n",
       "      <th>A</th>\n",
       "      <th>B</th>\n",
       "      <th>C</th>\n",
       "    </tr>\n",
       "  </thead>\n",
       "  <tbody>\n",
       "    <tr>\n",
       "      <th>count</th>\n",
       "      <td>5.00000</td>\n",
       "      <td>5.000000</td>\n",
       "      <td>5.00000</td>\n",
       "    </tr>\n",
       "    <tr>\n",
       "      <th>mean</th>\n",
       "      <td>6.20000</td>\n",
       "      <td>8.200000</td>\n",
       "      <td>1.80000</td>\n",
       "    </tr>\n",
       "    <tr>\n",
       "      <th>std</th>\n",
       "      <td>6.09918</td>\n",
       "      <td>11.009087</td>\n",
       "      <td>1.30384</td>\n",
       "    </tr>\n",
       "    <tr>\n",
       "      <th>min</th>\n",
       "      <td>1.00000</td>\n",
       "      <td>1.000000</td>\n",
       "      <td>1.00000</td>\n",
       "    </tr>\n",
       "    <tr>\n",
       "      <th>25%</th>\n",
       "      <td>2.00000</td>\n",
       "      <td>1.000000</td>\n",
       "      <td>1.00000</td>\n",
       "    </tr>\n",
       "    <tr>\n",
       "      <th>50%</th>\n",
       "      <td>4.00000</td>\n",
       "      <td>3.000000</td>\n",
       "      <td>1.00000</td>\n",
       "    </tr>\n",
       "    <tr>\n",
       "      <th>75%</th>\n",
       "      <td>8.00000</td>\n",
       "      <td>9.000000</td>\n",
       "      <td>2.00000</td>\n",
       "    </tr>\n",
       "    <tr>\n",
       "      <th>max</th>\n",
       "      <td>16.00000</td>\n",
       "      <td>27.000000</td>\n",
       "      <td>4.00000</td>\n",
       "    </tr>\n",
       "  </tbody>\n",
       "</table>\n",
       "</div>"
      ],
      "text/plain": [
       "              A          B        C\n",
       "count   5.00000   5.000000  5.00000\n",
       "mean    6.20000   8.200000  1.80000\n",
       "std     6.09918  11.009087  1.30384\n",
       "min     1.00000   1.000000  1.00000\n",
       "25%     2.00000   1.000000  1.00000\n",
       "50%     4.00000   3.000000  1.00000\n",
       "75%     8.00000   9.000000  2.00000\n",
       "max    16.00000  27.000000  4.00000"
      ]
     },
     "execution_count": 149,
     "metadata": {},
     "output_type": "execute_result"
    }
   ],
   "source": [
    "df.describe()"
   ]
  },
  {
   "cell_type": "code",
   "execution_count": 150,
   "id": "e743b9fb-528f-4af1-bf0e-eac3b81730b4",
   "metadata": {
    "tags": []
   },
   "outputs": [
    {
     "data": {
      "text/plain": [
       "6.2"
      ]
     },
     "execution_count": 150,
     "metadata": {},
     "output_type": "execute_result"
    }
   ],
   "source": [
    "df.describe().at['mean', 'A']"
   ]
  },
  {
   "cell_type": "code",
   "execution_count": 151,
   "id": "7b5f1514-f1dc-40c9-9446-6e59190f4cdf",
   "metadata": {
    "tags": []
   },
   "outputs": [
    {
     "data": {
      "text/plain": [
       "3.0"
      ]
     },
     "execution_count": 151,
     "metadata": {},
     "output_type": "execute_result"
    }
   ],
   "source": [
    "df.describe().at['50%', 'B']"
   ]
  }
 ],
 "metadata": {
  "kernelspec": {
   "display_name": "Python 3 (ipykernel)",
   "language": "python",
   "name": "python3"
  },
  "language_info": {
   "codemirror_mode": {
    "name": "ipython",
    "version": 3
   },
   "file_extension": ".py",
   "mimetype": "text/x-python",
   "name": "python",
   "nbconvert_exporter": "python",
   "pygments_lexer": "ipython3",
   "version": "3.11.4"
  }
 },
 "nbformat": 4,
 "nbformat_minor": 5
}
