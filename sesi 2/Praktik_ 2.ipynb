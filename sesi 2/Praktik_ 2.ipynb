{
 "cells": [
  {
   "cell_type": "markdown",
   "id": "69845943-2b34-4009-99d7-11859af585d2",
   "metadata": {
    "tags": []
   },
   "source": [
    "# Conditional"
   ]
  },
  {
   "cell_type": "code",
   "execution_count": 1,
   "id": "8c4541fb-5549-4bda-b922-73b3c1fc58ae",
   "metadata": {
    "tags": []
   },
   "outputs": [
    {
     "name": "stdout",
     "output_type": "stream",
     "text": [
      "yes\n"
     ]
    }
   ],
   "source": [
    "x = 0\n",
    "y = 5\n",
    "\n",
    "if x < y:\n",
    "    print('yes')"
   ]
  },
  {
   "cell_type": "code",
   "execution_count": 2,
   "id": "5104a071-6440-4c10-a6a4-8c08c9d0433b",
   "metadata": {
    "tags": []
   },
   "outputs": [],
   "source": [
    "if x:\n",
    "    print('yes')"
   ]
  },
  {
   "cell_type": "code",
   "execution_count": 3,
   "id": "43bd0bff-a4b7-4c25-905a-4457b90ba56e",
   "metadata": {
    "tags": []
   },
   "outputs": [
    {
     "name": "stdout",
     "output_type": "stream",
     "text": [
      "yes\n"
     ]
    }
   ],
   "source": [
    "if y:\n",
    "    print('yes')"
   ]
  },
  {
   "cell_type": "code",
   "execution_count": 4,
   "id": "84e9dbcd-fa50-4ce6-b8f0-a23d41831b35",
   "metadata": {
    "tags": []
   },
   "outputs": [],
   "source": [
    "y = -3\n",
    "\n",
    "if x:\n",
    "    print('yes')\n",
    "    print('ok')\n",
    "    \n"
   ]
  },
  {
   "cell_type": "code",
   "execution_count": 5,
   "id": "0ab23965-4133-4071-8d37-1a1e9f344169",
   "metadata": {
    "tags": []
   },
   "outputs": [
    {
     "name": "stdout",
     "output_type": "stream",
     "text": [
      "Expression was True\n",
      "Executing statement in suite\n",
      "...\n",
      "Done\n",
      "After Conditional\n"
     ]
    }
   ],
   "source": [
    "if 'foo' in ['bar', 'baz', 'qux', 'foo']:\n",
    "    print('Expression was True')\n",
    "    print('Executing statement in suite')\n",
    "    print('...')\n",
    "    print('Done')\n",
    "    \n",
    "print('After Conditional')"
   ]
  },
  {
   "cell_type": "code",
   "execution_count": 6,
   "id": "21de5bd6-eac7-403e-b6a1-fb04089fb3fe",
   "metadata": {
    "tags": []
   },
   "outputs": [
    {
     "name": "stdout",
     "output_type": "stream",
     "text": [
      "Outer condition is True\n",
      "Inner Condition 2\n",
      "End of Outer Condition\n",
      "After Conditional\n"
     ]
    }
   ],
   "source": [
    "if 'foo' in ['bar', 'baz', 'foo']:\n",
    "    print('Outer condition is True')\n",
    "    \n",
    "    if 10 > 20:\n",
    "        print('Inner Condition 1')\n",
    "    \n",
    "    if 10 < 20:\n",
    "        print('Inner Condition 2')\n",
    "    \n",
    "    print('End of Outer Condition')\n",
    "    \n",
    "print('After Conditional')"
   ]
  },
  {
   "cell_type": "markdown",
   "id": "6fbaab0c-9229-42e8-8bb1-6ddc66e4e298",
   "metadata": {
    "jp-MarkdownHeadingCollapsed": true,
    "tags": []
   },
   "source": [
    "## The Else Elif clause"
   ]
  },
  {
   "cell_type": "code",
   "execution_count": 7,
   "id": "966b2f33-7e51-4319-a5d4-a068348f9576",
   "metadata": {
    "tags": []
   },
   "outputs": [
    {
     "name": "stdout",
     "output_type": "stream",
     "text": [
      "(second suite)\n",
      "x is large\n"
     ]
    }
   ],
   "source": [
    "x = 60\n",
    "\n",
    "if x < 50: print('(first suite)'); print('x is small')\n",
    "else :\n",
    "    print('(second suite)')\n",
    "    print('x is large')\n"
   ]
  },
  {
   "cell_type": "code",
   "execution_count": 8,
   "id": "ac2a84c9-5233-49f9-b10d-d2f37f2d7948",
   "metadata": {
    "tags": []
   },
   "outputs": [
    {
     "name": "stdout",
     "output_type": "stream",
     "text": [
      "uang tidak cukup\n"
     ]
    }
   ],
   "source": [
    "hargaBuku = 20000\n",
    "hargaMajalah = 5000\n",
    "uang = 2000\n",
    "\n",
    "if uang > hargaBuku:\n",
    "    print('beli Buku')\n",
    "else :\n",
    "    print('uang tidak cukup')"
   ]
  },
  {
   "cell_type": "code",
   "execution_count": 9,
   "id": "30cc7308-3538-4105-8cb7-a0da8805361f",
   "metadata": {
    "tags": []
   },
   "outputs": [
    {
     "name": "stdout",
     "output_type": "stream",
     "text": [
      "uang tidak cukup\n"
     ]
    }
   ],
   "source": [
    "hargaBuku = 20000\n",
    "hargaMajalah = 5000\n",
    "uang = 2000\n",
    "\n",
    "if uang > hargaBuku:\n",
    "    print('beli Buku')\n",
    "elif uang > hargaMajalah:\n",
    "    print('beli Majalah')\n",
    "else :\n",
    "    print('uang tidak cukup')"
   ]
  },
  {
   "cell_type": "code",
   "execution_count": 10,
   "id": "717b93e0-1ea5-4541-919b-f3fa6c978014",
   "metadata": {
    "tags": []
   },
   "outputs": [
    {
     "name": "stdout",
     "output_type": "stream",
     "text": [
      "Hello Hacktiv8\n"
     ]
    }
   ],
   "source": [
    "name = 'Hacktiv8'\n",
    "\n",
    "if name=='Fred':\n",
    "    print('Hello Fred!')\n",
    "elif name=='Xander':\n",
    "    print('Hello Xander')\n",
    "elif name=='Hacktiv8':\n",
    "    print('Hello Hacktiv8')\n",
    "elif name=='Arnorld':\n",
    "    print('Hello Arnold')\n",
    "else :\n",
    "    print(\"I don't know who you are!\")"
   ]
  },
  {
   "cell_type": "code",
   "execution_count": 11,
   "id": "fd3ec52b-3a3f-41be-a693-1550c4fa90bf",
   "metadata": {
    "tags": []
   },
   "outputs": [
    {
     "name": "stdout",
     "output_type": "stream",
     "text": [
      "foo\n"
     ]
    }
   ],
   "source": [
    "if 'a' in 'bar':\n",
    "    print('foo')"
   ]
  },
  {
   "cell_type": "markdown",
   "id": "43bd134d-e1e8-495d-a96a-2593fe4f4351",
   "metadata": {
    "jp-MarkdownHeadingCollapsed": true,
    "tags": []
   },
   "source": [
    "## One Line If Statement"
   ]
  },
  {
   "cell_type": "code",
   "execution_count": 12,
   "id": "6e5b6bcd-9fa6-4a32-8270-0c19a180ae21",
   "metadata": {
    "tags": []
   },
   "outputs": [
    {
     "name": "stdout",
     "output_type": "stream",
     "text": [
      "1\n",
      "2\n",
      "3\n"
     ]
    }
   ],
   "source": [
    "if '' in 'foo': print('1'); print('2'); print('3')"
   ]
  },
  {
   "cell_type": "code",
   "execution_count": 13,
   "id": "e73384e4-72fb-4667-89cd-dc8045ca1536",
   "metadata": {
    "tags": []
   },
   "outputs": [
    {
     "name": "stdout",
     "output_type": "stream",
     "text": [
      "qux\n",
      "quux\n"
     ]
    }
   ],
   "source": [
    "x = 2\n",
    "\n",
    "if x==1 : print('foo'); print('bar'); print('baz')\n",
    "elif x==2 : print('qux'); print('quux')\n",
    "else : print('corge'); print('grault')"
   ]
  },
  {
   "cell_type": "markdown",
   "id": "798e0388-25b7-4623-8cf7-4ce6c2df3951",
   "metadata": {
    "tags": []
   },
   "source": [
    "## Conditional Expression"
   ]
  },
  {
   "attachments": {},
   "cell_type": "markdown",
   "id": "20f53d47-cdc9-496c-ad29-5d52d71cee7c",
   "metadata": {},
   "source": []
  },
  {
   "cell_type": "code",
   "execution_count": 14,
   "id": "49d0f811-e1f9-4c05-a88e-62f458293ab0",
   "metadata": {
    "tags": []
   },
   "outputs": [
    {
     "name": "stdout",
     "output_type": "stream",
     "text": [
      "Lets go to the beach\n"
     ]
    }
   ],
   "source": [
    "raining = False\n",
    "print('Lets go to the', 'beach' if not raining else 'library')"
   ]
  },
  {
   "cell_type": "code",
   "execution_count": 15,
   "id": "0cda971b-056e-4a75-8226-49bd4ddffa83",
   "metadata": {
    "tags": []
   },
   "outputs": [
    {
     "name": "stdout",
     "output_type": "stream",
     "text": [
      "Lets go to the library\n"
     ]
    }
   ],
   "source": [
    "raining = True\n",
    "print('Lets go to the', 'beach' if not raining else 'library')"
   ]
  },
  {
   "cell_type": "code",
   "execution_count": 16,
   "id": "de8f9b8f-309e-49fd-8bcf-dfc6f6a7fd90",
   "metadata": {
    "tags": []
   },
   "outputs": [],
   "source": [
    "age = 12\n",
    "s = 'teen' if age<21 else 'adult'"
   ]
  },
  {
   "cell_type": "code",
   "execution_count": 17,
   "id": "5ab4c057-6776-4ca3-9f34-3f8d0e2babbb",
   "metadata": {
    "tags": []
   },
   "outputs": [
    {
     "data": {
      "text/plain": [
       "'teen'"
      ]
     },
     "execution_count": 17,
     "metadata": {},
     "output_type": "execute_result"
    }
   ],
   "source": [
    "s"
   ]
  },
  {
   "cell_type": "code",
   "execution_count": 18,
   "id": "220f4f6e-cea6-4360-9ebc-4e80cc3de714",
   "metadata": {
    "tags": []
   },
   "outputs": [
    {
     "data": {
      "text/plain": [
       "'no'"
      ]
     },
     "execution_count": 18,
     "metadata": {},
     "output_type": "execute_result"
    }
   ],
   "source": [
    "'yes' if ('qux' in ['foo', 'bar', 'baz']) else 'no'"
   ]
  },
  {
   "cell_type": "markdown",
   "id": "3007cb0c-6fb4-496d-89d6-76959008a4dd",
   "metadata": {
    "tags": []
   },
   "source": [
    "## The Python Pass Statement"
   ]
  },
  {
   "cell_type": "code",
   "execution_count": 19,
   "id": "c066ae7d-fdb0-43d3-a5cf-007600c0bb11",
   "metadata": {
    "tags": []
   },
   "outputs": [
    {
     "name": "stdout",
     "output_type": "stream",
     "text": [
      "foo\n"
     ]
    }
   ],
   "source": [
    "if 1 :\n",
    "    pass\n",
    "print('foo')"
   ]
  },
  {
   "cell_type": "markdown",
   "id": "ce5f58e3-70e1-49dc-9a84-0534d694d8fa",
   "metadata": {
    "tags": []
   },
   "source": [
    "# Python \"while\" loop"
   ]
  },
  {
   "cell_type": "code",
   "execution_count": 20,
   "id": "8e13c1f9-5903-4239-b814-04cb5058bafb",
   "metadata": {
    "tags": []
   },
   "outputs": [
    {
     "name": "stdout",
     "output_type": "stream",
     "text": [
      "4\n",
      "3\n",
      "2\n",
      "1\n",
      "0\n"
     ]
    }
   ],
   "source": [
    "n = 5\n",
    "while n > 0:\n",
    "    n -= 1\n",
    "    print(n)"
   ]
  },
  {
   "cell_type": "code",
   "execution_count": 21,
   "id": "3d17d312-0f19-477b-b845-02fecc90c59d",
   "metadata": {
    "tags": []
   },
   "outputs": [
    {
     "name": "stdout",
     "output_type": "stream",
     "text": [
      "1\n",
      "2\n",
      "3\n",
      "4\n",
      "5\n"
     ]
    }
   ],
   "source": [
    "i = 1\n",
    "while i < 6:\n",
    "    print(i)\n",
    "    i += 1"
   ]
  },
  {
   "cell_type": "markdown",
   "id": "f3ad9bc4-c6c0-48fd-94db-2c0c7eb4f84f",
   "metadata": {
    "tags": []
   },
   "source": [
    "## Break and Continue"
   ]
  },
  {
   "attachments": {},
   "cell_type": "markdown",
   "id": "5e914a6f-3a19-4dca-8589-f0b60f0188a0",
   "metadata": {},
   "source": []
  },
  {
   "cell_type": "code",
   "execution_count": 22,
   "id": "77d9bc99-7448-485e-be14-73137d203163",
   "metadata": {
    "tags": []
   },
   "outputs": [
    {
     "name": "stdout",
     "output_type": "stream",
     "text": [
      "4\n",
      "3\n",
      "Loop Ended.\n"
     ]
    }
   ],
   "source": [
    "n = 5\n",
    "while n > 0:\n",
    "    n -= 1\n",
    "    if n == 2:\n",
    "        break\n",
    "    print(n)\n",
    "print('Loop Ended.')"
   ]
  },
  {
   "cell_type": "code",
   "execution_count": 23,
   "id": "dbd9f985-b979-4c43-a3f1-1db707d22dee",
   "metadata": {
    "tags": []
   },
   "outputs": [
    {
     "name": "stdout",
     "output_type": "stream",
     "text": [
      "4\n",
      "3\n",
      "1\n",
      "0\n",
      "Loop Ended.\n"
     ]
    }
   ],
   "source": [
    "n = 5\n",
    "while n > 0:\n",
    "    n -= 1\n",
    "    if n == 2:\n",
    "        continue\n",
    "    print(n)\n",
    "print('Loop Ended.')"
   ]
  },
  {
   "cell_type": "markdown",
   "id": "614787f7-3fcf-4b4e-8e13-b6d3913f0f8f",
   "metadata": {
    "tags": []
   },
   "source": [
    "## Else clause"
   ]
  },
  {
   "cell_type": "code",
   "execution_count": 24,
   "id": "d8f20a32-f6c4-400e-9641-c2583b4af941",
   "metadata": {
    "tags": []
   },
   "outputs": [
    {
     "name": "stdout",
     "output_type": "stream",
     "text": [
      "4\n",
      "3\n",
      "2\n",
      "1\n",
      "0\n",
      "Loop Ended.\n"
     ]
    }
   ],
   "source": [
    "n = 5\n",
    "while n > 0:\n",
    "    n -= 1\n",
    "    print(n)\n",
    "else :\n",
    "    print('Loop Ended.')"
   ]
  },
  {
   "cell_type": "code",
   "execution_count": 25,
   "id": "ddbf579a-026e-4154-b634-8db50648cd4b",
   "metadata": {
    "tags": []
   },
   "outputs": [
    {
     "name": "stdout",
     "output_type": "stream",
     "text": [
      "4\n",
      "3\n",
      "2\n"
     ]
    }
   ],
   "source": [
    "n = 5\n",
    "while n > 0:\n",
    "    n -= 1\n",
    "    print(n)\n",
    "    if n == 2:\n",
    "        break\n",
    "else :\n",
    "    print('Loop Ended.')"
   ]
  },
  {
   "cell_type": "markdown",
   "id": "df43de71-f3c9-4691-bfdc-373d34ea4a23",
   "metadata": {
    "tags": []
   },
   "source": [
    "## Infinite Loop"
   ]
  },
  {
   "cell_type": "code",
   "execution_count": 26,
   "id": "44f789c9-e569-4383-b288-4d0d304e3899",
   "metadata": {
    "tags": []
   },
   "outputs": [],
   "source": [
    "# while True:\n",
    "#     print('foo')"
   ]
  },
  {
   "cell_type": "markdown",
   "id": "457186a5-8e7c-4926-9460-212a3bdf5842",
   "metadata": {
    "tags": []
   },
   "source": [
    "## Nested while loop"
   ]
  },
  {
   "cell_type": "code",
   "execution_count": 27,
   "id": "96d0db6f-b0e5-486b-9cb9-73f6084790fd",
   "metadata": {
    "tags": []
   },
   "outputs": [
    {
     "name": "stdout",
     "output_type": "stream",
     "text": [
      "foo\n",
      "> baz\n",
      "> qux\n",
      "bar\n",
      "> baz\n",
      "> qux\n"
     ]
    }
   ],
   "source": [
    "a = ['foo', 'bar']\n",
    "\n",
    "while len(a):\n",
    "    print(a.pop(0))\n",
    "    \n",
    "    b = ['baz', 'qux']\n",
    "    while len(b):\n",
    "        print('>', b.pop(0))"
   ]
  },
  {
   "attachments": {},
   "cell_type": "markdown",
   "id": "73ec7450-99c2-4fb8-b668-5e04d609a7d6",
   "metadata": {},
   "source": []
  },
  {
   "attachments": {},
   "cell_type": "markdown",
   "id": "18a4f40e-87cc-4c02-a34f-c0a2a7713007",
   "metadata": {},
   "source": []
  },
  {
   "cell_type": "markdown",
   "id": "c339ad75-a2a7-4941-966d-c6425415dc8f",
   "metadata": {
    "tags": []
   },
   "source": [
    "## One-line while Loop"
   ]
  },
  {
   "cell_type": "code",
   "execution_count": 28,
   "id": "f508c551-a7fb-4210-a304-950f79601888",
   "metadata": {
    "tags": []
   },
   "outputs": [
    {
     "name": "stdout",
     "output_type": "stream",
     "text": [
      "4\n",
      "3\n",
      "2\n",
      "1\n",
      "0\n"
     ]
    }
   ],
   "source": [
    "n = 5\n",
    "\n",
    "while n > 0: n-=1; print(n)"
   ]
  },
  {
   "cell_type": "markdown",
   "id": "29ece3c0-a13b-493f-b473-4bee601c65b9",
   "metadata": {
    "tags": []
   },
   "source": [
    "# Definite Iteration in Progrmamming"
   ]
  },
  {
   "attachments": {},
   "cell_type": "markdown",
   "id": "740a5dcf-2d7e-4ba9-90fc-1129ac1255d9",
   "metadata": {},
   "source": []
  },
  {
   "cell_type": "markdown",
   "id": "bd4e833e-9f22-48fe-890f-5e8be40ed704",
   "metadata": {
    "tags": []
   },
   "source": [
    "## for Loop"
   ]
  },
  {
   "attachments": {},
   "cell_type": "markdown",
   "id": "8a1cfdd8-7f84-4f6b-8091-65a282e65077",
   "metadata": {},
   "source": []
  },
  {
   "cell_type": "code",
   "execution_count": 29,
   "id": "3e6a6150-ab7c-46a8-82e8-193072adf44c",
   "metadata": {},
   "outputs": [
    {
     "name": "stdout",
     "output_type": "stream",
     "text": [
      "foo\n",
      "bar\n",
      "baz\n"
     ]
    }
   ],
   "source": [
    "a = ['foo', 'bar', 'baz']\n",
    "\n",
    "for val in a:\n",
    "    print(val)"
   ]
  },
  {
   "cell_type": "markdown",
   "id": "4008d58f-f003-493f-adfb-fe9f10fbc211",
   "metadata": {},
   "source": [
    "## loop with Dict"
   ]
  },
  {
   "cell_type": "code",
   "execution_count": 30,
   "id": "f629d63a-ced5-46c2-84c6-a6c02004fd10",
   "metadata": {
    "tags": []
   },
   "outputs": [],
   "source": [
    "d = {'foo' : 1,\n",
    "     'bar' : 2,\n",
    "     'baz' : 3}"
   ]
  },
  {
   "cell_type": "code",
   "execution_count": 31,
   "id": "205e5b41-6735-4d4e-a0a9-cc00d490d89b",
   "metadata": {
    "tags": []
   },
   "outputs": [
    {
     "name": "stdout",
     "output_type": "stream",
     "text": [
      "foo\n",
      "bar\n",
      "baz\n"
     ]
    }
   ],
   "source": [
    "for k in d:\n",
    "    print(k)"
   ]
  },
  {
   "cell_type": "code",
   "execution_count": 32,
   "id": "2ebdabe7-2f8f-4aa1-8e09-ea6e8ef6a398",
   "metadata": {
    "tags": []
   },
   "outputs": [
    {
     "data": {
      "text/plain": [
       "2"
      ]
     },
     "execution_count": 32,
     "metadata": {},
     "output_type": "execute_result"
    }
   ],
   "source": [
    "d['bar']"
   ]
  },
  {
   "cell_type": "code",
   "execution_count": 33,
   "id": "8391d51b-9c45-451f-b89d-6c91104d2515",
   "metadata": {
    "tags": []
   },
   "outputs": [
    {
     "name": "stdout",
     "output_type": "stream",
     "text": [
      "1\n",
      "2\n",
      "3\n"
     ]
    }
   ],
   "source": [
    "for k in d:\n",
    "    print(d[k])"
   ]
  },
  {
   "cell_type": "code",
   "execution_count": 34,
   "id": "5cc32b9c-29fd-4f7c-810f-c5089c985ea8",
   "metadata": {
    "tags": []
   },
   "outputs": [
    {
     "name": "stdout",
     "output_type": "stream",
     "text": [
      "1\n",
      "2\n",
      "3\n"
     ]
    }
   ],
   "source": [
    "for k in d.values():\n",
    "    print(k)"
   ]
  },
  {
   "cell_type": "code",
   "execution_count": 35,
   "id": "46c2ed1b-5480-4ec1-9351-126182e760de",
   "metadata": {
    "tags": []
   },
   "outputs": [
    {
     "name": "stdout",
     "output_type": "stream",
     "text": [
      "foo : 1\n",
      "bar : 2\n",
      "baz : 3\n"
     ]
    }
   ],
   "source": [
    "for k, v in d.items():\n",
    "    print(k, ':', v)"
   ]
  },
  {
   "cell_type": "markdown",
   "id": "9703abc9-4b5e-48d8-b32c-528d25795f0f",
   "metadata": {},
   "source": [
    "## Loop with Range"
   ]
  },
  {
   "cell_type": "code",
   "execution_count": 36,
   "id": "242e5d1a-f1f2-4d63-87cf-36f9c90bd811",
   "metadata": {
    "tags": []
   },
   "outputs": [
    {
     "name": "stdout",
     "output_type": "stream",
     "text": [
      "0\n",
      "1\n",
      "2\n",
      "3\n",
      "4\n"
     ]
    }
   ],
   "source": [
    "for n in (0, 1, 2, 3, 4):\n",
    "    print(n)"
   ]
  },
  {
   "cell_type": "code",
   "execution_count": 37,
   "id": "cad03b28-42d4-4a6a-971e-e6cbacf59426",
   "metadata": {
    "tags": []
   },
   "outputs": [
    {
     "name": "stdout",
     "output_type": "stream",
     "text": [
      "0\n",
      "1\n",
      "2\n",
      "3\n",
      "4\n",
      "5\n"
     ]
    }
   ],
   "source": [
    "for n in range(6):\n",
    "    print(n)"
   ]
  },
  {
   "cell_type": "markdown",
   "id": "e549d352-9cd2-4a8e-b7fd-79e19abe4495",
   "metadata": {},
   "source": [
    "## Altering Loop behaviour"
   ]
  },
  {
   "cell_type": "code",
   "execution_count": 38,
   "id": "dde51b34-a338-46a9-ab6d-98f194d597f4",
   "metadata": {
    "tags": []
   },
   "outputs": [
    {
     "name": "stdout",
     "output_type": "stream",
     "text": [
      "foo\n"
     ]
    }
   ],
   "source": [
    "for i in ['foo', 'bar', 'baz', 'qux']:\n",
    "    if 'b' in i:\n",
    "        break\n",
    "    print(i)"
   ]
  },
  {
   "cell_type": "code",
   "execution_count": 39,
   "id": "ba8fa0f8-fbea-40d4-894a-f2c3e2aa9fa5",
   "metadata": {
    "tags": []
   },
   "outputs": [
    {
     "name": "stdout",
     "output_type": "stream",
     "text": [
      "foo\n",
      "qux\n"
     ]
    }
   ],
   "source": [
    "for i in ['foo', 'bar', 'baz', 'qux']:\n",
    "    if 'b' in i:\n",
    "        continue\n",
    "    print(i)"
   ]
  },
  {
   "cell_type": "markdown",
   "id": "9fedbf39-291c-41f8-925d-e811a1dc98b7",
   "metadata": {},
   "source": [
    "## Else Clause"
   ]
  },
  {
   "cell_type": "code",
   "execution_count": 40,
   "id": "a95c6548-b768-4fd5-8917-bdae471bba48",
   "metadata": {
    "tags": []
   },
   "outputs": [
    {
     "name": "stdout",
     "output_type": "stream",
     "text": [
      "foo\n",
      "bar\n",
      "baz\n",
      "qux\n",
      "Done\n"
     ]
    }
   ],
   "source": [
    "for i in ['foo', 'bar', 'baz', 'qux']:\n",
    "    print(i)\n",
    "else : \n",
    "    print('Done')"
   ]
  },
  {
   "cell_type": "code",
   "execution_count": 41,
   "id": "8012e69b-8ddc-41ca-afb4-729e00312f7e",
   "metadata": {
    "tags": []
   },
   "outputs": [
    {
     "name": "stdout",
     "output_type": "stream",
     "text": [
      "foo\n"
     ]
    }
   ],
   "source": [
    "for i in ['foo', 'bar', 'baz', 'qux']:\n",
    "    if 'bar' == i:\n",
    "        break\n",
    "    print(i)\n",
    "else : \n",
    "    print('Done')"
   ]
  },
  {
   "cell_type": "markdown",
   "id": "a4a2535e-08ff-4336-9001-d62fa67134dc",
   "metadata": {},
   "source": [
    "## Example"
   ]
  },
  {
   "cell_type": "code",
   "execution_count": null,
   "id": "354081a8-5cae-41f6-a5b7-e26b645e7873",
   "metadata": {
    "tags": []
   },
   "outputs": [],
   "source": [
    "temp = input('Ketikan Temperatur yang ingin dikonversi, eg. 45F, 120C: ')\n",
    "degree = int(temp[:-1])\n",
    "satuan = temp[-1].upper()\n",
    "\n",
    "if satuan == 'C':\n",
    "    result = int(round((9 * degree) / 5 + 32))\n",
    "elif satuan == 'F':\n",
    "    result = int(round((degree - 32) + 5/ 9))\n",
    "else : \n",
    "    print('Masukan input yang benar')\n",
    "    \n",
    "print('Temperaturnya adalah', result, 'derajat')"
   ]
  },
  {
   "cell_type": "code",
   "execution_count": null,
   "id": "1d433f7f-e7f4-4a4a-bbe0-2e41c390fd25",
   "metadata": {
    "tags": []
   },
   "outputs": [],
   "source": [
    "while True:\n",
    "    msg = input('Ketikan karakter: ').lower()\n",
    "    print(msg)\n",
    "    if msg == 'stop':\n",
    "        break"
   ]
  },
  {
   "cell_type": "code",
   "execution_count": null,
   "id": "382a6dfa-a86a-4dca-92b0-ce40e8312e9b",
   "metadata": {},
   "outputs": [],
   "source": []
  }
 ],
 "metadata": {
  "kernelspec": {
   "display_name": "Python 3 (ipykernel)",
   "language": "python",
   "name": "python3"
  },
  "language_info": {
   "codemirror_mode": {
    "name": "ipython",
    "version": 3
   },
   "file_extension": ".py",
   "mimetype": "text/x-python",
   "name": "python",
   "nbconvert_exporter": "python",
   "pygments_lexer": "ipython3",
   "version": "3.11.4"
  }
 },
 "nbformat": 4,
 "nbformat_minor": 5
}
