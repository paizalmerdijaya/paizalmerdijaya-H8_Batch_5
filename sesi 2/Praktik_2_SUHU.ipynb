{
  "nbformat": 4,
  "nbformat_minor": 0,
  "metadata": {
    "colab": {
      "provenance": []
    },
    "kernelspec": {
      "name": "python3",
      "display_name": "Python 3"
    },
    "language_info": {
      "name": "python"
    }
  },
  "cells": [
    {
      "cell_type": "code",
      "execution_count": null,
      "metadata": {
        "colab": {
          "base_uri": "https://localhost:8080/"
        },
        "id": "-M-1a2Yr7FIm",
        "outputId": "cfe1c2f2-d214-4427-918f-9364875e4a70"
      },
      "outputs": [
        {
          "output_type": "stream",
          "name": "stdout",
          "text": [
            "Ketikan temperatur yang ingin dikonversi, eg. 45F, 128C: 120F\n",
            "Temperaturnya adalah 49 derajat Celsius\n"
          ]
        }
      ],
      "source": [
        "temp = input(\"Ketikan temperatur yang ingin dikonversi, eg. 45F, 128C: \")\n",
        "degree = int(temp[:-1])\n",
        "i_conversion = temp[-1]\n",
        "\n",
        "if i_conversion == \"C\":\n",
        "    result = int(round((9 * degree) / 5 + 32))\n",
        "    print(\"Temperaturnya adalah\", result, \"derajat Fahrenheit\")\n",
        "elif i_conversion == \"F\":\n",
        "    result = int(round((degree - 32) * 5 / 9))\n",
        "    print(\"Temperaturnya adalah\", result, \"derajat Celsius\")\n",
        "else:\n",
        "    print(\"Masukkan input yang benar\")\n"
      ]
    },
    {
      "cell_type": "code",
      "source": [
        "while True:\n",
        "    temp = input(\"Ketikan temperatur yang ingin dikonversi, eg. 45F, 128C: \")\n",
        "    degree = int(temp[:-1])\n",
        "    i_conversion = temp[-1]\n",
        "\n",
        "    if i_conversion == \"C\":\n",
        "        result = int(round((9 * degree) / 5 + 32))\n",
        "        print(\"Temperaturnya adalah\", result, \"derajat Fahrenheit\")\n",
        "    elif i_conversion == \"F\":\n",
        "        result = int(round((degree - 32) * 5 / 9))\n",
        "        print(\"Temperaturnya adalah\", result, \"derajat Celsius\")\n",
        "    else:\n",
        "        print(\"Masukkan input yang benar\")\n",
        "\n",
        "    lanjut = input(\"Apakah Anda ingin melanjutkan? (y/n): \")\n",
        "    if lanjut.lower() != \"y\":\n",
        "        print(\"Terima kasih!\")\n",
        "        break\n"
      ],
      "metadata": {
        "colab": {
          "base_uri": "https://localhost:8080/"
        },
        "id": "8Qo6h5YsF5_T",
        "outputId": "1c46f433-fa20-4c22-b037-ab9df31d4cab"
      },
      "execution_count": null,
      "outputs": [
        {
          "output_type": "stream",
          "name": "stdout",
          "text": [
            "Ketikan temperatur yang ingin dikonversi, eg. 45F, 128C: 190F\n",
            "Temperaturnya adalah 88 derajat Celsius\n",
            "Apakah Anda ingin melanjutkan? (y/n): N\n",
            "Terima kasih!\n"
          ]
        }
      ]
    }
  ]
}